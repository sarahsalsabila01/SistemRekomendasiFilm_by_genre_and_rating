{
  "cells": [
    {
      "cell_type": "markdown",
      "metadata": {},
      "source": [
        "# <center> Profil Dicoding </center>\n",
        "\n",
        "Nama  : Sarah Salsabila\n",
        "\n",
        "Email : m314v4331@dicoding.org\n",
        "\n",
        "Alamat: Karawang , Jawa barat ."
      ]
    },
    {
      "cell_type": "markdown",
      "metadata": {
        "id": "hermfOa7jIYg"
      },
      "source": [
        "## <center> System Recommendation </center>"
      ]
    },
    {
      "cell_type": "markdown",
      "metadata": {
        "id": "92dIlfmqbF78"
      },
      "source": [
        "## proyek Overview\n",
        "Pada proyek kali ini, saya akan mencoba membuat sebuah sistem rekomendasi mengenai film .menurut wikipedia film merupakan serangkaian gambar diam, yang ketika ditampilkan pada layar akan menciptakan ilusi gambar bergerak karena efek fenomena phi. Ilusi optik ini memaksa penonton untuk melihat gerakan berkelanjutan antar objek yang berbeda secara cepat dan berturut-turut.\n",
        "\n",
        "Menonton film pada masa pandemi menjadi salah satu hiburan masyarakat untuk menemani keseharian dikala karantina dan aktivitas yang mengharuskan untuk selalu di rumah saja.Seperti pemberitahuan dari beberapa media, diantaranya kompas.com dan indozone.com pada tahun 2020 , pengguna netflix meningkat sebesar 15,8 juta selama pandemi . netflix merupakan salah satu platform online untuk menonton film . dari artikel tersebut dapat diambil kesimpulan bahwa tingkat minat dalam menonton film selama pandemi meningkat baik melalui platform netflix atau platform lainnya . \n",
        "\n",
        "Saat akan menonton film , seseorang pasti akan merasa kebingungan untuk memilih film apa yang akan di tonton .Karena seperti yang kita tahu film memiliki banyak sekali genre dan juga judul . \n",
        "\n",
        "Oleh sebab itu , saya di sini akan mencoba membuat sistem rekomendasi film untuk membantu melakukan decision dan memberikan saran kepada seseorang mengenai film yang akan di tonton .\n",
        "\n",
        "Berikut beberapa artikel dan refrensi mengenai Film dan sistem rekomedasi film \n",
        "- [kompas, Selama Pandemi Corona, Pengguna Baru Netflix Bertambah 15,8 Juta](https://www.kompas.com/hype/read/2020/05/11/160952866/selama-pandemi-corona-pengguna-baru-netflix-bertambah-158-juta)\n",
        "- [film](https://id.wikipedia.org/wiki/Film)"
      ]
    },
    {
      "cell_type": "markdown",
      "metadata": {
        "id": "dauSlnKYbTml"
      },
      "source": [
        "## Business Understanding\n",
        "Berdasarkan overview proyek di atas mengenai film , sebagai salah satu penikmat film saya juga merasa membutuhkan suatu rekomendasi untuk memilih film . \n",
        "Berdasarkan article yang saya lihat pada [kaskus](https://www.kaskus.co.id/thread/59e86f6aded770d8618b4568/bingung-nonton-film-apa-inilah-tip-memilih-film-berkualitas/) terdapat beberapa faktor yang dapat membantu kita untuk memilih film yang berkualitas atau kita sukai. Seperti ,\n",
        "1. Genre\n",
        "2. Trailer\n",
        "3. Cast\n",
        "4. Sutradara\n",
        "5. Crew produksi\n",
        "6. Komunitas pecinta film.\n",
        "\n",
        "### Problem Statements\n",
        "Dari artikel itulah saya mendapatkan beberapa pertanyaan ,seperti ,\n",
        "1. Apa ada suatu cara untuk membantu menyarankan film kepada seseorang hanya dengan 1 faktor , semisal dari genre (karena seseorang biasanya menonton berdasarkan genre yang dia sukai ) ?\n",
        "2. Apakah ada suatu sistem yang dapat membantu menyarankan film , berdasarkan film - film yang dilihat sebelumnya?\n",
        "3. Dan dapatkah sistem tersebut memberikan rekomendasi lain berdasarkan penilaian dari pengguna lain .\n",
        "\n",
        "### Goals\n",
        "Untuk  menjawab pertanyaan tersebut, saya mencoba membuat predictive analisis dengan tujuan atau goals sebagai berikut:\n",
        "- Membuat sebuah sistem yang dapat membantu seseorang untuk menonton film lain berdasarkan faktor genre .\n",
        "- Membuat sebuah sistem yang dapat memberikan saran film berdasarkan film yang sebelumnya pernah dilihat .\n",
        "- membuat sistem yang dapat memberikan saran film berdasarkan histori pengguna yang pernah memberikan penilaian pada suatu film .\n",
        "\n",
        "### Solution approach\n",
        "Untuk mencapai tujuan serta dapat menyelesaikan permasalahan pada problem statement , Saya akan menggunakan 2 Model filtering :\n",
        "- **Content Based Filtering** \n",
        " Ide dari sistem rekomendasi berbasis konten (content-based filtering) adalah merekomendasikan item yang mirip dengan item yang disukai pengguna pada masa lalu.\n",
        " Content-based filtering mempelajari profil minat pengguna baru berdasarkan data dari objek yang telah dinilai pengguna. Algoritma ini bekerja dengan menyarankan item serupa yang pernah disukai pada masa lalu atau sedang dilihat pada masa kini kepada pengguna. makin banyak informasi yang diberikan pengguna, makin baik akurasi sistem rekomendasi.\n",
        " Nantinya pada model ini saya akan mencoba memberikan rekomendasi berdasarkan film yang sebelumnya dilihat dan menggunakan faktor genre sebagai acuan rekomendasinya .\n",
        " \n",
        "- **Collaborative Filtering**\n",
        " Teknik ini merekomendasikan item yang mirip dengan preferensi pengguna pada masa lalu. Teknik ini membutuhkan data rating dari user untuk menghasilkan rekomendasi sejumlah film yang sesuai dengan preferensi pengguna berdasarkan rating yang telah diberikan sebelumnya. Dari data rating pengguna, kita akan mengidentifikasi film -film yang mirip dan belum pernah dilihat oleh pengguna untuk direkomendasikan. \n"
      ]
    },
    {
      "cell_type": "markdown",
      "metadata": {
        "id": "Az26WmT2kO4K"
      },
      "source": [
        "Untuk hal pertama yang saya lakukan adalah melakukan install kaggle dengan library pip ."
      ]
    },
    {
      "cell_type": "code",
      "execution_count": 1,
      "metadata": {
        "colab": {
          "base_uri": "https://localhost:8080/"
        },
        "id": "G68ofyEr5KY6",
        "outputId": "ca90a0fb-7e8f-446e-e7d1-7aab06c8b139"
      },
      "outputs": [
        {
          "name": "stdout",
          "output_type": "stream",
          "text": [
            "done!\n"
          ]
        }
      ],
      "source": [
        "!pip install -q kaggle\n",
        "print('done!')"
      ]
    },
    {
      "cell_type": "markdown",
      "metadata": {
        "id": "kT9UZzfulCoQ"
      },
      "source": [
        "Selanjutnya melakukan import file pada google colab dengan menginputkan data API akun kaggle saya ."
      ]
    },
    {
      "cell_type": "code",
      "execution_count": 2,
      "metadata": {
        "colab": {
          "base_uri": "https://localhost:8080/",
          "height": 89,
          "resources": {
            "http://localhost:8080/nbextensions/google.colab/files.js": {
              "data": "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",
              "headers": [
                [
                  "content-type",
                  "application/javascript"
                ]
              ],
              "ok": true,
              "status": 200,
              "status_text": ""
            }
          }
        },
        "id": "3c16mYm96sg6",
        "outputId": "11a5f8a9-6c65-41f5-9833-3f2a26bc97d1"
      },
      "outputs": [
        {
          "data": {
            "text/html": [
              "\n",
              "     <input type=\"file\" id=\"files-f7105ec3-45b4-49c5-b169-8599e4b2d62c\" name=\"files[]\" multiple disabled\n",
              "        style=\"border:none\" />\n",
              "     <output id=\"result-f7105ec3-45b4-49c5-b169-8599e4b2d62c\">\n",
              "      Upload widget is only available when the cell has been executed in the\n",
              "      current browser session. Please rerun this cell to enable.\n",
              "      </output>\n",
              "      <script src=\"/nbextensions/google.colab/files.js\"></script> "
            ],
            "text/plain": [
              "<IPython.core.display.HTML object>"
            ]
          },
          "metadata": {},
          "output_type": "display_data"
        },
        {
          "name": "stdout",
          "output_type": "stream",
          "text": [
            "Saving kaggle.json to kaggle.json\n"
          ]
        },
        {
          "data": {
            "text/plain": [
              "{'kaggle.json': b'{\"username\":\"sarahsalsabila\",\"key\":\"2fb235677d20cea78ada8452b42ffda4\"}'}"
            ]
          },
          "execution_count": 2,
          "metadata": {},
          "output_type": "execute_result"
        }
      ],
      "source": [
        "from google.colab import files\n",
        "files.upload()"
      ]
    },
    {
      "cell_type": "markdown",
      "metadata": {
        "id": "DiidNKpIl2kt"
      },
      "source": [
        "membuat direktori baru untuk menyimpan install data kaggle.json"
      ]
    },
    {
      "cell_type": "code",
      "execution_count": 3,
      "metadata": {
        "colab": {
          "base_uri": "https://localhost:8080/"
        },
        "id": "aWVOTGk261mf",
        "outputId": "1dce26f3-6ed3-4a29-c148-a2cc172f7da5"
      },
      "outputs": [
        {
          "name": "stdout",
          "output_type": "stream",
          "text": [
            "kaggle.json\n"
          ]
        }
      ],
      "source": [
        "!mkdir -p ~/.kaggle\n",
        "!cp kaggle.json ~/.kaggle/\n",
        "!chmod 600 ~/.kaggle/kaggle.json\n",
        "!ls ~/.kaggle"
      ]
    },
    {
      "cell_type": "markdown",
      "metadata": {
        "id": "bDR3QG-qmP81"
      },
      "source": [
        "Mengunduh dataset yang akan digunakan , Pada proyek machine learning ini saya menggunakan dataset mengenai daftar film untuk sistem rekomendasi . yaitu Movie Recommendation Data yang dapat diakses pada link berikut [movie recommendation data](https://www.kaggle.com/rohan4050/movie-recommendation-data)\n",
        "\n",
        "\n",
        "Berikut baris code yang harus dilakukan "
      ]
    },
    {
      "cell_type": "code",
      "execution_count": 4,
      "metadata": {
        "colab": {
          "base_uri": "https://localhost:8080/"
        },
        "id": "Ie410ViT7CMv",
        "outputId": "122723a3-977d-429c-c66e-46de5e752295"
      },
      "outputs": [
        {
          "name": "stdout",
          "output_type": "stream",
          "text": [
            "Downloading movie-recommendation-data.zip to /content\n",
            " 38% 5.00M/13.1M [00:01<00:02, 3.70MB/s]\n",
            "100% 13.1M/13.1M [00:01<00:00, 9.39MB/s]\n"
          ]
        }
      ],
      "source": [
        "!kaggle datasets download -d rohan4050/movie-recommendation-data"
      ]
    },
    {
      "cell_type": "markdown",
      "metadata": {
        "id": "wcft1fG4pN3w"
      },
      "source": [
        "Setelah mengunduh data ,langkah berikutnya adalah melakukan unzip pada data .\n",
        "disini saya menyimpan data yang sudah di unzip pada berkas d dengan nama folder movie - recommendation .\n",
        "\n",
        "dengan menggunakan baris kode sebagai berikut :"
      ]
    },
    {
      "cell_type": "code",
      "execution_count": 5,
      "metadata": {
        "colab": {
          "base_uri": "https://localhost:8080/"
        },
        "id": "lfxGFbBz7GKb",
        "outputId": "61d099e9-4b3d-4cfc-b668-9672d477628d"
      },
      "outputs": [
        {
          "name": "stdout",
          "output_type": "stream",
          "text": [
            "Archive:  movie-recommendation-data.zip\n",
            "  inflating: movie_recommendation/ml-latest-small/links.csv  \n",
            "  inflating: movie_recommendation/ml-latest-small/movies.csv  \n",
            "  inflating: movie_recommendation/ml-latest-small/ratings.csv  \n",
            "  inflating: movie_recommendation/ml-latest-small/tags.csv  \n",
            "  inflating: movie_recommendation/movies_metadata.csv  \n"
          ]
        }
      ],
      "source": [
        "!unzip movie-recommendation-data.zip -d movie_recommendation"
      ]
    },
    {
      "cell_type": "markdown",
      "metadata": {
        "id": "qk9nUpvgrRrG"
      },
      "source": [
        "###<center> Data Understanding </center>\n",
        "\n",
        "Pada proyek machine learning ini saya menggunakan dataset mengenai daftar film untuk sistem rekomendasi . yaitu Movie Recommendation Data yang dapat diakses pada link berikut\n",
        "[movie recommendation data](https://www.kaggle.com/rohan4050/movie-recommendation-data)\n",
        "Setelah di unzip terlihat bahwa didalam file movie-recommendation data terdapat 5 buah berkas csv . diantaranya :\n",
        "- links.csv\n",
        "- movies.csv\n",
        "- ratings.csv\n",
        "- tags.csv\n",
        "- movies_metadata.csv\n",
        "\n",
        "Pada proyek machine learning kali ini saya hanya menggunakan 3 file csv saja , yaitu tags,rating dan movies . Oleh sebab itu selanjutnya adalah tahap membaca data atau data loading . \n",
        "\n",
        "lakukan import library pandas , karena kita akan menggunakan fungsi read_csv yang terdapat didalam library pandas .\n",
        "untuk file movies.csv saya definisikan sebagai dataframe movie , lalu tags.csv sebagai dataframe tag dan untuk ratings.csv sebagai dataframe rating.\n",
        "\n",
        "untuk baris kodenya sebagai berikut :"
      ]
    },
    {
      "cell_type": "code",
      "execution_count": 6,
      "metadata": {
        "colab": {
          "base_uri": "https://localhost:8080/"
        },
        "id": "VheCpezZ7H66",
        "outputId": "10c52fc9-3060-4906-f8cb-49902e088aa6"
      },
      "outputs": [
        {
          "name": "stdout",
          "output_type": "stream",
          "text": [
            "okay done sar\n"
          ]
        }
      ],
      "source": [
        "import pandas as pd\n",
        "\n",
        "movie = pd.read_csv('/content/movie_recommendation/ml-latest-small/movies.csv')\n",
        "tags = pd.read_csv('/content/movie_recommendation/ml-latest-small/tags.csv')\n",
        "rating = pd.read_csv('/content/movie_recommendation/ml-latest-small/ratings.csv')\n",
        "\n",
        "print('okay done sar')"
      ]
    },
    {
      "cell_type": "markdown",
      "metadata": {
        "id": "pyFOK6pZs-g-"
      },
      "source": [
        "selanjutnya saya memanggil fungsi columns untuk melihat apa saja nama tabel pada setiap data ."
      ]
    },
    {
      "cell_type": "code",
      "execution_count": 7,
      "metadata": {
        "colab": {
          "base_uri": "https://localhost:8080/"
        },
        "id": "A7eC2jdOTGUs",
        "outputId": "32fb41d1-8af8-4692-a8d7-300a0137cfd7"
      },
      "outputs": [
        {
          "name": "stdout",
          "output_type": "stream",
          "text": [
            " Kolom pada data Movie adalah :  Index(['movieId', 'title', 'genres'], dtype='object')\n",
            " Kolom pada data Tags adalah :  Index(['userId', 'movieId', 'tag', 'timestamp'], dtype='object')\n",
            " Kolom pada data rating adalah :  Index(['userId', 'movieId', 'rating', 'timestamp'], dtype='object')\n"
          ]
        }
      ],
      "source": [
        "print(' Kolom pada data Movie adalah : ', (movie.columns))\n",
        "print(' Kolom pada data Tags adalah : ', (tags.columns))\n",
        "print(' Kolom pada data rating adalah : ', (rating.columns))\n"
      ]
    },
    {
      "cell_type": "markdown",
      "metadata": {
        "id": "TJ5ieI8TtIDP"
      },
      "source": [
        "Informasi yang dapat diambil dari hasil ekesekusi kode tersebut adalah \n",
        "\n",
        "- Dataframe movie memiliki 3 buah kolom yang terdiri dari ['movieId', 'title', 'genres'] .\n",
        "- Dataframe tags memiliki 4 buah kolom terdiri dari ['userId', 'movieId', 'tag', 'timestamp'].\n",
        "- Dataframe rating memiliki 4 buah kolom juga yaitu ['userId', 'movieId', 'rating', 'timestamp'].\n",
        "\n",
        "berikutnya adalah mencoba mengenali data lebih dalam dengan melakukan pengecekan jumlah data, baris dan kolom pada setiap file ."
      ]
    },
    {
      "cell_type": "code",
      "execution_count": 8,
      "metadata": {
        "colab": {
          "base_uri": "https://localhost:8080/"
        },
        "id": "CXgUvAxATmfu",
        "outputId": "8b0b4bf7-b405-439f-cceb-45eaa102b8d7"
      },
      "outputs": [
        {
          "name": "stdout",
          "output_type": "stream",
          "text": [
            "Jumlah data pada movie   :  (9742, 3)\n",
            "Jumlah data pada tags    :  (3683, 4)\n",
            "Jumlah data pada rating  :  (100836, 4)\n",
            "Jumlah data kolom movieId pada Movie   :  9742\n",
            "Jumlah data kolom title pada Movie     :  9737\n",
            "Jumlah data kolom genres pada Movie    :  951\n",
            "Jumlah data kolom movieId pada tags    :  1572\n",
            "Jumlah data kolom userId pada tags     :  58\n",
            "Jumlah data kolom tag pada tags        :  1589\n"
          ]
        }
      ],
      "source": [
        "print('Jumlah data pada movie   : ',(movie.shape))\n",
        "print('Jumlah data pada tags    : ',(tags.shape))\n",
        "print('Jumlah data pada rating  : ',(rating.shape))\n",
        "print('Jumlah data kolom movieId pada Movie   : ',len(movie.movieId.unique()))\n",
        "print('Jumlah data kolom title pada Movie     : ',len(movie.title.unique()))\n",
        "print('Jumlah data kolom genres pada Movie    : ',len(movie.genres.unique()))\n",
        "print('Jumlah data kolom movieId pada tags    : ',len(tags.movieId.unique()))\n",
        "print('Jumlah data kolom userId pada tags     : ',len(tags.userId.unique()))\n",
        "print('Jumlah data kolom tag pada tags        : ',len(tags.tag.unique()))"
      ]
    },
    {
      "cell_type": "markdown",
      "metadata": {
        "id": "vg1v82QFu4cG"
      },
      "source": [
        "Seperti yang terlihat bahwasannya dataframe movie memiliki 9742 baris dan 3 kolom , tags memiliki 3683 baris dan 4 kolom , dan rating dengan 100836 baris dengan 4 kolom .\n",
        "\n",
        "langkah berikutnya adalah pengecekan apakah data memiliki nilai null , duplicat dan mencari tahu informasi lebih dalam tentang data melalui fungsi describe atau info ."
      ]
    },
    {
      "cell_type": "markdown",
      "metadata": {
        "id": "6wjY12qZvwG7"
      },
      "source": [
        "Melihat apakah dataframe movie memiliki nilai yang berduplikat."
      ]
    },
    {
      "cell_type": "code",
      "execution_count": 9,
      "metadata": {
        "colab": {
          "base_uri": "https://localhost:8080/"
        },
        "id": "-rJi7S7rVBTq",
        "outputId": "3e616dae-2cb5-403f-b62c-2c3515a74cc1"
      },
      "outputs": [
        {
          "data": {
            "text/plain": [
              "0"
            ]
          },
          "execution_count": 9,
          "metadata": {},
          "output_type": "execute_result"
        }
      ],
      "source": [
        "movie.duplicated().sum()"
      ]
    },
    {
      "cell_type": "markdown",
      "metadata": {
        "id": "X9ypq_Yrv2E_"
      },
      "source": [
        "melihat apakah dataframe movie memiliki nilai null ."
      ]
    },
    {
      "cell_type": "code",
      "execution_count": 10,
      "metadata": {
        "colab": {
          "base_uri": "https://localhost:8080/"
        },
        "id": "1NEYfhAjVXK-",
        "outputId": "423daccb-3311-4b1e-de72-4bb36d615c69"
      },
      "outputs": [
        {
          "data": {
            "text/plain": [
              "movieId    0\n",
              "title      0\n",
              "genres     0\n",
              "dtype: int64"
            ]
          },
          "execution_count": 10,
          "metadata": {},
          "output_type": "execute_result"
        }
      ],
      "source": [
        "movie.isnull().sum()"
      ]
    },
    {
      "cell_type": "markdown",
      "metadata": {
        "id": "1jc8_HEAwBzo"
      },
      "source": [
        "memanggil fungsi info() untuk mengetahui macam-macam tipe data pada dataframe movie"
      ]
    },
    {
      "cell_type": "code",
      "execution_count": 11,
      "metadata": {
        "colab": {
          "base_uri": "https://localhost:8080/"
        },
        "id": "AZpvPHsNVkyC",
        "outputId": "309dc1a2-42de-4a98-b6d6-ef093301a3f8"
      },
      "outputs": [
        {
          "name": "stdout",
          "output_type": "stream",
          "text": [
            "<class 'pandas.core.frame.DataFrame'>\n",
            "RangeIndex: 9742 entries, 0 to 9741\n",
            "Data columns (total 3 columns):\n",
            " #   Column   Non-Null Count  Dtype \n",
            "---  ------   --------------  ----- \n",
            " 0   movieId  9742 non-null   int64 \n",
            " 1   title    9742 non-null   object\n",
            " 2   genres   9742 non-null   object\n",
            "dtypes: int64(1), object(2)\n",
            "memory usage: 228.5+ KB\n"
          ]
        }
      ],
      "source": [
        "movie.info()"
      ]
    },
    {
      "cell_type": "markdown",
      "metadata": {
        "id": "PF-t7JwOwSPc"
      },
      "source": [
        "Melihat nilai pada kolom genres, apa saja genre yang masuk pada kolom tersebut ."
      ]
    },
    {
      "cell_type": "code",
      "execution_count": 12,
      "metadata": {
        "colab": {
          "base_uri": "https://localhost:8080/"
        },
        "id": "x6kL_fa3VoYR",
        "outputId": "8d0fd136-0075-493d-9b3c-69fcf7901b55"
      },
      "outputs": [
        {
          "name": "stdout",
          "output_type": "stream",
          "text": [
            "Jenis genre yang ada :  ['Adventure|Animation|Children|Comedy|Fantasy'\n",
            " 'Adventure|Children|Fantasy' 'Comedy|Romance' 'Comedy|Drama|Romance'\n",
            " 'Comedy' 'Action|Crime|Thriller' 'Adventure|Children' 'Action'\n",
            " 'Action|Adventure|Thriller' 'Comedy|Horror'\n",
            " 'Adventure|Animation|Children' 'Drama' 'Action|Adventure|Romance'\n",
            " 'Crime|Drama' 'Drama|Romance' 'Action|Comedy|Crime|Drama|Thriller'\n",
            " 'Comedy|Crime|Thriller' 'Crime|Drama|Horror|Mystery|Thriller'\n",
            " 'Drama|Sci-Fi' 'Children|Drama' 'Adventure|Drama|Fantasy|Mystery|Sci-Fi'\n",
            " 'Mystery|Sci-Fi|Thriller' 'Children|Comedy' 'Drama|War'\n",
            " 'Action|Crime|Drama' 'Action|Adventure|Fantasy' 'Comedy|Drama|Thriller'\n",
            " 'Mystery|Thriller' 'Animation|Children|Drama|Musical|Romance'\n",
            " 'Crime|Mystery|Thriller' 'Adventure|Drama' 'Drama|Thriller'\n",
            " 'Comedy|Crime' 'Action|Sci-Fi|Thriller' 'Action|Comedy|Horror|Thriller'\n",
            " 'Comedy|Drama' 'Documentary' 'Action|Crime|Drama|Thriller'\n",
            " 'Crime|Drama|Romance' 'Action|Adventure|Drama' 'Action|Thriller'\n",
            " 'Drama|Horror|Thriller' 'Comedy|Horror|Romance'\n",
            " 'Adventure|Comedy|Crime|Romance' 'Adventure|Children|Comedy|Musical'\n",
            " 'Action|Drama|War' 'Crime|Drama|Thriller' 'Action|Adventure|Comedy|Crime'\n",
            " 'Drama|Mystery' 'Drama|Mystery|Romance' 'Thriller' 'Adventure|Drama|IMAX'\n",
            " 'Action|Drama|Romance|War' 'Drama|Horror' 'Adventure|Drama|War'\n",
            " 'Comedy|War' 'Crime|Drama|Mystery' 'Action|Adventure|Mystery|Sci-Fi'\n",
            " 'Drama|Thriller|War' 'Action|Romance|Western'\n",
            " 'Crime|Film-Noir|Mystery|Thriller' 'Comedy|Crime|Drama'\n",
            " 'Action|Drama|Romance' 'Adventure|Children|Drama'\n",
            " 'Action|Adventure|Crime|Thriller' 'Action|Crime|Sci-Fi' 'Horror'\n",
            " 'Action|Children' 'Comedy|Horror|Thriller' 'Fantasy|Horror|Mystery'\n",
            " 'Comedy|Fantasy' 'Horror|Sci-Fi'\n",
            " 'Action|Crime|Drama|Mystery|Sci-Fi|Thriller' 'Drama|Musical|Romance'\n",
            " 'Drama|Fantasy' 'Action|Adventure|Sci-Fi' 'Western'\n",
            " 'Adventure|Comedy|Crime|Mystery' 'Adventure|Comedy'\n",
            " 'Action|Comedy|Romance' 'Animation|Children|Comedy|Romance'\n",
            " 'Drama|Musical' 'Children|Comedy|Fantasy' 'Comedy|Sci-Fi'\n",
            " 'Adventure|Children|Comedy|Fantasy|Romance' 'Drama|Fantasy|Romance'\n",
            " 'Drama|Romance|War|Western' 'Drama|Horror|Sci-Fi' 'Action|Crime'\n",
            " 'Action|Drama|Sci-Fi|Thriller' 'Comedy|Crime|Drama|Thriller'\n",
            " 'Action|Thriller|Western' 'Horror|Thriller' 'Animation|Children'\n",
            " 'Children|Drama|Fantasy|Mystery' 'Action|Drama|Thriller'\n",
            " 'Comedy|Drama|Fantasy' 'Film-Noir|Thriller' 'Action|Comedy|Sci-Fi'\n",
            " 'Adventure|Drama|Sci-Fi' 'Action|Crime|Horror' 'Children'\n",
            " 'Drama|Film-Noir|Romance' 'Drama|Mystery|Thriller'\n",
            " 'Action|Crime|Fantasy|Thriller' 'Comedy|Drama|Romance|War'\n",
            " 'Action|Comedy' 'Adventure|Children|Romance'\n",
            " 'Adventure|Animation|Children|Drama|Musical|IMAX'\n",
            " 'Drama|Horror|Mystery|Thriller' 'Action|Comedy|Crime|Fantasy'\n",
            " 'Adventure|Comedy|Western' 'Action|Romance|Thriller'\n",
            " 'Action|Adventure|Comedy|Romance|Thriller'\n",
            " 'Drama|Horror|Romance|Thriller' 'Drama|Romance|War' 'Action|Fantasy'\n",
            " 'Comedy|Thriller' 'Action|Comedy|Crime|Thriller' 'Horror|Sci-Fi|Thriller'\n",
            " 'Drama|Mystery|Romance|Thriller' 'Action|Comedy|Drama' 'Drama|Western'\n",
            " 'Action|Adventure|Crime|Drama|Romance|Thriller' 'Action|Comedy|War'\n",
            " 'Action|Adventure|Sci-Fi|Thriller' 'Action|Adventure|Comedy|Fantasy'\n",
            " 'Comedy|Western' 'Comedy|Mystery' 'Comedy|Drama|Romance|Thriller'\n",
            " 'Action|Children|Romance' 'Action|Drama|Sci-Fi' 'Action|Drama'\n",
            " 'Comedy|Mystery|Romance' 'Action|Drama|Mystery'\n",
            " 'Action|Crime|Drama|Sci-Fi|Thriller' 'Crime|Thriller'\n",
            " 'Comedy|Crime|Horror' 'Action|Adventure|Fantasy|Mystery'\n",
            " 'Comedy|Romance|Thriller'\n",
            " 'Action|Adventure|Children|Comedy|Fantasy|Sci-Fi'\n",
            " 'Action|Mystery|Thriller' 'Animation|Children|Fantasy|Musical'\n",
            " 'Action|Adventure|Comedy|Romance' 'Action|Drama|Western'\n",
            " 'Action|Adventure|Animation|Children|Fantasy'\n",
            " 'Comedy|Drama|Fantasy|Romance|Thriller'\n",
            " 'Adventure|Animation|Children|Comedy|Musical' 'Action|Sci-Fi'\n",
            " 'Adventure|Drama|Western' 'Crime|Horror|Thriller'\n",
            " 'Animation|Children|Drama|Fantasy|Musical'\n",
            " 'Animation|Children|Fantasy|Musical|Romance|IMAX' 'Adventure|Western'\n",
            " 'Action|Comedy|Crime' 'Fantasy|Horror'\n",
            " 'Action|Adventure|Animation|Horror|Sci-Fi' 'Action|Horror|Sci-Fi'\n",
            " 'Crime|Drama|Mystery|Thriller'\n",
            " 'Adventure|Animation|Children|Fantasy|Musical|Romance' 'Romance'\n",
            " 'Action|Crime|Drama|War' 'Action|Adventure|Mystery|Thriller'\n",
            " 'Adventure|Animation|Children|Fantasy|Musical' 'Comedy|Drama|War'\n",
            " 'Adventure|Animation|Children|Comedy|Fantasy|Sci-Fi'\n",
            " 'Adventure|Comedy|Sci-Fi' 'Drama|Mystery|Romance|Sci-Fi|Thriller'\n",
            " 'Action|Adventure|Comedy|War' 'Action|Adventure' 'Drama|Mystery|Western'\n",
            " 'Comedy|Fantasy|Sci-Fi' 'Adventure|Animation|Comedy'\n",
            " 'Drama|Fantasy|Horror|Thriller' 'Action|Adventure|Romance|Thriller'\n",
            " 'Animation|Sci-Fi' 'Animation|Children|Comedy' 'Horror|Mystery'\n",
            " 'Comedy|Fantasy|Romance|Sci-Fi' 'Action|Adventure|Drama|Thriller'\n",
            " 'Comedy|Fantasy|Musical' 'Crime|Drama|Romance|Thriller'\n",
            " 'Crime|Drama|Musical|Thriller' 'Sci-Fi|Thriller' 'Children|Drama|Fantasy'\n",
            " 'Adventure|Animation|Children|Musical' 'Adventure|Drama|Romance|War'\n",
            " 'Comedy|Musical|Romance' 'Musical|Romance' 'Comedy|Musical'\n",
            " 'Action|Adventure|Mystery|Romance|Thriller'\n",
            " 'Comedy|Crime|Mystery|Romance|Thriller' 'Film-Noir|Mystery'\n",
            " 'Comedy|Drama|Musical|Romance' 'Musical'\n",
            " 'Adventure|Children|Fantasy|Musical' 'Drama|Film-Noir|Mystery|Thriller'\n",
            " 'Film-Noir|Romance|Thriller' 'Mystery|Romance|Thriller'\n",
            " 'Crime|Mystery|Romance|Thriller' 'Adventure' 'Crime|Film-Noir|Mystery'\n",
            " 'Drama|Romance|Western' 'Children|Drama|Fantasy|Romance'\n",
            " 'Adventure|Comedy|Romance|War' 'Adventure|Comedy|Crime|Drama|Romance'\n",
            " 'Romance|War' 'Crime|Film-Noir' 'Children|Comedy|Western'\n",
            " 'Children|Comedy|Fantasy|Romance' 'Children|Comedy|Romance'\n",
            " 'Children|Comedy|Drama' 'Children|Comedy|Mystery'\n",
            " 'Animation|Children|Fantasy|Musical|Romance' 'Animation|Children|Musical'\n",
            " 'Children|Comedy|Fantasy|Musical' 'Animation|Children|Drama|Musical'\n",
            " 'Adventure|Children|Musical' 'Animation|Children|Drama'\n",
            " 'Action|Horror|Sci-Fi|Thriller' 'Documentary|Drama'\n",
            " 'Animation|Children|Comedy|Fantasy|Musical|Romance'\n",
            " 'Drama|Romance|Thriller' 'Children|Drama|Sci-Fi' 'Action|Romance'\n",
            " 'Adventure|Comedy|Fantasy' 'Animation|Children|Comedy|Crime'\n",
            " 'Animation|Comedy|Drama|Fantasy' 'Crime|Drama|Film-Noir'\n",
            " 'Documentary|Musical' 'Action|Adventure|Comedy|Fantasy|Romance'\n",
            " 'Fantasy|Sci-Fi' 'Action|Adventure|Horror|Sci-Fi'\n",
            " 'Action|Adventure|Western' 'Crime|Drama|Sci-Fi|Thriller'\n",
            " 'Film-Noir|Mystery|Thriller' 'Action|Adventure|Comedy|Fantasy|Horror'\n",
            " 'Adventure|Drama|Romance' 'Crime|Horror' 'Action|Comedy|Musical'\n",
            " 'Adventure|Animation|Children|Comedy|Sci-Fi' 'Drama|Mystery|Sci-Fi'\n",
            " 'Comedy|Fantasy|Horror' 'Crime|Drama|Film-Noir|Thriller'\n",
            " 'Crime|Film-Noir|Thriller' 'Action|Crime|Romance|Thriller'\n",
            " 'Drama|Sci-Fi|Thriller' 'Action|Adventure|Drama|Western'\n",
            " 'Comedy|Horror|Sci-Fi' 'Comedy|Musical|War'\n",
            " 'Action|Comedy|Fantasy|Horror' 'Action|Adventure|Drama|War'\n",
            " 'Action|Drama|Mystery|Romance|Thriller' 'Comedy|Fantasy|Romance'\n",
            " 'Crime|Thriller|War' 'Comedy|Mystery|Thriller' 'Comedy|Drama|Film-Noir'\n",
            " 'Action|Adventure|Animation|Sci-Fi' 'Action|Western'\n",
            " 'Fantasy|Horror|Romance|Thriller' 'Drama|Fantasy|Horror'\n",
            " 'Horror|Mystery|Thriller' 'Adventure|Children|Comedy' 'Adventure|Sci-Fi'\n",
            " 'Action|Mystery|Sci-Fi' 'Action|Comedy|Western' 'Action|Horror'\n",
            " 'Action|Comedy|Crime|Drama|Sci-Fi' 'Adventure|Animation|Comedy|Crime'\n",
            " 'Comedy|Horror|Mystery|Thriller' 'Action|Romance|War|Western'\n",
            " 'Comedy|Drama|Fantasy|Romance' 'Action|Adventure|Comedy|Thriller' 'Crime'\n",
            " 'Crime|Drama|Fantasy|Film-Noir|Mystery|Romance'\n",
            " 'Action|Comedy|Crime|Drama' 'Action|Romance|Sci-Fi|Thriller'\n",
            " 'Comedy|Drama|Mystery|Romance' 'Action|Adventure|Children'\n",
            " 'Comedy|Crime|Romance' 'Action|Adventure|Comedy'\n",
            " 'Action|Adventure|Comedy|Sci-Fi' 'Action|Adventure|Fantasy|Thriller'\n",
            " 'Children|Fantasy' 'Adventure|Romance' 'Action|Thriller|War'\n",
            " 'Children|Comedy|Romance|Sci-Fi' 'Romance|Thriller' 'Comedy|Drama|Sci-Fi'\n",
            " 'Adventure|Animation|Children|Drama|Musical'\n",
            " 'Action|Adventure|Drama|Sci-Fi' 'Action|Children|Comedy'\n",
            " 'Adventure|Film-Noir|Sci-Fi|Thriller' 'Crime|Drama|Fantasy|Thriller'\n",
            " 'Crime|Romance|Thriller' 'Crime|Drama|Mystery|Romance|Thriller'\n",
            " 'Documentary|IMAX' 'Comedy|Crime|Drama|Mystery|Thriller'\n",
            " 'Comedy|Documentary' 'Adventure|Children|Comedy|Fantasy'\n",
            " 'Crime|Drama|Romance|War' 'Adventure|Comedy|Drama'\n",
            " 'Adventure|Comedy|Romance'\n",
            " 'Adventure|Animation|Children|Comedy|Drama|Musical|Romance'\n",
            " 'Action|Crime|Mystery|Sci-Fi|Thriller'\n",
            " 'Comedy|Crime|Drama|Romance|Thriller' 'Animation|Children|Fantasy|War'\n",
            " 'Comedy|Drama|Musical' 'Adventure|Fantasy|Musical'\n",
            " 'Action|Adventure|Children|Comedy|Fantasy'\n",
            " 'Drama|Mystery|Sci-Fi|Thriller' 'Adventure|Comedy|Sci-Fi|Western'\n",
            " 'Children|Fantasy|Musical' 'Adventure|Animation|Children|Fantasy'\n",
            " 'Children|Sci-Fi' 'Children|Comedy|Sci-Fi'\n",
            " 'Action|Adventure|Children|Comedy' 'Adventure|Children|Sci-Fi'\n",
            " 'Action|Animation|Children|Crime' 'Children|Comedy|Fantasy|Horror'\n",
            " 'Adventure|Children|Comedy|Fantasy|Sci-Fi'\n",
            " 'Action|Crime|Drama|Mystery|Thriller' 'Film-Noir' 'Drama|Fantasy|Mystery'\n",
            " 'Animation|Children|Comedy|Musical'\n",
            " 'Animation|Children|Comedy|Musical|Romance' 'Children|Comedy|Musical'\n",
            " 'Children|Musical' 'Adventure|Comedy|Musical'\n",
            " 'Adventure|Animation|Children|Crime|Drama'\n",
            " 'Children|Drama|Fantasy|Mystery|Thriller'\n",
            " 'Adventure|Children|Fantasy|Western'\n",
            " 'Animation|Children|Comedy|Drama|Fantasy' 'Action|Crime|Mystery|Thriller'\n",
            " 'Adventure|Animation|Children|Drama|Fantasy'\n",
            " 'Adventure|Animation|Children|Drama' 'Adventure|Fantasy'\n",
            " 'Adventure|Animation|Children|Comedy'\n",
            " 'Adventure|Animation|Children|Musical|Western'\n",
            " 'Adventure|Fantasy|Romance' 'Adventure|Drama|Fantasy'\n",
            " 'Action|Comedy|Drama|Horror' 'Action|Horror|Thriller'\n",
            " 'Drama|Film-Noir|Thriller' 'Adventure|Drama|Mystery|Thriller'\n",
            " 'Horror|Mystery|Sci-Fi|Thriller' 'Drama|Fantasy|Thriller'\n",
            " 'Adventure|Drama|Fantasy|Romance' 'Sci-Fi'\n",
            " 'Drama|Fantasy|Mystery|Romance' 'Action|Sci-Fi|War'\n",
            " 'Fantasy|Horror|Thriller' 'Horror|Western'\n",
            " 'Action|Adventure|Fantasy|Horror'\n",
            " 'Adventure|Fantasy|Romance|Sci-Fi|Thriller' 'Comedy|Crime|Mystery'\n",
            " 'Action|Drama|Romance|Sci-Fi' 'Animation|Musical'\n",
            " 'Action|Adventure|Thriller|War' 'Comedy|Crime|Mystery|Thriller'\n",
            " 'Action|Adventure|Children|Fantasy|Mystery|Thriller'\n",
            " 'Action|Adventure|Children|Drama'\n",
            " 'Action|Adventure|Drama|Fantasy|Thriller' 'Horror|Mystery|Sci-Fi'\n",
            " 'Drama|Horror|Sci-Fi|Thriller' 'Action|Comedy|Romance|Thriller'\n",
            " 'Action|War' 'Adventure|Comedy|Thriller' 'Action|Sci-Fi|Thriller|Western'\n",
            " 'Drama|Romance|Sci-Fi|Thriller' 'Drama|Film-Noir'\n",
            " 'Action|Adventure|Comedy|Fantasy|Horror|Thriller'\n",
            " 'Action|Adventure|Crime|Sci-Fi|Thriller' 'Adventure|Drama|Mystery'\n",
            " 'Horror|Romance' 'Comedy|Horror|Musical|Sci-Fi' 'War'\n",
            " 'Comedy|Romance|Sci-Fi' 'Animation|Comedy|Musical'\n",
            " 'Action|Comedy|Sci-Fi|Western' 'Action|Comedy|Fantasy'\n",
            " 'Adventure|Drama|Thriller' 'Action|Adventure|Comedy|Fantasy|Mystery'\n",
            " 'Comedy|Horror|Musical' 'Adventure|Animation|Children|Drama|Sci-Fi'\n",
            " 'Drama|Horror|Mystery' 'Action|Mystery' 'Comedy|Horror|Romance|Thriller'\n",
            " 'Action|Drama|Romance|Thriller' 'Animation|Horror|Mystery|Thriller'\n",
            " 'Adventure|Children|Comedy|Drama' 'Adventure|Sci-Fi|Thriller'\n",
            " 'Adventure|Animation|Comedy|Fantasy|Musical' 'Animation|Children|Fantasy'\n",
            " 'Action|Adventure|Comedy|Drama|War' 'Crime|Drama|Western'\n",
            " 'Comedy|Crime|Drama|Fantasy' 'Drama|Film-Noir|Mystery|Romance'\n",
            " 'Musical|Romance|War' 'Adventure|Comedy|Fantasy|Sci-Fi'\n",
            " 'Drama|Fantasy|Musical' 'Action|Crime|Sci-Fi|Thriller'\n",
            " 'Adventure|Animation|Children|Comedy|Crime|Fantasy|Mystery'\n",
            " 'Action|Adventure|Animation|Drama|Fantasy'\n",
            " 'Adventure|Animation|Children|Fantasy|Sci-Fi'\n",
            " 'Fantasy|Horror|Mystery|Romance' 'Action|Fantasy|Horror|Mystery|Thriller'\n",
            " 'Drama|Romance|Sci-Fi' 'Animation|Children|Musical|IMAX'\n",
            " 'Action|Comedy|Horror' 'Action|Crime|Thriller|Western'\n",
            " 'Fantasy|Horror|Mystery|Thriller' 'Romance|Western'\n",
            " 'Adventure|Crime|Drama|Romance' 'Adventure|Crime|Drama'\n",
            " 'Animation|Comedy' 'Action|Children|Comedy|Fantasy|Sci-Fi'\n",
            " 'Action|Children|Fantasy' 'Action|Adventure|Drama|Thriller|Western'\n",
            " 'Crime|Horror|Mystery|Thriller' 'Action|Adventure|Comedy|Western'\n",
            " 'Action|Drama|Thriller|Western' 'Adventure|Animation|Fantasy|Sci-Fi'\n",
            " 'Comedy|Horror|Sci-Fi|Thriller' 'Adventure|Drama|Romance|Sci-Fi'\n",
            " 'Film-Noir|Horror|Mystery|Thriller'\n",
            " 'Action|Adventure|Animation|Children|Sci-Fi'\n",
            " 'Action|Fantasy|Horror|Sci-Fi|Thriller' 'Action|Comedy|Crime|Romance'\n",
            " 'Adventure|Horror|Sci-Fi' 'Adventure|Animation|Children|Sci-Fi'\n",
            " 'Adventure|Comedy|Crime' 'Action|Drama|War|Western'\n",
            " 'Action|Crime|Mystery|Romance|Thriller' 'Romance|Sci-Fi'\n",
            " 'Fantasy|Romance' 'Action|Adventure|Fantasy|Sci-Fi'\n",
            " 'Adventure|Comedy|Horror' 'Animation|Comedy|Fantasy'\n",
            " 'Action|Adventure|War' 'Action|Crime|Drama|Horror|Thriller'\n",
            " 'Crime|Mystery' 'Adventure|Comedy|Mystery|Romance'\n",
            " 'Adventure|Animation|Children|Comedy|Fantasy|Romance'\n",
            " 'Adventure|War|Western' 'Comedy|Drama|Mystery|Thriller'\n",
            " 'Comedy|Drama|Romance|Western' 'Action|Comedy|Sci-Fi|Thriller'\n",
            " 'Adventure|Documentary|IMAX' 'Animation|Drama|Sci-Fi|IMAX'\n",
            " 'Action|Comedy|Horror|Sci-Fi' 'Comedy|Musical|Sci-Fi'\n",
            " 'Drama|Musical|Mystery' 'Crime|Musical' 'Comedy|Musical|Western'\n",
            " 'Action|Animation|Comedy|Crime|Drama|Romance|Thriller'\n",
            " 'Action|Adventure|Drama|Romance' 'Comedy|Fantasy|Horror|Musical|Thriller'\n",
            " 'Crime|Horror|Mystery' 'Action|Adventure|Drama|Romance|Thriller'\n",
            " 'Action|Comedy|Romance|War' 'Action|Adventure|Comedy|Drama'\n",
            " 'Adventure|Thriller' 'Crime|Drama|Film-Noir|Mystery|Thriller'\n",
            " 'Action|Animation|Sci-Fi' 'Animation|Drama|Fantasy'\n",
            " 'Drama|Fantasy|Mystery|Sci-Fi' 'Drama|Fantasy|Horror|Thriller|War'\n",
            " 'Fantasy|Mystery|Thriller'\n",
            " 'Action|Adventure|Comedy|Drama|Romance|Thriller'\n",
            " 'Mystery|Romance|Sci-Fi|Thriller' 'Adventure|Crime|Drama|Thriller'\n",
            " 'Comedy|Drama|Mystery' 'Animation|Fantasy'\n",
            " 'Drama|Fantasy|Horror|Mystery|Thriller'\n",
            " 'Drama|Fantasy|Mystery|Romance|Thriller'\n",
            " 'Animation|Fantasy|Horror|Sci-Fi' 'Documentary|War'\n",
            " 'Children|Horror|Mystery|Thriller' 'Musical|Western'\n",
            " 'Action|Adventure|Sci-Fi|IMAX' 'Adventure|Animation|Children|Western'\n",
            " 'Adventure|Children|Comedy|Fantasy|Mystery'\n",
            " 'Adventure|Drama|Horror|Mystery|Thriller' 'Comedy|Sci-Fi|Thriller'\n",
            " 'Action|Animation|Children|Comedy' 'Children|Drama|Musical'\n",
            " 'Comedy|Drama|Fantasy|Sci-Fi' 'Action|Adventure|Fantasy|Romance'\n",
            " 'Comedy|Crime|Romance|Thriller' 'Adventure|War'\n",
            " 'Comedy|Crime|Musical|Mystery' 'Adventure|Animation|Fantasy'\n",
            " 'Animation|Comedy|War' 'Action|Adventure|Comedy|Crime|Drama'\n",
            " 'Animation|Drama|War' 'Documentary|Horror' 'Action|Horror|Mystery|Sci-Fi'\n",
            " 'Action|Comedy|Documentary' 'Adventure|Animation|Children|Sci-Fi|IMAX'\n",
            " 'Comedy|Drama|Horror' 'Animation|Children|Drama|Fantasy'\n",
            " 'Comedy|Crime|Drama|Musical' 'Action|Adventure|Animation|Fantasy|Sci-Fi'\n",
            " 'Action|Adventure|Crime|Drama|Thriller' 'Comedy|Crime|Drama|Romance'\n",
            " 'Comedy|Documentary|Musical' 'Action|Animation|Sci-Fi|Thriller'\n",
            " 'Adventure|Children|Comedy|Mystery' 'Mystery|Sci-Fi'\n",
            " 'Adventure|Children|Comedy|Fantasy|Musical'\n",
            " 'Action|Adventure|Animation|Children|Fantasy|Sci-Fi'\n",
            " 'Action|Adventure|Sci-Fi|Thriller|IMAX'\n",
            " 'Action|Drama|Horror|Sci-Fi|Thriller' 'Drama|War|Western'\n",
            " 'Comedy|Crime|Mystery|Romance' 'Comedy|War|Western'\n",
            " 'Action|Adventure|Comedy|Crime|Thriller' 'Action|Fantasy|Sci-Fi'\n",
            " 'Action|Comedy|Thriller' 'Comedy|Crime|Drama|War'\n",
            " 'Adventure|Comedy|Crime|Thriller' 'Action|Adventure|Children|Fantasy'\n",
            " 'Drama|Fantasy|Musical|Romance' 'Animation|Drama|Romance'\n",
            " 'Comedy|Romance|Sci-Fi|Thriller' 'Action|Fantasy|Horror'\n",
            " 'Fantasy|Horror|Sci-Fi|Thriller' 'Comedy|Musical|Romance|Western'\n",
            " 'Drama|Fantasy|Sci-Fi' 'Children|Comedy|Crime|Musical'\n",
            " 'Action|Adventure|Animation|Fantasy' 'Crime|Documentary'\n",
            " 'Adventure|Comedy|Drama|Fantasy|Mystery|Sci-Fi|Thriller'\n",
            " 'Action|Animation|Children|Fantasy' 'Comedy|Mystery|Sci-Fi'\n",
            " 'Adventure|Thriller|Western' 'Comedy|Crime|Drama|Mystery|Romance'\n",
            " 'Action|Crime|Fantasy|Sci-Fi|Thriller' 'Crime|Fantasy|Horror'\n",
            " 'Action|Drama|Horror|Thriller' 'Comedy|Fantasy|Horror|Thriller'\n",
            " 'Action|Drama|Romance|Western' 'Adventure|Animation|Drama|Fantasy|Sci-Fi'\n",
            " 'Animation|Drama|Sci-Fi|War' 'Action|Adventure|Drama|Fantasy'\n",
            " 'Adventure|Drama|Romance|Thriller|War'\n",
            " 'Crime|Drama|Film-Noir|Romance|Thriller' 'Drama|Film-Noir|Mystery'\n",
            " 'Action|Comedy|Crime|Drama|Horror|Thriller' 'Adventure|Documentary'\n",
            " 'Action|Adventure|Children|Comedy|Crime'\n",
            " 'Animation|Comedy|Fantasy|Musical'\n",
            " 'Action|Adventure|Children|Comedy|Mystery' 'Action|Drama|Horror'\n",
            " 'Musical|Romance|Western' 'Action|Drama|Thriller|War'\n",
            " 'Comedy|Crime|Drama|Musical|Mystery|Romance' 'Adventure|Comedy|War'\n",
            " 'Fantasy|Musical|Romance' 'Drama|Thriller|Western' 'Crime|Horror|Sci-Fi'\n",
            " 'Animation|Fantasy|Thriller' 'Children|Comedy|Fantasy|Sci-Fi' 'Mystery'\n",
            " 'Action|Adventure|Animation|Comedy|Crime|Mystery'\n",
            " 'Adventure|Animation|Children|Comedy|Musical|Romance'\n",
            " 'Action|Adventure|Drama|Sci-Fi|Thriller' 'Adventure|Fantasy|IMAX'\n",
            " 'Action|Crime|Horror|Mystery|Thriller' 'Comedy|Fantasy|Thriller'\n",
            " 'Animation|Comedy|Drama|Fantasy|Sci-Fi' 'Comedy|Documentary|Drama'\n",
            " 'Crime|Drama|Film-Noir|Romance'\n",
            " 'Action|Adventure|Drama|Romance|Thriller|Western' 'Crime|Drama|Horror'\n",
            " 'Adventure|Comedy|Fantasy|Musical' 'Adventure|Animation|Drama'\n",
            " 'Comedy|Drama|Fantasy|Mystery' 'Action|Crime|Fantasy'\n",
            " 'Comedy|Drama|Sci-Fi|War' 'Adventure|Fantasy|Sci-Fi'\n",
            " 'Adventure|Drama|Horror|Sci-Fi|Thriller'\n",
            " 'Action|Adventure|Animation|Comedy'\n",
            " 'Action|Adventure|Animation|Children|Comedy'\n",
            " 'Adventure|Animation|Children|Fantasy|IMAX'\n",
            " 'Action|Adventure|Drama|Mystery|Thriller'\n",
            " 'Action|Fantasy|Horror|Thriller' 'Fantasy' 'Crime|Documentary|War'\n",
            " 'Children|Comedy|Musical|Romance' 'Drama|Horror|War'\n",
            " 'Action|Adventure|Comedy|Drama|Romance|War' 'Fantasy|Western'\n",
            " 'Adventure|Comedy|Horror|Romance'\n",
            " 'Action|Adventure|Animation|Children|Comedy|Fantasy'\n",
            " 'Action|Adventure|Children|Crime|Mystery|Thriller'\n",
            " 'Adventure|Children|Fantasy|Sci-Fi' 'Action|Fantasy|Horror|Romance'\n",
            " 'Animation|Fantasy|Mystery'\n",
            " 'Action|Animation|Crime|Drama|Film-Noir|Mystery|Sci-Fi|Thriller'\n",
            " 'Animation|Drama' 'Action|Fantasy|Sci-Fi|Thriller|War'\n",
            " 'Adventure|Animation|Comedy|Fantasy|Romance' 'Drama|Romance|Thriller|War'\n",
            " 'Adventure|Drama|Fantasy|Horror|Sci-Fi'\n",
            " 'Drama|Fantasy|Horror|Mystery|Sci-Fi|Thriller' 'Action|Animation'\n",
            " 'Adventure|Animation|Children|Musical|Romance'\n",
            " 'Action|Documentary|Drama|Thriller'\n",
            " 'Action|Adventure|Comedy|Sci-Fi|Thriller'\n",
            " 'Action|Adventure|Drama|Fantasy|Romance'\n",
            " 'Action|Animation|Drama|Fantasy|Sci-Fi' 'Drama|Fantasy|Romance|Sci-Fi'\n",
            " 'Action|Animation|Crime|Sci-Fi|Thriller'\n",
            " 'Drama|Horror|Mystery|Romance|Thriller'\n",
            " 'Action|Comedy|Crime|Fantasy|Thriller' 'Crime|Drama|Mystery|Thriller|War'\n",
            " 'Comedy|Drama|Romance|Sci-Fi' 'Action|Animation|Horror'\n",
            " 'Comedy|Crime|Horror|Mystery|Thriller' 'Comedy|Fantasy|Mystery|Sci-Fi'\n",
            " 'Comedy|Crime|Drama|Sci-Fi|Thriller' 'Action|Comedy|Horror|Musical'\n",
            " 'Drama|Sci-Fi|War' 'Action|Animation|Drama|Sci-Fi'\n",
            " 'Action|Comedy|Horror|Sci-Fi|Thriller|Western' 'Action|Comedy|Drama|War'\n",
            " 'Drama|Mystery|Romance|War' 'Action|Animation|Drama|Sci-Fi|Thriller'\n",
            " 'Children|Comedy|Crime|Drama|Fantasy' 'Action|Horror|Sci-Fi|War'\n",
            " 'Animation|Drama|Mystery|Sci-Fi|Thriller' 'Action|Drama|Fantasy|Sci-Fi'\n",
            " 'Comedy|Crime|Drama|Horror|Mystery'\n",
            " 'Adventure|Children|Comedy|Fantasy|IMAX' 'Animation|Documentary'\n",
            " 'Drama|Horror|Mystery|Sci-Fi|Thriller' 'Animation|Fantasy|Sci-Fi|War'\n",
            " 'Action|Animation|Fantasy|Sci-Fi' 'Action|Adventure|Crime|Drama'\n",
            " 'Action|Adventure|Comedy|Crime|Romance|Thriller'\n",
            " 'Action|Adventure|Drama|Romance|War'\n",
            " 'Adventure|Animation|Fantasy|Romance'\n",
            " 'Action|Fantasy|Horror|Mystery|Sci-Fi|Thriller'\n",
            " 'Adventure|Comedy|Crime|Drama|Mystery|Thriller'\n",
            " 'Comedy|Crime|Drama|Mystery' 'Comedy|Crime|Musical'\n",
            " 'Adventure|Animation|Children|Comedy|Fantasy|Sci-Fi|IMAX'\n",
            " 'Adventure|Comedy|Documentary' 'Comedy|Crime|Drama|Western'\n",
            " 'Adventure|Drama|War|Western' 'Animation|Fantasy|Sci-Fi|Thriller'\n",
            " 'Action|Crime|Film-Noir|Mystery|Thriller' 'Animation|Comedy|Sci-Fi'\n",
            " 'Animation|Fantasy|Horror' 'Children|Documentary' 'Action|Crime|IMAX'\n",
            " 'Adventure|Animation|Children|Comedy|Fantasy|War'\n",
            " 'Action|Adventure|Horror|Mystery|Sci-Fi|Thriller'\n",
            " 'Action|Crime|Drama|Thriller|War' 'Fantasy|Mystery|Romance|Thriller'\n",
            " 'Crime|Drama|Horror|Thriller' 'Animation|Comedy|Fantasy|Musical|Romance'\n",
            " 'Adventure|Children|Drama|Fantasy' 'Action|Horror|Mystery|Thriller'\n",
            " 'Adventure|Comedy|Fantasy|Horror'\n",
            " 'Action|Adventure|Animation|Children|Comedy|Sci-Fi'\n",
            " 'Adventure|Drama|Horror|Thriller' 'Adventure|Fantasy|Thriller|IMAX'\n",
            " 'Crime|Drama|Thriller|War' 'Action|Adventure|Comedy|Drama|Romance'\n",
            " 'Animation|Drama|Romance|Sci-Fi' 'Fantasy|Mystery|Western'\n",
            " 'Adventure|Comedy|Drama|Fantasy' 'Action|Comedy|Crime|Western'\n",
            " 'Action|Crime|Drama|Horror' 'Action|Fantasy|Sci-Fi|Thriller'\n",
            " 'Action|Drama|Fantasy|Horror|Mystery|Sci-Fi|Thriller'\n",
            " 'Action|Animation|Children|Sci-Fi' 'Action|Sci-Fi|Thriller|IMAX'\n",
            " 'Comedy|Fantasy|Horror|Sci-Fi' 'Action|Crime|Mystery'\n",
            " 'Crime|Drama|Film-Noir|Mystery'\n",
            " 'Action|Animation|Film-Noir|Sci-Fi|Thriller'\n",
            " 'Action|Adventure|Thriller|IMAX' 'Adventure|Comedy|Drama|Fantasy|Romance'\n",
            " 'Children|Comedy|Drama|Musical|Romance' 'Comedy|Documentary|Romance'\n",
            " 'Animation|Children|Fantasy|Mystery' 'Comedy|Fantasy|Mystery'\n",
            " 'Action|Comedy|Fantasy|IMAX'\n",
            " 'Adventure|Animation|Children|Comedy|Fantasy|IMAX'\n",
            " 'Adventure|Animation|Comedy|Fantasy|Romance|Sci-Fi' 'Crime|Drama|Musical'\n",
            " 'Adventure|Comedy|Sci-Fi|Thriller'\n",
            " 'Adventure|Animation|Children|Comedy|IMAX' 'Documentary|Drama|War'\n",
            " 'Crime|Western' 'Action|Adventure|Crime|Drama|Thriller|War'\n",
            " 'Children|Comedy|Drama|Fantasy' 'Drama|Fantasy|Horror|Romance'\n",
            " 'Action|Fantasy|Thriller' 'Action|Comedy|Crime|Mystery'\n",
            " 'Action|Comedy|Drama|Horror|Thriller' 'Action|Fantasy|War|IMAX'\n",
            " 'Comedy|Drama|Horror|Sci-Fi|Thriller' 'Drama|Fantasy|Mystery|Thriller'\n",
            " 'Action|Crime|Horror|Sci-Fi|Thriller' 'Adventure|Drama|Sci-Fi|Thriller'\n",
            " 'Action|Adventure|Animation|Comedy|Fantasy|Mystery|Sci-Fi'\n",
            " 'Crime|Drama|Fantasy|Mystery|Thriller' 'Action|Crime|Horror|Thriller'\n",
            " 'Animation|Mystery|Sci-Fi' 'Adventure|Crime|Thriller'\n",
            " 'Action|Adventure|Crime|Horror|Thriller' 'Adventure|Drama|Fantasy|IMAX'\n",
            " 'Adventure|Comedy|Fantasy|Romance' 'Action|Adventure|Fantasy|War'\n",
            " 'Action|Crime|Drama|Western' 'Action|Adventure|Comedy|Drama|Thriller'\n",
            " 'Action|Adventure|Animation|Crime|Fantasy'\n",
            " 'Action|Adventure|Animation|Fantasy|IMAX' 'Comedy|Drama|Sci-Fi|Thriller'\n",
            " 'Adventure|Animation|Children|Comedy|Fantasy|Musical|Romance'\n",
            " 'Action|Horror|Sci-Fi|Thriller|IMAX' 'Drama|Horror|Musical|Thriller'\n",
            " 'Action|Mystery|Sci-Fi|Thriller' 'Adventure|Animation|Drama|Horror'\n",
            " 'Animation|Comedy|Drama|Romance|Sci-Fi' 'Crime|Sci-Fi'\n",
            " 'Adventure|Children|Drama|Fantasy|IMAX' 'Adventure|Romance|Thriller'\n",
            " 'Crime|Drama|War' 'Action|Crime|Drama|IMAX' 'Documentary|Musical|IMAX'\n",
            " 'Action|Children|Sci-Fi|IMAX' 'Action|Animation|Children|Comedy|IMAX'\n",
            " 'Comedy|Crime|Drama|Horror' 'Action|Comedy|Drama|Thriller'\n",
            " 'Adventure|Animation|Children|Romance|Sci-Fi'\n",
            " 'Action|Adventure|Comedy|Crime|Fantasy'\n",
            " 'Action|Animation|Comedy|Romance|Sci-Fi' 'Children|Comedy|Drama|Mystery'\n",
            " 'Animation|Children|Comedy|Fantasy|Musical'\n",
            " 'Action|Adventure|Horror|Sci-Fi|Thriller'\n",
            " 'Adventure|Children|Comedy|Romance|Sci-Fi'\n",
            " 'Action|Comedy|Fantasy|Horror|Thriller'\n",
            " 'Action|Drama|Mystery|Sci-Fi|Thriller|IMAX' 'Adventure|Fantasy|Thriller'\n",
            " 'Action|Animation|Crime' 'Adventure|Comedy|Drama|Romance'\n",
            " 'Animation|Documentary|Drama|War' 'Action|Comedy|Fantasy|Thriller'\n",
            " 'Action|Animation|Comedy|Horror' 'Action|Crime|Thriller|IMAX'\n",
            " 'Animation|Comedy|Fantasy|Sci-Fi'\n",
            " 'Action|Adventure|Animation|Comedy|Fantasy|Sci-Fi'\n",
            " 'Action|Adventure|Animation|Children|Comedy|IMAX'\n",
            " 'Children|Fantasy|Musical|Romance' 'Drama|Fantasy|Romance|Thriller'\n",
            " 'Adventure|Animation|Comedy|Fantasy' 'Drama|Sci-Fi|Thriller|IMAX'\n",
            " 'Action|Adventure|Animation' 'Action|Animation|Comedy|Sci-Fi' 'Animation'\n",
            " 'Adventure|Comedy|Mystery' 'Comedy|Drama|Musical|Sci-Fi'\n",
            " 'Comedy|Crime|Horror|Thriller' 'Action|Drama|Mystery|Sci-Fi|Thriller'\n",
            " 'Animation|Sci-Fi|IMAX' 'Drama|Fantasy|Sci-Fi|Thriller'\n",
            " 'Action|Comedy|IMAX' 'Adventure|Fantasy|Musical|Romance'\n",
            " 'Action|Animation|Mystery|Sci-Fi' 'Action|Adventure|Animation|Drama'\n",
            " 'Action|Adventure|Comedy|Horror'\n",
            " 'Action|Adventure|Animation|Children|Comedy|Romance'\n",
            " 'Action|Adventure|Animation|Horror'\n",
            " 'Adventure|Fantasy|Mystery|Romance|IMAX'\n",
            " 'Adventure|Children|Fantasy|Sci-Fi|Thriller'\n",
            " 'Comedy|Documentary|Drama|Romance' 'Adventure|Animation|Sci-Fi'\n",
            " 'Animation|Children|Fantasy|IMAX'\n",
            " 'Action|Animation|Comedy|Horror|Thriller' 'Animation|Comedy|Drama'\n",
            " 'Action|Adventure|Drama|Fantasy|Romance|Sci-Fi|Thriller'\n",
            " 'Action|Comedy|Drama|Romance' 'Adventure|Animation|Children|Comedy|Crime'\n",
            " 'Animation|Children|Drama|Fantasy|IMAX'\n",
            " 'Animation|Children|Comedy|Fantasy'\n",
            " 'Drama|Fantasy|Horror|Romance|Thriller'\n",
            " 'Action|Adventure|Animation|Comedy|Thriller'\n",
            " 'Crime|Drama|Fantasy|Horror|Thriller' 'Children|Drama|Romance'\n",
            " 'Horror|Thriller|Western' 'Comedy|Musical|Sci-Fi|Western'\n",
            " 'Action|Adventure|Fantasy|Romance|IMAX' 'Fantasy|Romance|Thriller|IMAX'\n",
            " 'Action|Crime|Drama|Mystery|Sci-Fi|Thriller|IMAX' 'Action|Children|Drama'\n",
            " 'Action|Comedy|Fantasy|Musical|Romance' 'Documentary|Drama|Mystery'\n",
            " 'Adventure|Animation|Fantasy|IMAX' 'Documentary|Mystery'\n",
            " 'Action|Adventure|Comedy|Crime|Drama|Film-Noir|Horror|Mystery|Thriller|Western'\n",
            " 'Horror|IMAX' 'Action|Animation|Children|Comedy|Sci-Fi|IMAX'\n",
            " 'Action|Adventure|Fantasy|IMAX'\n",
            " 'Animation|Children|Comedy|Fantasy|Musical|Romance|IMAX' 'Crime|Romance'\n",
            " 'Adventure|Documentary|Western'\n",
            " 'Action|Comedy|Crime|Fantasy|Thriller|IMAX' 'Action|Fantasy|Western'\n",
            " 'Action|Sci-Fi|Thriller|Western|IMAX'\n",
            " 'Action|Adventure|Animation|Children|Comedy|Western'\n",
            " 'Romance|Sci-Fi|Thriller' 'Adventure|Animation|Comedy|Sci-Fi'\n",
            " 'Action|Adventure|Animation|Children|Comedy|Sci-Fi|IMAX'\n",
            " 'Action|Fantasy|Thriller|IMAX' 'Animation|Children|Comedy|Horror'\n",
            " 'Action|Adventure|Drama|Fantasy|IMAX' 'Action|Crime|Drama|Thriller|IMAX'\n",
            " 'Drama|Mystery|War' 'Action|Adventure|Sci-Fi|Thriller|War'\n",
            " 'Mystery|Sci-Fi|Thriller|IMAX' 'Action|Adventure|Sci-Fi|War|IMAX'\n",
            " 'Action|Adventure|Drama|Fantasy|Mystery|IMAX' 'Horror|Thriller|IMAX'\n",
            " 'Sci-Fi|Thriller|IMAX' 'Action|Drama|Sci-Fi|IMAX' 'Crime|Sci-Fi|Thriller'\n",
            " 'Action|Drama|Mystery|Thriller' 'Adventure|Animation|Comedy|Fantasy|IMAX'\n",
            " 'Action|Animation|Mystery|IMAX' 'Children|Drama|Mystery'\n",
            " 'Action|Drama|Fantasy' 'Animation|Children|Comedy|IMAX'\n",
            " 'Animation|Children|Comedy|Drama' 'Action|Crime|Film-Noir'\n",
            " 'Action|Adventure|Crime|IMAX' 'Action|Adventure|Drama|Thriller|IMAX'\n",
            " 'Action|Adventure|Comedy|Crime|Mystery|Thriller'\n",
            " 'Action|Fantasy|Horror|IMAX' 'Crime|Drama|Fantasy'\n",
            " 'Action|Adventure|Comedy|Sci-Fi|IMAX' 'Action|Adventure|Horror'\n",
            " 'Crime|Thriller|Western' 'Animation|Fantasy|Musical|IMAX'\n",
            " 'Action|Animation|Fantasy' 'Comedy|Horror|IMAX'\n",
            " 'Action|Comedy|Sci-Fi|IMAX' 'Action|Horror|Sci-Fi|IMAX'\n",
            " 'Action|Adventure|Animation|Children'\n",
            " 'Action|Adventure|Animation|Sci-Fi|Thriller' 'Comedy|Drama|Musical|IMAX'\n",
            " 'Children|Musical|Mystery' 'Drama|Fantasy|Musical|Mystery|Sci-Fi'\n",
            " 'Animation|Comedy|Horror|IMAX' 'Drama|Sci-Fi|IMAX'\n",
            " 'Action|Adventure|Comedy|Documentary|Fantasy' 'Action|Adventure|Crime'\n",
            " 'Children|Crime|Drama' 'Adventure|Drama|Fantasy|Romance|IMAX'\n",
            " 'Animation|Comedy|Romance' 'Drama|Musical|Romance|IMAX'\n",
            " 'Adventure|Comedy|Fantasy|Romance|IMAX' 'Animation|Comedy|Horror|Musical'\n",
            " 'Action|Animation|Comedy' 'Children|Horror|Sci-Fi' 'Action|Drama|IMAX'\n",
            " 'Documentary|Fantasy' 'Action|Adventure|Fantasy|Sci-Fi|IMAX'\n",
            " 'Action|Drama|Horror|IMAX' 'Action|Drama|Thriller|IMAX'\n",
            " 'Action|Adventure|Western|IMAX' 'Drama|Fantasy|Thriller|War'\n",
            " 'Action|IMAX' 'Action|Sci-Fi|IMAX' 'Adventure|Comedy|Musical|Sci-Fi'\n",
            " 'Adventure|Drama|Thriller|IMAX' 'Children|Drama|War'\n",
            " 'Adventure|Animation|Comedy|Fantasy|Musical|Romance'\n",
            " 'Action|Animation|Drama' 'Drama|Horror|Romance'\n",
            " 'Action|Animation|Fantasy|IMAX' 'Adventure|Romance|Sci-Fi|IMAX'\n",
            " 'Adventure|Animation|Children|Comedy|Drama|Romance'\n",
            " 'Action|Fantasy|Sci-Fi|IMAX' 'Action|Crime|Sci-Fi|IMAX'\n",
            " 'Animation|Comedy|Drama|Romance' 'Sci-Fi|IMAX' 'Animation|Romance'\n",
            " 'Action|Drama|War|IMAX' 'Action|Animation|Children|Comedy|Musical'\n",
            " 'Action|Adventure|Children|IMAX' 'Action|Animation|Children'\n",
            " 'Animation|Drama|Fantasy|Mystery' 'Action|Animation|Crime|Thriller'\n",
            " 'Documentary|Drama|Musical' '(no genres listed)' 'Adventure|Animation'\n",
            " 'Adventure|Animation|Romance' 'Animation|Children|Comedy|Musical|Sci-Fi'\n",
            " 'Action|Adventure|Comedy|Drama|Fantasy|Thriller'\n",
            " 'Documentary|Drama|Thriller' 'Adventure|Mystery|Thriller'\n",
            " 'Horror|Romance|Thriller' 'Animation|Children|Mystery'\n",
            " 'Comedy|Drama|Fantasy|Mystery|Romance' 'Crime|Drama|Horror|Mystery'\n",
            " 'Adventure|Romance|Sci-Fi' 'Horror|Sci-Fi|Western'\n",
            " 'Action|Adventure|Children|Comedy|Sci-Fi'\n",
            " 'Action|Adventure|Animation|Comedy|Sci-Fi' 'Horror|Romance|Sci-Fi'\n",
            " 'Action|Adventure|Children|Mystery|Sci-Fi' 'Comedy|Crime|Sci-Fi'\n",
            " 'Action|Comedy|Fantasy|Sci-Fi'\n",
            " 'Adventure|Animation|Children|Comedy|Drama|Fantasy'\n",
            " 'Adventure|Children|Comedy|Sci-Fi' 'Action|Animation|Crime|Sci-Fi'\n",
            " 'Action|Adventure|Romance|Sci-Fi' 'Action|Crime|Drama|Sci-Fi'\n",
            " 'Animation|Children|Comedy|Drama|Romance' 'Action|Fantasy|Mystery'\n",
            " 'Comedy|Horror|Mystery' 'Comedy|Crime|Fantasy' 'Animation|Horror|Mystery'\n",
            " 'Comedy|Romance|Western' 'Adventure|Drama|Fantasy|Sci-Fi'\n",
            " 'Adventure|Children|Drama|Sci-Fi'\n",
            " 'Adventure|Children|Comedy|Drama|Fantasy|Sci-Fi'\n",
            " 'Animation|Fantasy|Horror|Mystery'\n",
            " 'Adventure|Animation|Fantasy|Horror|Sci-Fi'\n",
            " 'Action|Animation|Crime|Drama'\n",
            " 'Action|Adventure|Animation|Drama|Fantasy|Sci-Fi'\n",
            " 'Action|Animation|Mystery' 'Animation|Drama|Sci-Fi'\n",
            " 'Animation|Drama|Fantasy|Romance'\n",
            " 'Action|Adventure|Comedy|Fantasy|Sci-Fi|Thriller'\n",
            " 'Action|Adventure|Fantasy|Horror|Thriller' 'Comedy|Sci-Fi|War'\n",
            " 'Comedy|Mystery|Romance|Thriller' 'Fantasy|Horror|Sci-Fi|Western'\n",
            " 'Animation|Crime|Drama' 'Adventure|Mystery|Sci-Fi|Thriller'\n",
            " 'Action|Comedy|Crime|Horror' 'Action|Adventure|Children|Sci-Fi'\n",
            " 'Action|Adventure|Comedy|Fantasy|Sci-Fi'\n",
            " 'Action|Animation|Comedy|Fantasy']\n"
          ]
        }
      ],
      "source": [
        "print('Jenis genre yang ada : ',movie.genres.unique())"
      ]
    },
    {
      "cell_type": "markdown",
      "metadata": {
        "id": "xGmWKtMQwjWy"
      },
      "source": [
        "Dari hasil eksekusi didapatkan informasi sebagai berikut :\n",
        "\n",
        "Pada dataframe movie \n",
        "- Tidak terdapat nilai yang berduplikat\n",
        "- Tidak memiliki nilai null\n",
        "- Movie memiliki 2 tipe data yaitu 2 bertipe data object dan 1 bertipe data int\n",
        "- Movie memiliki berbagai macam kombinasi genre\n"
      ]
    },
    {
      "cell_type": "markdown",
      "metadata": {
        "id": "pVZFWzeOx1og"
      },
      "source": [
        "Selanjutnya adalah melakukan pengecekan lebih dalam terhadap dataframe tags.\n",
        "\n",
        "Memanggil fungsi info() untuk melihat toipe data dan informasi lainnya pada tags."
      ]
    },
    {
      "cell_type": "code",
      "execution_count": 13,
      "metadata": {
        "colab": {
          "base_uri": "https://localhost:8080/"
        },
        "id": "JqOvDYS3WS1L",
        "outputId": "bcc41c7e-185b-4d8b-8cdf-69e388959180"
      },
      "outputs": [
        {
          "name": "stdout",
          "output_type": "stream",
          "text": [
            "<class 'pandas.core.frame.DataFrame'>\n",
            "RangeIndex: 3683 entries, 0 to 3682\n",
            "Data columns (total 4 columns):\n",
            " #   Column     Non-Null Count  Dtype \n",
            "---  ------     --------------  ----- \n",
            " 0   userId     3683 non-null   int64 \n",
            " 1   movieId    3683 non-null   int64 \n",
            " 2   tag        3683 non-null   object\n",
            " 3   timestamp  3683 non-null   int64 \n",
            "dtypes: int64(3), object(1)\n",
            "memory usage: 115.2+ KB\n"
          ]
        }
      ],
      "source": [
        "tags.info()"
      ]
    },
    {
      "cell_type": "markdown",
      "metadata": {
        "id": "S4xA4rGwyGOU"
      },
      "source": [
        "Mengecek apakah dataframe tags memiliki nilai yang berduplikat atau tidak"
      ]
    },
    {
      "cell_type": "code",
      "execution_count": 14,
      "metadata": {
        "colab": {
          "base_uri": "https://localhost:8080/"
        },
        "id": "WVEOSRuOWWv4",
        "outputId": "83bc3f33-43eb-4235-8c48-008fbfc383c6"
      },
      "outputs": [
        {
          "data": {
            "text/plain": [
              "0"
            ]
          },
          "execution_count": 14,
          "metadata": {},
          "output_type": "execute_result"
        }
      ],
      "source": [
        "tags.duplicated().sum()"
      ]
    },
    {
      "cell_type": "markdown",
      "metadata": {
        "id": "ewqzS8klySF_"
      },
      "source": [
        "Mengecek apakah dataframe tags memiliki nilai yang null atau tidak"
      ]
    },
    {
      "cell_type": "code",
      "execution_count": 15,
      "metadata": {
        "colab": {
          "base_uri": "https://localhost:8080/"
        },
        "id": "gYrBoOCNWdDn",
        "outputId": "78ce5a94-8fc9-44cb-bb1d-2c5b7ecc3885"
      },
      "outputs": [
        {
          "data": {
            "text/plain": [
              "userId       0\n",
              "movieId      0\n",
              "tag          0\n",
              "timestamp    0\n",
              "dtype: int64"
            ]
          },
          "execution_count": 15,
          "metadata": {},
          "output_type": "execute_result"
        }
      ],
      "source": [
        "tags.isnull().sum()"
      ]
    },
    {
      "cell_type": "markdown",
      "metadata": {
        "id": "1YEy6Efq4yY-"
      },
      "source": [
        "memanggil fungsi head() dengan parameter 1"
      ]
    },
    {
      "cell_type": "code",
      "execution_count": 16,
      "metadata": {
        "colab": {
          "base_uri": "https://localhost:8080/",
          "height": 80
        },
        "id": "NNoW1KAcY8eS",
        "outputId": "b9a1f967-8912-4ac2-8be9-67e65db9d2d9"
      },
      "outputs": [
        {
          "data": {
            "text/html": [
              "<div>\n",
              "<style scoped>\n",
              "    .dataframe tbody tr th:only-of-type {\n",
              "        vertical-align: middle;\n",
              "    }\n",
              "\n",
              "    .dataframe tbody tr th {\n",
              "        vertical-align: top;\n",
              "    }\n",
              "\n",
              "    .dataframe thead th {\n",
              "        text-align: right;\n",
              "    }\n",
              "</style>\n",
              "<table border=\"1\" class=\"dataframe\">\n",
              "  <thead>\n",
              "    <tr style=\"text-align: right;\">\n",
              "      <th></th>\n",
              "      <th>userId</th>\n",
              "      <th>movieId</th>\n",
              "      <th>tag</th>\n",
              "      <th>timestamp</th>\n",
              "    </tr>\n",
              "  </thead>\n",
              "  <tbody>\n",
              "    <tr>\n",
              "      <th>0</th>\n",
              "      <td>2</td>\n",
              "      <td>60756</td>\n",
              "      <td>funny</td>\n",
              "      <td>1445714994</td>\n",
              "    </tr>\n",
              "  </tbody>\n",
              "</table>\n",
              "</div>"
            ],
            "text/plain": [
              "   userId  movieId    tag   timestamp\n",
              "0       2    60756  funny  1445714994"
            ]
          },
          "execution_count": 16,
          "metadata": {},
          "output_type": "execute_result"
        }
      ],
      "source": [
        "tags.head(1)"
      ]
    },
    {
      "cell_type": "markdown",
      "metadata": {
        "id": "XTO1TX9U46vE"
      },
      "source": [
        "menghapus kolom timestamp pada dataframe , karena tidak akan digunakan .\n",
        "\n",
        "gunakan fungsi drop() dengan baris kode sebagai berikut :"
      ]
    },
    {
      "cell_type": "code",
      "execution_count": 17,
      "metadata": {
        "colab": {
          "base_uri": "https://localhost:8080/",
          "height": 204
        },
        "id": "K613CRPpZFap",
        "outputId": "26615ed0-7e7d-4e97-961a-cb7bd71f750d"
      },
      "outputs": [
        {
          "data": {
            "text/html": [
              "<div>\n",
              "<style scoped>\n",
              "    .dataframe tbody tr th:only-of-type {\n",
              "        vertical-align: middle;\n",
              "    }\n",
              "\n",
              "    .dataframe tbody tr th {\n",
              "        vertical-align: top;\n",
              "    }\n",
              "\n",
              "    .dataframe thead th {\n",
              "        text-align: right;\n",
              "    }\n",
              "</style>\n",
              "<table border=\"1\" class=\"dataframe\">\n",
              "  <thead>\n",
              "    <tr style=\"text-align: right;\">\n",
              "      <th></th>\n",
              "      <th>userId</th>\n",
              "      <th>movieId</th>\n",
              "      <th>tag</th>\n",
              "    </tr>\n",
              "  </thead>\n",
              "  <tbody>\n",
              "    <tr>\n",
              "      <th>0</th>\n",
              "      <td>2</td>\n",
              "      <td>60756</td>\n",
              "      <td>funny</td>\n",
              "    </tr>\n",
              "    <tr>\n",
              "      <th>1</th>\n",
              "      <td>2</td>\n",
              "      <td>60756</td>\n",
              "      <td>Highly quotable</td>\n",
              "    </tr>\n",
              "    <tr>\n",
              "      <th>2</th>\n",
              "      <td>2</td>\n",
              "      <td>60756</td>\n",
              "      <td>will ferrell</td>\n",
              "    </tr>\n",
              "    <tr>\n",
              "      <th>3</th>\n",
              "      <td>2</td>\n",
              "      <td>89774</td>\n",
              "      <td>Boxing story</td>\n",
              "    </tr>\n",
              "    <tr>\n",
              "      <th>4</th>\n",
              "      <td>2</td>\n",
              "      <td>89774</td>\n",
              "      <td>MMA</td>\n",
              "    </tr>\n",
              "  </tbody>\n",
              "</table>\n",
              "</div>"
            ],
            "text/plain": [
              "   userId  movieId              tag\n",
              "0       2    60756            funny\n",
              "1       2    60756  Highly quotable\n",
              "2       2    60756     will ferrell\n",
              "3       2    89774     Boxing story\n",
              "4       2    89774              MMA"
            ]
          },
          "execution_count": 17,
          "metadata": {},
          "output_type": "execute_result"
        }
      ],
      "source": [
        "tags = tags.drop(columns=['timestamp'])\n",
        "tags.head()"
      ]
    },
    {
      "cell_type": "markdown",
      "metadata": {
        "id": "grh4_wx-5HRo"
      },
      "source": [
        "Dari hasil eksekusi kode - kode diatas , didapatkan informasi sebagai berikut :\n",
        "\n",
        "\n",
        "Pada dataframe tags\n",
        "- Tidak terdapat nilai yang berduplikat\n",
        "- Tidak memiliki nilai null\n",
        "- tags memiliki 2 tipe data yaitu 1 bertipe data object dan 3 bertipe data int\n",
        "- tags sekarang memiliki 3 kolom karena kolom timestamp telah dihapus ."
      ]
    },
    {
      "cell_type": "markdown",
      "metadata": {
        "id": "gtrXsLBZ5u_c"
      },
      "source": [
        "melakukan pengecekan mendalam terhadap dataframe rating.\n",
        "\n",
        "pertama saya memanggil fungsi head() untuk melihat data "
      ]
    },
    {
      "cell_type": "code",
      "execution_count": 18,
      "metadata": {
        "colab": {
          "base_uri": "https://localhost:8080/",
          "height": 204
        },
        "id": "VUZl-UIcWiLI",
        "outputId": "a1490f2a-2790-46d3-e925-94958f324bc7"
      },
      "outputs": [
        {
          "data": {
            "text/html": [
              "<div>\n",
              "<style scoped>\n",
              "    .dataframe tbody tr th:only-of-type {\n",
              "        vertical-align: middle;\n",
              "    }\n",
              "\n",
              "    .dataframe tbody tr th {\n",
              "        vertical-align: top;\n",
              "    }\n",
              "\n",
              "    .dataframe thead th {\n",
              "        text-align: right;\n",
              "    }\n",
              "</style>\n",
              "<table border=\"1\" class=\"dataframe\">\n",
              "  <thead>\n",
              "    <tr style=\"text-align: right;\">\n",
              "      <th></th>\n",
              "      <th>userId</th>\n",
              "      <th>movieId</th>\n",
              "      <th>rating</th>\n",
              "      <th>timestamp</th>\n",
              "    </tr>\n",
              "  </thead>\n",
              "  <tbody>\n",
              "    <tr>\n",
              "      <th>0</th>\n",
              "      <td>1</td>\n",
              "      <td>1</td>\n",
              "      <td>4.0</td>\n",
              "      <td>964982703</td>\n",
              "    </tr>\n",
              "    <tr>\n",
              "      <th>1</th>\n",
              "      <td>1</td>\n",
              "      <td>3</td>\n",
              "      <td>4.0</td>\n",
              "      <td>964981247</td>\n",
              "    </tr>\n",
              "    <tr>\n",
              "      <th>2</th>\n",
              "      <td>1</td>\n",
              "      <td>6</td>\n",
              "      <td>4.0</td>\n",
              "      <td>964982224</td>\n",
              "    </tr>\n",
              "    <tr>\n",
              "      <th>3</th>\n",
              "      <td>1</td>\n",
              "      <td>47</td>\n",
              "      <td>5.0</td>\n",
              "      <td>964983815</td>\n",
              "    </tr>\n",
              "    <tr>\n",
              "      <th>4</th>\n",
              "      <td>1</td>\n",
              "      <td>50</td>\n",
              "      <td>5.0</td>\n",
              "      <td>964982931</td>\n",
              "    </tr>\n",
              "  </tbody>\n",
              "</table>\n",
              "</div>"
            ],
            "text/plain": [
              "   userId  movieId  rating  timestamp\n",
              "0       1        1     4.0  964982703\n",
              "1       1        3     4.0  964981247\n",
              "2       1        6     4.0  964982224\n",
              "3       1       47     5.0  964983815\n",
              "4       1       50     5.0  964982931"
            ]
          },
          "execution_count": 18,
          "metadata": {},
          "output_type": "execute_result"
        }
      ],
      "source": [
        "rating.head()"
      ]
    },
    {
      "cell_type": "markdown",
      "metadata": {
        "id": "M7cStf4C9tSN"
      },
      "source": [
        "memanggil fungsi describe untuk menegetahui minimal dan maksimal nilai pada dataframe rating lalu mean dan standar deviasinya."
      ]
    },
    {
      "cell_type": "code",
      "execution_count": 19,
      "metadata": {
        "colab": {
          "base_uri": "https://localhost:8080/",
          "height": 297
        },
        "id": "hzF6cIVeWypc",
        "outputId": "d27ce726-a28e-4bc1-b3b3-efbb34cd0581"
      },
      "outputs": [
        {
          "data": {
            "text/html": [
              "<div>\n",
              "<style scoped>\n",
              "    .dataframe tbody tr th:only-of-type {\n",
              "        vertical-align: middle;\n",
              "    }\n",
              "\n",
              "    .dataframe tbody tr th {\n",
              "        vertical-align: top;\n",
              "    }\n",
              "\n",
              "    .dataframe thead th {\n",
              "        text-align: right;\n",
              "    }\n",
              "</style>\n",
              "<table border=\"1\" class=\"dataframe\">\n",
              "  <thead>\n",
              "    <tr style=\"text-align: right;\">\n",
              "      <th></th>\n",
              "      <th>userId</th>\n",
              "      <th>movieId</th>\n",
              "      <th>rating</th>\n",
              "      <th>timestamp</th>\n",
              "    </tr>\n",
              "  </thead>\n",
              "  <tbody>\n",
              "    <tr>\n",
              "      <th>count</th>\n",
              "      <td>100836.000000</td>\n",
              "      <td>100836.000000</td>\n",
              "      <td>100836.000000</td>\n",
              "      <td>1.008360e+05</td>\n",
              "    </tr>\n",
              "    <tr>\n",
              "      <th>mean</th>\n",
              "      <td>326.127564</td>\n",
              "      <td>19435.295718</td>\n",
              "      <td>3.501557</td>\n",
              "      <td>1.205946e+09</td>\n",
              "    </tr>\n",
              "    <tr>\n",
              "      <th>std</th>\n",
              "      <td>182.618491</td>\n",
              "      <td>35530.987199</td>\n",
              "      <td>1.042529</td>\n",
              "      <td>2.162610e+08</td>\n",
              "    </tr>\n",
              "    <tr>\n",
              "      <th>min</th>\n",
              "      <td>1.000000</td>\n",
              "      <td>1.000000</td>\n",
              "      <td>0.500000</td>\n",
              "      <td>8.281246e+08</td>\n",
              "    </tr>\n",
              "    <tr>\n",
              "      <th>25%</th>\n",
              "      <td>177.000000</td>\n",
              "      <td>1199.000000</td>\n",
              "      <td>3.000000</td>\n",
              "      <td>1.019124e+09</td>\n",
              "    </tr>\n",
              "    <tr>\n",
              "      <th>50%</th>\n",
              "      <td>325.000000</td>\n",
              "      <td>2991.000000</td>\n",
              "      <td>3.500000</td>\n",
              "      <td>1.186087e+09</td>\n",
              "    </tr>\n",
              "    <tr>\n",
              "      <th>75%</th>\n",
              "      <td>477.000000</td>\n",
              "      <td>8122.000000</td>\n",
              "      <td>4.000000</td>\n",
              "      <td>1.435994e+09</td>\n",
              "    </tr>\n",
              "    <tr>\n",
              "      <th>max</th>\n",
              "      <td>610.000000</td>\n",
              "      <td>193609.000000</td>\n",
              "      <td>5.000000</td>\n",
              "      <td>1.537799e+09</td>\n",
              "    </tr>\n",
              "  </tbody>\n",
              "</table>\n",
              "</div>"
            ],
            "text/plain": [
              "              userId        movieId         rating     timestamp\n",
              "count  100836.000000  100836.000000  100836.000000  1.008360e+05\n",
              "mean      326.127564   19435.295718       3.501557  1.205946e+09\n",
              "std       182.618491   35530.987199       1.042529  2.162610e+08\n",
              "min         1.000000       1.000000       0.500000  8.281246e+08\n",
              "25%       177.000000    1199.000000       3.000000  1.019124e+09\n",
              "50%       325.000000    2991.000000       3.500000  1.186087e+09\n",
              "75%       477.000000    8122.000000       4.000000  1.435994e+09\n",
              "max       610.000000  193609.000000       5.000000  1.537799e+09"
            ]
          },
          "execution_count": 19,
          "metadata": {},
          "output_type": "execute_result"
        }
      ],
      "source": [
        "rating.describe()"
      ]
    },
    {
      "cell_type": "markdown",
      "metadata": {
        "id": "ANIMfPWn95Dh"
      },
      "source": [
        "Menghapus kolom timestamp pada dataframe rating karena tidak akan di gunakan ."
      ]
    },
    {
      "cell_type": "code",
      "execution_count": 20,
      "metadata": {
        "colab": {
          "base_uri": "https://localhost:8080/",
          "height": 80
        },
        "id": "WC0i9o76YuM0",
        "outputId": "279f5129-3c9e-43f6-c668-654ebe72e4b6"
      },
      "outputs": [
        {
          "data": {
            "text/html": [
              "<div>\n",
              "<style scoped>\n",
              "    .dataframe tbody tr th:only-of-type {\n",
              "        vertical-align: middle;\n",
              "    }\n",
              "\n",
              "    .dataframe tbody tr th {\n",
              "        vertical-align: top;\n",
              "    }\n",
              "\n",
              "    .dataframe thead th {\n",
              "        text-align: right;\n",
              "    }\n",
              "</style>\n",
              "<table border=\"1\" class=\"dataframe\">\n",
              "  <thead>\n",
              "    <tr style=\"text-align: right;\">\n",
              "      <th></th>\n",
              "      <th>userId</th>\n",
              "      <th>movieId</th>\n",
              "      <th>rating</th>\n",
              "    </tr>\n",
              "  </thead>\n",
              "  <tbody>\n",
              "    <tr>\n",
              "      <th>0</th>\n",
              "      <td>1</td>\n",
              "      <td>1</td>\n",
              "      <td>4.0</td>\n",
              "    </tr>\n",
              "  </tbody>\n",
              "</table>\n",
              "</div>"
            ],
            "text/plain": [
              "   userId  movieId  rating\n",
              "0       1        1     4.0"
            ]
          },
          "execution_count": 20,
          "metadata": {},
          "output_type": "execute_result"
        }
      ],
      "source": [
        "rating = rating.drop(columns=['timestamp'])\n",
        "rating.head(1)"
      ]
    },
    {
      "cell_type": "markdown",
      "metadata": {
        "id": "DfZOpOZh-Byy"
      },
      "source": [
        "Melihat jumlah nilai pada setiap kolom dengan menggunakan fungsi len () . unique() digunakan untuk mencari nilai yang unik ."
      ]
    },
    {
      "cell_type": "code",
      "execution_count": 21,
      "metadata": {
        "colab": {
          "base_uri": "https://localhost:8080/"
        },
        "id": "prrkQ8ryW7P_",
        "outputId": "fb2a77f4-766a-4948-d317-2736d946c418"
      },
      "outputs": [
        {
          "name": "stdout",
          "output_type": "stream",
          "text": [
            "Jumlah userID  : 610\n",
            "Jumlah movieId : 9724\n",
            "Jumlah data rating : 100836\n"
          ]
        }
      ],
      "source": [
        "print('Jumlah userID  :',len(rating.userId.unique()))\n",
        "print('Jumlah movieId :',len(rating.movieId.unique()))\n",
        "print('Jumlah data rating :',len(rating))"
      ]
    },
    {
      "cell_type": "markdown",
      "metadata": {
        "id": "sxgQCieB-PAG"
      },
      "source": [
        "Di dapatkan informasi seperti ini :\n",
        "\n",
        "- Dataframe rating sekarang memiliki 3 kolom , karena kolom timestamp dihapus\n",
        "- terdapat 610 jumlah data pada kolom userId\n",
        "- tedapat 9724 jumlah data pada kolom movieId\n",
        "- terdapat 100836 jumlah data pada rating "
      ]
    },
    {
      "cell_type": "markdown",
      "metadata": {
        "id": "RlYPOiDa_AlU"
      },
      "source": [
        "##<center> Data Preprocessing </center>\n",
        "\n",
        "Melakukan upaya penggabungan dataframe dengan menggunakan fungsi concatenate pada library numpy .\n",
        "\n",
        "Pada dataframe ini yang akan digabungkan pertama adalah tags dan movie , dimana kita menggunankan movieId yang unik sebagai acuan dalam penggabungan ini agar data yang digabungkan dapat sinkron satu sama lain .\n",
        "\n"
      ]
    },
    {
      "cell_type": "code",
      "execution_count": 22,
      "metadata": {
        "colab": {
          "base_uri": "https://localhost:8080/"
        },
        "id": "Wo_98NohXEFB",
        "outputId": "d937d26f-98a9-4f63-8add-5eb5612f57c0"
      },
      "outputs": [
        {
          "name": "stdout",
          "output_type": "stream",
          "text": [
            "Jumlah seluruh data film berdasarkan movieId:  9742\n"
          ]
        }
      ],
      "source": [
        "import numpy as np\n",
        "\n",
        "Movie_all = np.concatenate((\n",
        "    movie.movieId.unique(),\n",
        "    tags.movieId.unique(),\n",
        "))\n",
        "\n",
        "# Mengurutkan data dan menghapus data yang sama\n",
        "Movie_all = np.sort(np.unique(Movie_all))\n",
        "\n",
        "print('Jumlah seluruh data film berdasarkan movieId: ', len(Movie_all))"
      ]
    },
    {
      "cell_type": "markdown",
      "metadata": {
        "id": "QC5NV1s1NMxa"
      },
      "source": [
        "Dari hasil eksekusi di dapatkan informasi bahwa file pada kategori film  ketika digabung memiliki 9742 file movie yang unik.\n",
        "\n",
        "selanjutnya adalah menggabungkan data dengan kategori user , disini saya menggunakan userId yang unik sebagai acuan kunci dalam penggabungan . dan file yang akan digabungkan adalah dataframe tags dan rating .\n",
        "\n",
        "masih menggunakan fungsi concatenate dari library numpy berikut baris kode yang harus dijalankan :"
      ]
    },
    {
      "cell_type": "code",
      "execution_count": 23,
      "metadata": {
        "colab": {
          "base_uri": "https://localhost:8080/"
        },
        "id": "TXGkbVBKoG1i",
        "outputId": "82da30a0-9a46-43e3-92a8-e9455f67c03f"
      },
      "outputs": [
        {
          "name": "stdout",
          "output_type": "stream",
          "text": [
            "Jumlah seluruh data film berdasarkan userId:  610\n"
          ]
        }
      ],
      "source": [
        "user_all = np.concatenate((\n",
        "    rating.userId.unique(),\n",
        "    tags.userId.unique(),\n",
        "))\n",
        "\n",
        "# Mengurutkan data dan menghapus data yang sama\n",
        "user_all = np.sort(np.unique(user_all))\n",
        "\n",
        "print('Jumlah seluruh data film berdasarkan userId: ', len(user_all))"
      ]
    },
    {
      "cell_type": "markdown",
      "metadata": {
        "id": "2X0GXjHJOKFP"
      },
      "source": [
        "Seperti yang terlihat pada hasil eksekusi sebelumnya bahwa hanya terdapat 610 data pengguna dari 8742 film yang memiliki rating .\n",
        "\n",
        "\n",
        "Selanjutnya adalah usaha mengetahui jumlah rating . dengan cara menggabungkan terlebih dahulu kolom - kolom yang di butuhkan . \n",
        "\n",
        "- pertama adalah membuat definisi baru , disini saya membuat movieinfo dimana di dalamnya saya mengabungkan ketiga dataframe ,yaitu movie,tags,rating . \n",
        "- lalu menggabungkan rating dengan movieinfo berdasarkan movieId  , dengan fungsi merge "
      ]
    },
    {
      "cell_type": "code",
      "execution_count": 24,
      "metadata": {
        "colab": {
          "base_uri": "https://localhost:8080/",
          "height": 419
        },
        "id": "m6R6arKlZSNY",
        "outputId": "9c852f62-768d-41b8-84c2-24f24170ff6b"
      },
      "outputs": [
        {
          "data": {
            "text/html": [
              "<div>\n",
              "<style scoped>\n",
              "    .dataframe tbody tr th:only-of-type {\n",
              "        vertical-align: middle;\n",
              "    }\n",
              "\n",
              "    .dataframe tbody tr th {\n",
              "        vertical-align: top;\n",
              "    }\n",
              "\n",
              "    .dataframe thead th {\n",
              "        text-align: right;\n",
              "    }\n",
              "</style>\n",
              "<table border=\"1\" class=\"dataframe\">\n",
              "  <thead>\n",
              "    <tr style=\"text-align: right;\">\n",
              "      <th></th>\n",
              "      <th>userId_x</th>\n",
              "      <th>movieId</th>\n",
              "      <th>rating_x</th>\n",
              "      <th>title</th>\n",
              "      <th>genres</th>\n",
              "      <th>userId_y</th>\n",
              "      <th>tag</th>\n",
              "      <th>rating_y</th>\n",
              "    </tr>\n",
              "  </thead>\n",
              "  <tbody>\n",
              "    <tr>\n",
              "      <th>0</th>\n",
              "      <td>1</td>\n",
              "      <td>1</td>\n",
              "      <td>4.0</td>\n",
              "      <td>Toy Story (1995)</td>\n",
              "      <td>Adventure|Animation|Children|Comedy|Fantasy</td>\n",
              "      <td>NaN</td>\n",
              "      <td>NaN</td>\n",
              "      <td>NaN</td>\n",
              "    </tr>\n",
              "    <tr>\n",
              "      <th>1</th>\n",
              "      <td>1</td>\n",
              "      <td>1</td>\n",
              "      <td>4.0</td>\n",
              "      <td>NaN</td>\n",
              "      <td>NaN</td>\n",
              "      <td>336.0</td>\n",
              "      <td>pixar</td>\n",
              "      <td>NaN</td>\n",
              "    </tr>\n",
              "    <tr>\n",
              "      <th>2</th>\n",
              "      <td>1</td>\n",
              "      <td>1</td>\n",
              "      <td>4.0</td>\n",
              "      <td>NaN</td>\n",
              "      <td>NaN</td>\n",
              "      <td>474.0</td>\n",
              "      <td>pixar</td>\n",
              "      <td>NaN</td>\n",
              "    </tr>\n",
              "    <tr>\n",
              "      <th>3</th>\n",
              "      <td>1</td>\n",
              "      <td>1</td>\n",
              "      <td>4.0</td>\n",
              "      <td>NaN</td>\n",
              "      <td>NaN</td>\n",
              "      <td>567.0</td>\n",
              "      <td>fun</td>\n",
              "      <td>NaN</td>\n",
              "    </tr>\n",
              "    <tr>\n",
              "      <th>4</th>\n",
              "      <td>1</td>\n",
              "      <td>1</td>\n",
              "      <td>4.0</td>\n",
              "      <td>NaN</td>\n",
              "      <td>NaN</td>\n",
              "      <td>1.0</td>\n",
              "      <td>NaN</td>\n",
              "      <td>4.0</td>\n",
              "    </tr>\n",
              "    <tr>\n",
              "      <th>...</th>\n",
              "      <td>...</td>\n",
              "      <td>...</td>\n",
              "      <td>...</td>\n",
              "      <td>...</td>\n",
              "      <td>...</td>\n",
              "      <td>...</td>\n",
              "      <td>...</td>\n",
              "      <td>...</td>\n",
              "    </tr>\n",
              "    <tr>\n",
              "      <th>6258744</th>\n",
              "      <td>610</td>\n",
              "      <td>168252</td>\n",
              "      <td>5.0</td>\n",
              "      <td>NaN</td>\n",
              "      <td>NaN</td>\n",
              "      <td>610.0</td>\n",
              "      <td>NaN</td>\n",
              "      <td>5.0</td>\n",
              "    </tr>\n",
              "    <tr>\n",
              "      <th>6258745</th>\n",
              "      <td>610</td>\n",
              "      <td>170875</td>\n",
              "      <td>3.0</td>\n",
              "      <td>The Fate of the Furious (2017)</td>\n",
              "      <td>Action|Crime|Drama|Thriller</td>\n",
              "      <td>NaN</td>\n",
              "      <td>NaN</td>\n",
              "      <td>NaN</td>\n",
              "    </tr>\n",
              "    <tr>\n",
              "      <th>6258746</th>\n",
              "      <td>610</td>\n",
              "      <td>170875</td>\n",
              "      <td>3.0</td>\n",
              "      <td>NaN</td>\n",
              "      <td>NaN</td>\n",
              "      <td>50.0</td>\n",
              "      <td>NaN</td>\n",
              "      <td>1.0</td>\n",
              "    </tr>\n",
              "    <tr>\n",
              "      <th>6258747</th>\n",
              "      <td>610</td>\n",
              "      <td>170875</td>\n",
              "      <td>3.0</td>\n",
              "      <td>NaN</td>\n",
              "      <td>NaN</td>\n",
              "      <td>249.0</td>\n",
              "      <td>NaN</td>\n",
              "      <td>3.0</td>\n",
              "    </tr>\n",
              "    <tr>\n",
              "      <th>6258748</th>\n",
              "      <td>610</td>\n",
              "      <td>170875</td>\n",
              "      <td>3.0</td>\n",
              "      <td>NaN</td>\n",
              "      <td>NaN</td>\n",
              "      <td>610.0</td>\n",
              "      <td>NaN</td>\n",
              "      <td>3.0</td>\n",
              "    </tr>\n",
              "  </tbody>\n",
              "</table>\n",
              "<p>6258749 rows × 8 columns</p>\n",
              "</div>"
            ],
            "text/plain": [
              "         userId_x  movieId  rating_x  ... userId_y    tag  rating_y\n",
              "0               1        1       4.0  ...      NaN    NaN       NaN\n",
              "1               1        1       4.0  ...    336.0  pixar       NaN\n",
              "2               1        1       4.0  ...    474.0  pixar       NaN\n",
              "3               1        1       4.0  ...    567.0    fun       NaN\n",
              "4               1        1       4.0  ...      1.0    NaN       4.0\n",
              "...           ...      ...       ...  ...      ...    ...       ...\n",
              "6258744       610   168252       5.0  ...    610.0    NaN       5.0\n",
              "6258745       610   170875       3.0  ...      NaN    NaN       NaN\n",
              "6258746       610   170875       3.0  ...     50.0    NaN       1.0\n",
              "6258747       610   170875       3.0  ...    249.0    NaN       3.0\n",
              "6258748       610   170875       3.0  ...    610.0    NaN       3.0\n",
              "\n",
              "[6258749 rows x 8 columns]"
            ]
          },
          "execution_count": 24,
          "metadata": {},
          "output_type": "execute_result"
        }
      ],
      "source": [
        "# Menggabungkan file title,genre,tags,userId ke dalam dataframe movieinfo \n",
        "movieinfo = pd.concat([movie,tags,rating])\n",
        "\n",
        "# Menggabungkan dataframe rating dengan movieinfo berdasarkan nilai movieId\n",
        "film = pd.merge(rating, movieinfo , on=['movieId'], how='left')\n",
        "film"
      ]
    },
    {
      "cell_type": "markdown",
      "metadata": {
        "id": "nIu-wQmvQkLx"
      },
      "source": [
        "Setelah itu dilakukan pengecekan pada dataframe yang telah digabung (film) apakah data memiliki nilai null "
      ]
    },
    {
      "cell_type": "code",
      "execution_count": 25,
      "metadata": {
        "colab": {
          "base_uri": "https://localhost:8080/"
        },
        "id": "4m2TUd5JaHTh",
        "outputId": "19ecab53-bbc9-4a02-d467-8a13ecb29a81"
      },
      "outputs": [
        {
          "data": {
            "text/plain": [
              "userId_x          0\n",
              "movieId           0\n",
              "rating_x          0\n",
              "title       6157913\n",
              "genres      6157913\n",
              "userId_y     100836\n",
              "tag         6025536\n",
              "rating_y     334049\n",
              "dtype: int64"
            ]
          },
          "execution_count": 25,
          "metadata": {},
          "output_type": "execute_result"
        }
      ],
      "source": [
        "# Cek missing value dengan fungsi isnull()\n",
        "film.isnull().sum()"
      ]
    },
    {
      "cell_type": "markdown",
      "metadata": {
        "id": "kgjPMPacQ40s"
      },
      "source": [
        "Dari kedua proses eksekusi diatas didapatkan informasi bahwa \n",
        "- Terdapat nilai null pada beberapa kolom , kolom yang bersih dari nilai null adalah userId_x , movieId, dan rating_x.\n",
        "\n",
        "\n",
        "langkah selanjutnya adalah menghitung jumlah rating , lalu melakukan penggabungan dengan fungsi groupby berdasarkan movieId ,dengan kode berikut :"
      ]
    },
    {
      "cell_type": "code",
      "execution_count": 27,
      "metadata": {
        "colab": {
          "base_uri": "https://localhost:8080/",
          "height": 450
        },
        "id": "XmE4Rd80aZk9",
        "outputId": "69ec05b9-f0b9-4835-8e57-274630956c4e"
      },
      "outputs": [
        {
          "data": {
            "text/html": [
              "<div>\n",
              "<style scoped>\n",
              "    .dataframe tbody tr th:only-of-type {\n",
              "        vertical-align: middle;\n",
              "    }\n",
              "\n",
              "    .dataframe tbody tr th {\n",
              "        vertical-align: top;\n",
              "    }\n",
              "\n",
              "    .dataframe thead th {\n",
              "        text-align: right;\n",
              "    }\n",
              "</style>\n",
              "<table border=\"1\" class=\"dataframe\">\n",
              "  <thead>\n",
              "    <tr style=\"text-align: right;\">\n",
              "      <th></th>\n",
              "      <th>userId_x</th>\n",
              "      <th>rating_x</th>\n",
              "      <th>userId_y</th>\n",
              "      <th>rating_y</th>\n",
              "    </tr>\n",
              "    <tr>\n",
              "      <th>movieId</th>\n",
              "      <th></th>\n",
              "      <th></th>\n",
              "      <th></th>\n",
              "      <th></th>\n",
              "    </tr>\n",
              "  </thead>\n",
              "  <tbody>\n",
              "    <tr>\n",
              "      <th>1</th>\n",
              "      <td>14432976</td>\n",
              "      <td>184617.0</td>\n",
              "      <td>14465415.0</td>\n",
              "      <td>181245.0</td>\n",
              "    </tr>\n",
              "    <tr>\n",
              "      <th>2</th>\n",
              "      <td>4168865</td>\n",
              "      <td>43412.5</td>\n",
              "      <td>4060210.0</td>\n",
              "      <td>41525.0</td>\n",
              "    </tr>\n",
              "    <tr>\n",
              "      <th>3</th>\n",
              "      <td>811085</td>\n",
              "      <td>9322.5</td>\n",
              "      <td>796900.0</td>\n",
              "      <td>8814.0</td>\n",
              "    </tr>\n",
              "    <tr>\n",
              "      <th>4</th>\n",
              "      <td>12312</td>\n",
              "      <td>132.0</td>\n",
              "      <td>10773.0</td>\n",
              "      <td>115.5</td>\n",
              "    </tr>\n",
              "    <tr>\n",
              "      <th>5</th>\n",
              "      <td>763308</td>\n",
              "      <td>7826.0</td>\n",
              "      <td>765723.0</td>\n",
              "      <td>7374.5</td>\n",
              "    </tr>\n",
              "    <tr>\n",
              "      <th>...</th>\n",
              "      <td>...</td>\n",
              "      <td>...</td>\n",
              "      <td>...</td>\n",
              "      <td>...</td>\n",
              "    </tr>\n",
              "    <tr>\n",
              "      <th>193581</th>\n",
              "      <td>368</td>\n",
              "      <td>8.0</td>\n",
              "      <td>184.0</td>\n",
              "      <td>4.0</td>\n",
              "    </tr>\n",
              "    <tr>\n",
              "      <th>193583</th>\n",
              "      <td>368</td>\n",
              "      <td>7.0</td>\n",
              "      <td>184.0</td>\n",
              "      <td>3.5</td>\n",
              "    </tr>\n",
              "    <tr>\n",
              "      <th>193585</th>\n",
              "      <td>368</td>\n",
              "      <td>7.0</td>\n",
              "      <td>184.0</td>\n",
              "      <td>3.5</td>\n",
              "    </tr>\n",
              "    <tr>\n",
              "      <th>193587</th>\n",
              "      <td>368</td>\n",
              "      <td>7.0</td>\n",
              "      <td>184.0</td>\n",
              "      <td>3.5</td>\n",
              "    </tr>\n",
              "    <tr>\n",
              "      <th>193609</th>\n",
              "      <td>662</td>\n",
              "      <td>8.0</td>\n",
              "      <td>331.0</td>\n",
              "      <td>4.0</td>\n",
              "    </tr>\n",
              "  </tbody>\n",
              "</table>\n",
              "<p>9724 rows × 4 columns</p>\n",
              "</div>"
            ],
            "text/plain": [
              "         userId_x  rating_x    userId_y  rating_y\n",
              "movieId                                          \n",
              "1        14432976  184617.0  14465415.0  181245.0\n",
              "2         4168865   43412.5   4060210.0   41525.0\n",
              "3          811085    9322.5    796900.0    8814.0\n",
              "4           12312     132.0     10773.0     115.5\n",
              "5          763308    7826.0    765723.0    7374.5\n",
              "...           ...       ...         ...       ...\n",
              "193581        368       8.0       184.0       4.0\n",
              "193583        368       7.0       184.0       3.5\n",
              "193585        368       7.0       184.0       3.5\n",
              "193587        368       7.0       184.0       3.5\n",
              "193609        662       8.0       331.0       4.0\n",
              "\n",
              "[9724 rows x 4 columns]"
            ]
          },
          "execution_count": 27,
          "metadata": {},
          "output_type": "execute_result"
        }
      ],
      "source": [
        "# Menghitung jumlah rating kemudian menggabungkannya berdasarkan movieId\n",
        "film.groupby('movieId').sum()"
      ]
    },
    {
      "cell_type": "markdown",
      "metadata": {
        "id": "G6nIcv09S38X"
      },
      "source": [
        "Selanjutnya adalah membuat definisi all_film_rate dengan variabel rating yang sudah diketahui sebelumnya ."
      ]
    },
    {
      "cell_type": "code",
      "execution_count": 28,
      "metadata": {
        "colab": {
          "base_uri": "https://localhost:8080/",
          "height": 419
        },
        "id": "tgqwHLUGq5MO",
        "outputId": "3bdde3c1-0a91-47d4-cde7-2aacfa2782d0"
      },
      "outputs": [
        {
          "data": {
            "text/html": [
              "<div>\n",
              "<style scoped>\n",
              "    .dataframe tbody tr th:only-of-type {\n",
              "        vertical-align: middle;\n",
              "    }\n",
              "\n",
              "    .dataframe tbody tr th {\n",
              "        vertical-align: top;\n",
              "    }\n",
              "\n",
              "    .dataframe thead th {\n",
              "        text-align: right;\n",
              "    }\n",
              "</style>\n",
              "<table border=\"1\" class=\"dataframe\">\n",
              "  <thead>\n",
              "    <tr style=\"text-align: right;\">\n",
              "      <th></th>\n",
              "      <th>userId</th>\n",
              "      <th>movieId</th>\n",
              "      <th>rating</th>\n",
              "    </tr>\n",
              "  </thead>\n",
              "  <tbody>\n",
              "    <tr>\n",
              "      <th>0</th>\n",
              "      <td>1</td>\n",
              "      <td>1</td>\n",
              "      <td>4.0</td>\n",
              "    </tr>\n",
              "    <tr>\n",
              "      <th>1</th>\n",
              "      <td>1</td>\n",
              "      <td>3</td>\n",
              "      <td>4.0</td>\n",
              "    </tr>\n",
              "    <tr>\n",
              "      <th>2</th>\n",
              "      <td>1</td>\n",
              "      <td>6</td>\n",
              "      <td>4.0</td>\n",
              "    </tr>\n",
              "    <tr>\n",
              "      <th>3</th>\n",
              "      <td>1</td>\n",
              "      <td>47</td>\n",
              "      <td>5.0</td>\n",
              "    </tr>\n",
              "    <tr>\n",
              "      <th>4</th>\n",
              "      <td>1</td>\n",
              "      <td>50</td>\n",
              "      <td>5.0</td>\n",
              "    </tr>\n",
              "    <tr>\n",
              "      <th>...</th>\n",
              "      <td>...</td>\n",
              "      <td>...</td>\n",
              "      <td>...</td>\n",
              "    </tr>\n",
              "    <tr>\n",
              "      <th>100831</th>\n",
              "      <td>610</td>\n",
              "      <td>166534</td>\n",
              "      <td>4.0</td>\n",
              "    </tr>\n",
              "    <tr>\n",
              "      <th>100832</th>\n",
              "      <td>610</td>\n",
              "      <td>168248</td>\n",
              "      <td>5.0</td>\n",
              "    </tr>\n",
              "    <tr>\n",
              "      <th>100833</th>\n",
              "      <td>610</td>\n",
              "      <td>168250</td>\n",
              "      <td>5.0</td>\n",
              "    </tr>\n",
              "    <tr>\n",
              "      <th>100834</th>\n",
              "      <td>610</td>\n",
              "      <td>168252</td>\n",
              "      <td>5.0</td>\n",
              "    </tr>\n",
              "    <tr>\n",
              "      <th>100835</th>\n",
              "      <td>610</td>\n",
              "      <td>170875</td>\n",
              "      <td>3.0</td>\n",
              "    </tr>\n",
              "  </tbody>\n",
              "</table>\n",
              "<p>100836 rows × 3 columns</p>\n",
              "</div>"
            ],
            "text/plain": [
              "        userId  movieId  rating\n",
              "0            1        1     4.0\n",
              "1            1        3     4.0\n",
              "2            1        6     4.0\n",
              "3            1       47     5.0\n",
              "4            1       50     5.0\n",
              "...        ...      ...     ...\n",
              "100831     610   166534     4.0\n",
              "100832     610   168248     5.0\n",
              "100833     610   168250     5.0\n",
              "100834     610   168252     5.0\n",
              "100835     610   170875     3.0\n",
              "\n",
              "[100836 rows x 3 columns]"
            ]
          },
          "execution_count": 28,
          "metadata": {},
          "output_type": "execute_result"
        }
      ],
      "source": [
        "all_film_rate = rating\n",
        "all_film_rate"
      ]
    },
    {
      "cell_type": "markdown",
      "metadata": {
        "id": "IS9LqkvzTC1z"
      },
      "source": [
        "Menggabungkan data film pada dataframe movie dengan all_film_rate , menggunakan fungsi merge ."
      ]
    },
    {
      "cell_type": "code",
      "execution_count": 29,
      "metadata": {
        "colab": {
          "base_uri": "https://localhost:8080/",
          "height": 419
        },
        "id": "orn7fWz2q_lW",
        "outputId": "bd5efc4e-619e-4e45-90c5-94465d3210e7"
      },
      "outputs": [
        {
          "data": {
            "text/html": [
              "<div>\n",
              "<style scoped>\n",
              "    .dataframe tbody tr th:only-of-type {\n",
              "        vertical-align: middle;\n",
              "    }\n",
              "\n",
              "    .dataframe tbody tr th {\n",
              "        vertical-align: top;\n",
              "    }\n",
              "\n",
              "    .dataframe thead th {\n",
              "        text-align: right;\n",
              "    }\n",
              "</style>\n",
              "<table border=\"1\" class=\"dataframe\">\n",
              "  <thead>\n",
              "    <tr style=\"text-align: right;\">\n",
              "      <th></th>\n",
              "      <th>userId</th>\n",
              "      <th>movieId</th>\n",
              "      <th>rating</th>\n",
              "      <th>title</th>\n",
              "      <th>genres</th>\n",
              "    </tr>\n",
              "  </thead>\n",
              "  <tbody>\n",
              "    <tr>\n",
              "      <th>0</th>\n",
              "      <td>1</td>\n",
              "      <td>1</td>\n",
              "      <td>4.0</td>\n",
              "      <td>Toy Story (1995)</td>\n",
              "      <td>Adventure|Animation|Children|Comedy|Fantasy</td>\n",
              "    </tr>\n",
              "    <tr>\n",
              "      <th>1</th>\n",
              "      <td>1</td>\n",
              "      <td>3</td>\n",
              "      <td>4.0</td>\n",
              "      <td>Grumpier Old Men (1995)</td>\n",
              "      <td>Comedy|Romance</td>\n",
              "    </tr>\n",
              "    <tr>\n",
              "      <th>2</th>\n",
              "      <td>1</td>\n",
              "      <td>6</td>\n",
              "      <td>4.0</td>\n",
              "      <td>Heat (1995)</td>\n",
              "      <td>Action|Crime|Thriller</td>\n",
              "    </tr>\n",
              "    <tr>\n",
              "      <th>3</th>\n",
              "      <td>1</td>\n",
              "      <td>47</td>\n",
              "      <td>5.0</td>\n",
              "      <td>Seven (a.k.a. Se7en) (1995)</td>\n",
              "      <td>Mystery|Thriller</td>\n",
              "    </tr>\n",
              "    <tr>\n",
              "      <th>4</th>\n",
              "      <td>1</td>\n",
              "      <td>50</td>\n",
              "      <td>5.0</td>\n",
              "      <td>Usual Suspects, The (1995)</td>\n",
              "      <td>Crime|Mystery|Thriller</td>\n",
              "    </tr>\n",
              "    <tr>\n",
              "      <th>...</th>\n",
              "      <td>...</td>\n",
              "      <td>...</td>\n",
              "      <td>...</td>\n",
              "      <td>...</td>\n",
              "      <td>...</td>\n",
              "    </tr>\n",
              "    <tr>\n",
              "      <th>100831</th>\n",
              "      <td>610</td>\n",
              "      <td>166534</td>\n",
              "      <td>4.0</td>\n",
              "      <td>Split (2017)</td>\n",
              "      <td>Drama|Horror|Thriller</td>\n",
              "    </tr>\n",
              "    <tr>\n",
              "      <th>100832</th>\n",
              "      <td>610</td>\n",
              "      <td>168248</td>\n",
              "      <td>5.0</td>\n",
              "      <td>John Wick: Chapter Two (2017)</td>\n",
              "      <td>Action|Crime|Thriller</td>\n",
              "    </tr>\n",
              "    <tr>\n",
              "      <th>100833</th>\n",
              "      <td>610</td>\n",
              "      <td>168250</td>\n",
              "      <td>5.0</td>\n",
              "      <td>Get Out (2017)</td>\n",
              "      <td>Horror</td>\n",
              "    </tr>\n",
              "    <tr>\n",
              "      <th>100834</th>\n",
              "      <td>610</td>\n",
              "      <td>168252</td>\n",
              "      <td>5.0</td>\n",
              "      <td>Logan (2017)</td>\n",
              "      <td>Action|Sci-Fi</td>\n",
              "    </tr>\n",
              "    <tr>\n",
              "      <th>100835</th>\n",
              "      <td>610</td>\n",
              "      <td>170875</td>\n",
              "      <td>3.0</td>\n",
              "      <td>The Fate of the Furious (2017)</td>\n",
              "      <td>Action|Crime|Drama|Thriller</td>\n",
              "    </tr>\n",
              "  </tbody>\n",
              "</table>\n",
              "<p>100836 rows × 5 columns</p>\n",
              "</div>"
            ],
            "text/plain": [
              "        userId  ...                                       genres\n",
              "0            1  ...  Adventure|Animation|Children|Comedy|Fantasy\n",
              "1            1  ...                               Comedy|Romance\n",
              "2            1  ...                        Action|Crime|Thriller\n",
              "3            1  ...                             Mystery|Thriller\n",
              "4            1  ...                       Crime|Mystery|Thriller\n",
              "...        ...  ...                                          ...\n",
              "100831     610  ...                        Drama|Horror|Thriller\n",
              "100832     610  ...                        Action|Crime|Thriller\n",
              "100833     610  ...                                       Horror\n",
              "100834     610  ...                                Action|Sci-Fi\n",
              "100835     610  ...                  Action|Crime|Drama|Thriller\n",
              "\n",
              "[100836 rows x 5 columns]"
            ]
          },
          "execution_count": 29,
          "metadata": {},
          "output_type": "execute_result"
        }
      ],
      "source": [
        "all_film_name = pd.merge(all_film_rate, movie[['movieId','title','genres']], on='movieId', how='left')\n",
        "all_film_name"
      ]
    },
    {
      "cell_type": "markdown",
      "metadata": {
        "id": "_wVnc7YyT61X"
      },
      "source": [
        "Setelah mengabungkan fitur mengenai film dan genre serta ratingnya selanjutnya adalah menggabungnya dengan dataframe tags untuk mendapatkan userId dan tag label apa saja yang diberikan user pada film - film tersebut .masih dengan menggunakan fungsi merge."
      ]
    },
    {
      "cell_type": "code",
      "execution_count": 30,
      "metadata": {
        "colab": {
          "base_uri": "https://localhost:8080/",
          "height": 419
        },
        "id": "uzXAxIcyrI2-",
        "outputId": "96555edd-cca7-42ac-d37f-9cd9dc422d1e"
      },
      "outputs": [
        {
          "data": {
            "text/html": [
              "<div>\n",
              "<style scoped>\n",
              "    .dataframe tbody tr th:only-of-type {\n",
              "        vertical-align: middle;\n",
              "    }\n",
              "\n",
              "    .dataframe tbody tr th {\n",
              "        vertical-align: top;\n",
              "    }\n",
              "\n",
              "    .dataframe thead th {\n",
              "        text-align: right;\n",
              "    }\n",
              "</style>\n",
              "<table border=\"1\" class=\"dataframe\">\n",
              "  <thead>\n",
              "    <tr style=\"text-align: right;\">\n",
              "      <th></th>\n",
              "      <th>userId</th>\n",
              "      <th>movieId</th>\n",
              "      <th>rating</th>\n",
              "      <th>title</th>\n",
              "      <th>genres</th>\n",
              "      <th>tag</th>\n",
              "    </tr>\n",
              "  </thead>\n",
              "  <tbody>\n",
              "    <tr>\n",
              "      <th>0</th>\n",
              "      <td>1</td>\n",
              "      <td>1</td>\n",
              "      <td>4.0</td>\n",
              "      <td>Toy Story (1995)</td>\n",
              "      <td>Adventure|Animation|Children|Comedy|Fantasy</td>\n",
              "      <td>pixar</td>\n",
              "    </tr>\n",
              "    <tr>\n",
              "      <th>1</th>\n",
              "      <td>1</td>\n",
              "      <td>1</td>\n",
              "      <td>4.0</td>\n",
              "      <td>Toy Story (1995)</td>\n",
              "      <td>Adventure|Animation|Children|Comedy|Fantasy</td>\n",
              "      <td>pixar</td>\n",
              "    </tr>\n",
              "    <tr>\n",
              "      <th>2</th>\n",
              "      <td>1</td>\n",
              "      <td>1</td>\n",
              "      <td>4.0</td>\n",
              "      <td>Toy Story (1995)</td>\n",
              "      <td>Adventure|Animation|Children|Comedy|Fantasy</td>\n",
              "      <td>fun</td>\n",
              "    </tr>\n",
              "    <tr>\n",
              "      <th>3</th>\n",
              "      <td>1</td>\n",
              "      <td>3</td>\n",
              "      <td>4.0</td>\n",
              "      <td>Grumpier Old Men (1995)</td>\n",
              "      <td>Comedy|Romance</td>\n",
              "      <td>moldy</td>\n",
              "    </tr>\n",
              "    <tr>\n",
              "      <th>4</th>\n",
              "      <td>1</td>\n",
              "      <td>3</td>\n",
              "      <td>4.0</td>\n",
              "      <td>Grumpier Old Men (1995)</td>\n",
              "      <td>Comedy|Romance</td>\n",
              "      <td>old</td>\n",
              "    </tr>\n",
              "    <tr>\n",
              "      <th>...</th>\n",
              "      <td>...</td>\n",
              "      <td>...</td>\n",
              "      <td>...</td>\n",
              "      <td>...</td>\n",
              "      <td>...</td>\n",
              "      <td>...</td>\n",
              "    </tr>\n",
              "    <tr>\n",
              "      <th>285757</th>\n",
              "      <td>610</td>\n",
              "      <td>168252</td>\n",
              "      <td>5.0</td>\n",
              "      <td>Logan (2017)</td>\n",
              "      <td>Action|Sci-Fi</td>\n",
              "      <td>emotional</td>\n",
              "    </tr>\n",
              "    <tr>\n",
              "      <th>285758</th>\n",
              "      <td>610</td>\n",
              "      <td>168252</td>\n",
              "      <td>5.0</td>\n",
              "      <td>Logan (2017)</td>\n",
              "      <td>Action|Sci-Fi</td>\n",
              "      <td>gritty</td>\n",
              "    </tr>\n",
              "    <tr>\n",
              "      <th>285759</th>\n",
              "      <td>610</td>\n",
              "      <td>168252</td>\n",
              "      <td>5.0</td>\n",
              "      <td>Logan (2017)</td>\n",
              "      <td>Action|Sci-Fi</td>\n",
              "      <td>heartbreaking</td>\n",
              "    </tr>\n",
              "    <tr>\n",
              "      <th>285760</th>\n",
              "      <td>610</td>\n",
              "      <td>168252</td>\n",
              "      <td>5.0</td>\n",
              "      <td>Logan (2017)</td>\n",
              "      <td>Action|Sci-Fi</td>\n",
              "      <td>predictible plot</td>\n",
              "    </tr>\n",
              "    <tr>\n",
              "      <th>285761</th>\n",
              "      <td>610</td>\n",
              "      <td>170875</td>\n",
              "      <td>3.0</td>\n",
              "      <td>The Fate of the Furious (2017)</td>\n",
              "      <td>Action|Crime|Drama|Thriller</td>\n",
              "      <td>NaN</td>\n",
              "    </tr>\n",
              "  </tbody>\n",
              "</table>\n",
              "<p>285762 rows × 6 columns</p>\n",
              "</div>"
            ],
            "text/plain": [
              "        userId  ...               tag\n",
              "0            1  ...             pixar\n",
              "1            1  ...             pixar\n",
              "2            1  ...               fun\n",
              "3            1  ...             moldy\n",
              "4            1  ...               old\n",
              "...        ...  ...               ...\n",
              "285757     610  ...         emotional\n",
              "285758     610  ...            gritty\n",
              "285759     610  ...     heartbreaking\n",
              "285760     610  ...  predictible plot\n",
              "285761     610  ...               NaN\n",
              "\n",
              "[285762 rows x 6 columns]"
            ]
          },
          "execution_count": 30,
          "metadata": {},
          "output_type": "execute_result"
        }
      ],
      "source": [
        "all_film = pd.merge(all_film_name, tags[['movieId','tag']], on='movieId', how='left')\n",
        "all_film"
      ]
    },
    {
      "cell_type": "markdown",
      "metadata": {
        "id": "9XDGHfmfUZtK"
      },
      "source": [
        "dilakukan pengecekan data kembali , apakah data memiliki nilai null atau tidak"
      ]
    },
    {
      "cell_type": "code",
      "execution_count": 31,
      "metadata": {
        "colab": {
          "base_uri": "https://localhost:8080/"
        },
        "id": "OIt3rBk6arxf",
        "outputId": "4ff3127b-fa70-43dc-b7a5-460a9f711fcc"
      },
      "outputs": [
        {
          "data": {
            "text/plain": [
              "userId         0\n",
              "movieId        0\n",
              "rating         0\n",
              "title          0\n",
              "genres         0\n",
              "tag        52549\n",
              "dtype: int64"
            ]
          },
          "execution_count": 31,
          "metadata": {},
          "output_type": "execute_result"
        }
      ],
      "source": [
        "all_film.isnull().sum()"
      ]
    },
    {
      "cell_type": "markdown",
      "metadata": {
        "id": "4ACQJUpiUgyg"
      },
      "source": [
        "##<center> Data Preparation </center>\n",
        "Ternyata data memiliki nilai null pada kolom tag , oleh sebab itu sekarang kita akan mencoba mengatasi missing value pada fitur . \n",
        "\n",
        "Berdasarkan pertimbangan kita tidak dapat mengidentifikasi missing value ini berada pada film mana saja , maka langkah terbaik untuk saat ini adalah dengan melakukan drop pada data yang missing . \n",
        "\n",
        "Menggunakan fungsi dropna untuk menghapus missing value."
      ]
    },
    {
      "cell_type": "code",
      "execution_count": 32,
      "metadata": {
        "colab": {
          "base_uri": "https://localhost:8080/",
          "height": 419
        },
        "id": "7gGqxRkxrWRB",
        "outputId": "175d92f1-e164-46f9-852f-ea32f92f562c"
      },
      "outputs": [
        {
          "data": {
            "text/html": [
              "<div>\n",
              "<style scoped>\n",
              "    .dataframe tbody tr th:only-of-type {\n",
              "        vertical-align: middle;\n",
              "    }\n",
              "\n",
              "    .dataframe tbody tr th {\n",
              "        vertical-align: top;\n",
              "    }\n",
              "\n",
              "    .dataframe thead th {\n",
              "        text-align: right;\n",
              "    }\n",
              "</style>\n",
              "<table border=\"1\" class=\"dataframe\">\n",
              "  <thead>\n",
              "    <tr style=\"text-align: right;\">\n",
              "      <th></th>\n",
              "      <th>userId</th>\n",
              "      <th>movieId</th>\n",
              "      <th>rating</th>\n",
              "      <th>title</th>\n",
              "      <th>genres</th>\n",
              "      <th>tag</th>\n",
              "    </tr>\n",
              "  </thead>\n",
              "  <tbody>\n",
              "    <tr>\n",
              "      <th>0</th>\n",
              "      <td>1</td>\n",
              "      <td>1</td>\n",
              "      <td>4.0</td>\n",
              "      <td>Toy Story (1995)</td>\n",
              "      <td>Adventure|Animation|Children|Comedy|Fantasy</td>\n",
              "      <td>pixar</td>\n",
              "    </tr>\n",
              "    <tr>\n",
              "      <th>1</th>\n",
              "      <td>1</td>\n",
              "      <td>1</td>\n",
              "      <td>4.0</td>\n",
              "      <td>Toy Story (1995)</td>\n",
              "      <td>Adventure|Animation|Children|Comedy|Fantasy</td>\n",
              "      <td>pixar</td>\n",
              "    </tr>\n",
              "    <tr>\n",
              "      <th>2</th>\n",
              "      <td>1</td>\n",
              "      <td>1</td>\n",
              "      <td>4.0</td>\n",
              "      <td>Toy Story (1995)</td>\n",
              "      <td>Adventure|Animation|Children|Comedy|Fantasy</td>\n",
              "      <td>fun</td>\n",
              "    </tr>\n",
              "    <tr>\n",
              "      <th>3</th>\n",
              "      <td>1</td>\n",
              "      <td>3</td>\n",
              "      <td>4.0</td>\n",
              "      <td>Grumpier Old Men (1995)</td>\n",
              "      <td>Comedy|Romance</td>\n",
              "      <td>moldy</td>\n",
              "    </tr>\n",
              "    <tr>\n",
              "      <th>4</th>\n",
              "      <td>1</td>\n",
              "      <td>3</td>\n",
              "      <td>4.0</td>\n",
              "      <td>Grumpier Old Men (1995)</td>\n",
              "      <td>Comedy|Romance</td>\n",
              "      <td>old</td>\n",
              "    </tr>\n",
              "    <tr>\n",
              "      <th>...</th>\n",
              "      <td>...</td>\n",
              "      <td>...</td>\n",
              "      <td>...</td>\n",
              "      <td>...</td>\n",
              "      <td>...</td>\n",
              "      <td>...</td>\n",
              "    </tr>\n",
              "    <tr>\n",
              "      <th>285756</th>\n",
              "      <td>610</td>\n",
              "      <td>168252</td>\n",
              "      <td>5.0</td>\n",
              "      <td>Logan (2017)</td>\n",
              "      <td>Action|Sci-Fi</td>\n",
              "      <td>dark</td>\n",
              "    </tr>\n",
              "    <tr>\n",
              "      <th>285757</th>\n",
              "      <td>610</td>\n",
              "      <td>168252</td>\n",
              "      <td>5.0</td>\n",
              "      <td>Logan (2017)</td>\n",
              "      <td>Action|Sci-Fi</td>\n",
              "      <td>emotional</td>\n",
              "    </tr>\n",
              "    <tr>\n",
              "      <th>285758</th>\n",
              "      <td>610</td>\n",
              "      <td>168252</td>\n",
              "      <td>5.0</td>\n",
              "      <td>Logan (2017)</td>\n",
              "      <td>Action|Sci-Fi</td>\n",
              "      <td>gritty</td>\n",
              "    </tr>\n",
              "    <tr>\n",
              "      <th>285759</th>\n",
              "      <td>610</td>\n",
              "      <td>168252</td>\n",
              "      <td>5.0</td>\n",
              "      <td>Logan (2017)</td>\n",
              "      <td>Action|Sci-Fi</td>\n",
              "      <td>heartbreaking</td>\n",
              "    </tr>\n",
              "    <tr>\n",
              "      <th>285760</th>\n",
              "      <td>610</td>\n",
              "      <td>168252</td>\n",
              "      <td>5.0</td>\n",
              "      <td>Logan (2017)</td>\n",
              "      <td>Action|Sci-Fi</td>\n",
              "      <td>predictible plot</td>\n",
              "    </tr>\n",
              "  </tbody>\n",
              "</table>\n",
              "<p>233213 rows × 6 columns</p>\n",
              "</div>"
            ],
            "text/plain": [
              "        userId  ...               tag\n",
              "0            1  ...             pixar\n",
              "1            1  ...             pixar\n",
              "2            1  ...               fun\n",
              "3            1  ...             moldy\n",
              "4            1  ...               old\n",
              "...        ...  ...               ...\n",
              "285756     610  ...              dark\n",
              "285757     610  ...         emotional\n",
              "285758     610  ...            gritty\n",
              "285759     610  ...     heartbreaking\n",
              "285760     610  ...  predictible plot\n",
              "\n",
              "[233213 rows x 6 columns]"
            ]
          },
          "execution_count": 32,
          "metadata": {},
          "output_type": "execute_result"
        }
      ],
      "source": [
        "all_film_clean = all_film.dropna()\n",
        "all_film_clean"
      ]
    },
    {
      "cell_type": "markdown",
      "metadata": {
        "id": "dxxwYq8fWIOT"
      },
      "source": [
        "Memastikan apakah setelah di drop semua missing value telah hilang ."
      ]
    },
    {
      "cell_type": "code",
      "execution_count": 33,
      "metadata": {
        "colab": {
          "base_uri": "https://localhost:8080/"
        },
        "id": "ooqvXOYCrdSF",
        "outputId": "b3b0a8ed-8f33-4306-8860-44cab12a979b"
      },
      "outputs": [
        {
          "data": {
            "text/plain": [
              "userId     0\n",
              "movieId    0\n",
              "rating     0\n",
              "title      0\n",
              "genres     0\n",
              "tag        0\n",
              "dtype: int64"
            ]
          },
          "execution_count": 33,
          "metadata": {},
          "output_type": "execute_result"
        }
      ],
      "source": [
        "all_film_clean.isnull().sum()"
      ]
    },
    {
      "cell_type": "markdown",
      "metadata": {
        "id": "b5WZmCk8WSvd"
      },
      "source": [
        "seperti yang terlihat bahwa sekarang data sudah bersih , pada langkah selanjutnya aku hanya ingin melihat jumlah baris dan kolom pada all_film_clean"
      ]
    },
    {
      "cell_type": "code",
      "execution_count": 34,
      "metadata": {
        "colab": {
          "base_uri": "https://localhost:8080/"
        },
        "id": "aQklyQXKrdPs",
        "outputId": "d4ac6ac3-c7c3-4777-e95c-5f78af48c9ae"
      },
      "outputs": [
        {
          "data": {
            "text/plain": [
              "(233213, 6)"
            ]
          },
          "execution_count": 34,
          "metadata": {},
          "output_type": "execute_result"
        }
      ],
      "source": [
        "all_film_clean.shape"
      ]
    },
    {
      "cell_type": "markdown",
      "metadata": {
        "id": "Lo1Ue0yqcawV"
      },
      "source": [
        "Selanjutnya adalah mengurutkan judul film untuk melakukan penyamaan data ,agar nantinya tidak terjadi bias pada data . \n",
        "\n",
        "disini saya menggunakan fungsi sort.values dan memggunakan movieId sebagai acuannya"
      ]
    },
    {
      "cell_type": "code",
      "execution_count": 35,
      "metadata": {
        "colab": {
          "base_uri": "https://localhost:8080/",
          "height": 419
        },
        "id": "-ScvCBVtgox2",
        "outputId": "23f0a23f-97a8-478c-afd6-5f1802555473"
      },
      "outputs": [
        {
          "data": {
            "text/html": [
              "<div>\n",
              "<style scoped>\n",
              "    .dataframe tbody tr th:only-of-type {\n",
              "        vertical-align: middle;\n",
              "    }\n",
              "\n",
              "    .dataframe tbody tr th {\n",
              "        vertical-align: top;\n",
              "    }\n",
              "\n",
              "    .dataframe thead th {\n",
              "        text-align: right;\n",
              "    }\n",
              "</style>\n",
              "<table border=\"1\" class=\"dataframe\">\n",
              "  <thead>\n",
              "    <tr style=\"text-align: right;\">\n",
              "      <th></th>\n",
              "      <th>userId</th>\n",
              "      <th>movieId</th>\n",
              "      <th>rating</th>\n",
              "      <th>title</th>\n",
              "      <th>genres</th>\n",
              "      <th>tag</th>\n",
              "    </tr>\n",
              "  </thead>\n",
              "  <tbody>\n",
              "    <tr>\n",
              "      <th>0</th>\n",
              "      <td>1</td>\n",
              "      <td>1</td>\n",
              "      <td>4.0</td>\n",
              "      <td>Toy Story (1995)</td>\n",
              "      <td>Adventure|Animation|Children|Comedy|Fantasy</td>\n",
              "      <td>pixar</td>\n",
              "    </tr>\n",
              "    <tr>\n",
              "      <th>121430</th>\n",
              "      <td>275</td>\n",
              "      <td>1</td>\n",
              "      <td>5.0</td>\n",
              "      <td>Toy Story (1995)</td>\n",
              "      <td>Adventure|Animation|Children|Comedy|Fantasy</td>\n",
              "      <td>pixar</td>\n",
              "    </tr>\n",
              "    <tr>\n",
              "      <th>121431</th>\n",
              "      <td>275</td>\n",
              "      <td>1</td>\n",
              "      <td>5.0</td>\n",
              "      <td>Toy Story (1995)</td>\n",
              "      <td>Adventure|Animation|Children|Comedy|Fantasy</td>\n",
              "      <td>pixar</td>\n",
              "    </tr>\n",
              "    <tr>\n",
              "      <th>121432</th>\n",
              "      <td>275</td>\n",
              "      <td>1</td>\n",
              "      <td>5.0</td>\n",
              "      <td>Toy Story (1995)</td>\n",
              "      <td>Adventure|Animation|Children|Comedy|Fantasy</td>\n",
              "      <td>fun</td>\n",
              "    </tr>\n",
              "    <tr>\n",
              "      <th>35190</th>\n",
              "      <td>73</td>\n",
              "      <td>1</td>\n",
              "      <td>4.5</td>\n",
              "      <td>Toy Story (1995)</td>\n",
              "      <td>Adventure|Animation|Children|Comedy|Fantasy</td>\n",
              "      <td>fun</td>\n",
              "    </tr>\n",
              "    <tr>\n",
              "      <th>...</th>\n",
              "      <td>...</td>\n",
              "      <td>...</td>\n",
              "      <td>...</td>\n",
              "      <td>...</td>\n",
              "      <td>...</td>\n",
              "      <td>...</td>\n",
              "    </tr>\n",
              "    <tr>\n",
              "      <th>263644</th>\n",
              "      <td>586</td>\n",
              "      <td>187595</td>\n",
              "      <td>5.0</td>\n",
              "      <td>Solo: A Star Wars Story (2018)</td>\n",
              "      <td>Action|Adventure|Children|Sci-Fi</td>\n",
              "      <td>star wars</td>\n",
              "    </tr>\n",
              "    <tr>\n",
              "      <th>81531</th>\n",
              "      <td>184</td>\n",
              "      <td>193565</td>\n",
              "      <td>3.5</td>\n",
              "      <td>Gintama: The Movie (2010)</td>\n",
              "      <td>Action|Animation|Comedy|Sci-Fi</td>\n",
              "      <td>anime</td>\n",
              "    </tr>\n",
              "    <tr>\n",
              "      <th>81532</th>\n",
              "      <td>184</td>\n",
              "      <td>193565</td>\n",
              "      <td>3.5</td>\n",
              "      <td>Gintama: The Movie (2010)</td>\n",
              "      <td>Action|Animation|Comedy|Sci-Fi</td>\n",
              "      <td>comedy</td>\n",
              "    </tr>\n",
              "    <tr>\n",
              "      <th>81534</th>\n",
              "      <td>184</td>\n",
              "      <td>193565</td>\n",
              "      <td>3.5</td>\n",
              "      <td>Gintama: The Movie (2010)</td>\n",
              "      <td>Action|Animation|Comedy|Sci-Fi</td>\n",
              "      <td>remaster</td>\n",
              "    </tr>\n",
              "    <tr>\n",
              "      <th>81533</th>\n",
              "      <td>184</td>\n",
              "      <td>193565</td>\n",
              "      <td>3.5</td>\n",
              "      <td>Gintama: The Movie (2010)</td>\n",
              "      <td>Action|Animation|Comedy|Sci-Fi</td>\n",
              "      <td>gintama</td>\n",
              "    </tr>\n",
              "  </tbody>\n",
              "</table>\n",
              "<p>233213 rows × 6 columns</p>\n",
              "</div>"
            ],
            "text/plain": [
              "        userId  movieId  ...                                       genres        tag\n",
              "0            1        1  ...  Adventure|Animation|Children|Comedy|Fantasy      pixar\n",
              "121430     275        1  ...  Adventure|Animation|Children|Comedy|Fantasy      pixar\n",
              "121431     275        1  ...  Adventure|Animation|Children|Comedy|Fantasy      pixar\n",
              "121432     275        1  ...  Adventure|Animation|Children|Comedy|Fantasy        fun\n",
              "35190       73        1  ...  Adventure|Animation|Children|Comedy|Fantasy        fun\n",
              "...        ...      ...  ...                                          ...        ...\n",
              "263644     586   187595  ...             Action|Adventure|Children|Sci-Fi  star wars\n",
              "81531      184   193565  ...               Action|Animation|Comedy|Sci-Fi      anime\n",
              "81532      184   193565  ...               Action|Animation|Comedy|Sci-Fi     comedy\n",
              "81534      184   193565  ...               Action|Animation|Comedy|Sci-Fi   remaster\n",
              "81533      184   193565  ...               Action|Animation|Comedy|Sci-Fi    gintama\n",
              "\n",
              "[233213 rows x 6 columns]"
            ]
          },
          "execution_count": 35,
          "metadata": {},
          "output_type": "execute_result"
        }
      ],
      "source": [
        "# Mengurutkan resto berdasarkan movieId kemudian memasukkannya ke dalam variabel fix_film\n",
        "fix_film = all_film_clean.sort_values('movieId', ascending=True)\n",
        "fix_film"
      ]
    },
    {
      "cell_type": "markdown",
      "metadata": {
        "id": "6bJ5axmshmHy"
      },
      "source": [
        "melakukan perhitungan jumlah data yang sudah fix dan data yang unik ."
      ]
    },
    {
      "cell_type": "code",
      "execution_count": 36,
      "metadata": {
        "colab": {
          "base_uri": "https://localhost:8080/"
        },
        "id": "7CYY7FrWg0cv",
        "outputId": "09a4d869-54e1-47a6-9f68-c6a53e696fc8"
      },
      "outputs": [
        {
          "data": {
            "text/plain": [
              "1554"
            ]
          },
          "execution_count": 36,
          "metadata": {},
          "output_type": "execute_result"
        }
      ],
      "source": [
        "# Mengecek berapa jumlah fix_film\n",
        "len(fix_film.movieId.unique())"
      ]
    },
    {
      "cell_type": "markdown",
      "metadata": {
        "id": "dbb03OwBhr2V"
      },
      "source": [
        "ternyata terdapat 1554 id film yang unik dan akan kita gunakan.\n",
        "\n",
        "\n",
        "Selanjutnya adalah proses preparation oleh sebab itu kita akan membuat definisi preparation dimana isi datanya merupakan isi data dari fix_film .dan data diurutkan berdasarkan movieId"
      ]
    },
    {
      "cell_type": "code",
      "execution_count": 37,
      "metadata": {
        "colab": {
          "base_uri": "https://localhost:8080/",
          "height": 419
        },
        "id": "DOXf8PduiNwi",
        "outputId": "0b674378-8927-46ee-d49c-c5859e7f33df"
      },
      "outputs": [
        {
          "data": {
            "text/html": [
              "<div>\n",
              "<style scoped>\n",
              "    .dataframe tbody tr th:only-of-type {\n",
              "        vertical-align: middle;\n",
              "    }\n",
              "\n",
              "    .dataframe tbody tr th {\n",
              "        vertical-align: top;\n",
              "    }\n",
              "\n",
              "    .dataframe thead th {\n",
              "        text-align: right;\n",
              "    }\n",
              "</style>\n",
              "<table border=\"1\" class=\"dataframe\">\n",
              "  <thead>\n",
              "    <tr style=\"text-align: right;\">\n",
              "      <th></th>\n",
              "      <th>userId</th>\n",
              "      <th>movieId</th>\n",
              "      <th>rating</th>\n",
              "      <th>title</th>\n",
              "      <th>genres</th>\n",
              "      <th>tag</th>\n",
              "    </tr>\n",
              "  </thead>\n",
              "  <tbody>\n",
              "    <tr>\n",
              "      <th>0</th>\n",
              "      <td>1</td>\n",
              "      <td>1</td>\n",
              "      <td>4.0</td>\n",
              "      <td>Toy Story (1995)</td>\n",
              "      <td>Adventure|Animation|Children|Comedy|Fantasy</td>\n",
              "      <td>pixar</td>\n",
              "    </tr>\n",
              "    <tr>\n",
              "      <th>44427</th>\n",
              "      <td>98</td>\n",
              "      <td>1</td>\n",
              "      <td>4.5</td>\n",
              "      <td>Toy Story (1995)</td>\n",
              "      <td>Adventure|Animation|Children|Comedy|Fantasy</td>\n",
              "      <td>fun</td>\n",
              "    </tr>\n",
              "    <tr>\n",
              "      <th>44426</th>\n",
              "      <td>98</td>\n",
              "      <td>1</td>\n",
              "      <td>4.5</td>\n",
              "      <td>Toy Story (1995)</td>\n",
              "      <td>Adventure|Animation|Children|Comedy|Fantasy</td>\n",
              "      <td>pixar</td>\n",
              "    </tr>\n",
              "    <tr>\n",
              "      <th>44425</th>\n",
              "      <td>98</td>\n",
              "      <td>1</td>\n",
              "      <td>4.5</td>\n",
              "      <td>Toy Story (1995)</td>\n",
              "      <td>Adventure|Animation|Children|Comedy|Fantasy</td>\n",
              "      <td>pixar</td>\n",
              "    </tr>\n",
              "    <tr>\n",
              "      <th>209733</th>\n",
              "      <td>453</td>\n",
              "      <td>1</td>\n",
              "      <td>5.0</td>\n",
              "      <td>Toy Story (1995)</td>\n",
              "      <td>Adventure|Animation|Children|Comedy|Fantasy</td>\n",
              "      <td>fun</td>\n",
              "    </tr>\n",
              "    <tr>\n",
              "      <th>...</th>\n",
              "      <td>...</td>\n",
              "      <td>...</td>\n",
              "      <td>...</td>\n",
              "      <td>...</td>\n",
              "      <td>...</td>\n",
              "      <td>...</td>\n",
              "    </tr>\n",
              "    <tr>\n",
              "      <th>191470</th>\n",
              "      <td>414</td>\n",
              "      <td>187595</td>\n",
              "      <td>3.5</td>\n",
              "      <td>Solo: A Star Wars Story (2018)</td>\n",
              "      <td>Action|Adventure|Children|Sci-Fi</td>\n",
              "      <td>star wars</td>\n",
              "    </tr>\n",
              "    <tr>\n",
              "      <th>81534</th>\n",
              "      <td>184</td>\n",
              "      <td>193565</td>\n",
              "      <td>3.5</td>\n",
              "      <td>Gintama: The Movie (2010)</td>\n",
              "      <td>Action|Animation|Comedy|Sci-Fi</td>\n",
              "      <td>remaster</td>\n",
              "    </tr>\n",
              "    <tr>\n",
              "      <th>81531</th>\n",
              "      <td>184</td>\n",
              "      <td>193565</td>\n",
              "      <td>3.5</td>\n",
              "      <td>Gintama: The Movie (2010)</td>\n",
              "      <td>Action|Animation|Comedy|Sci-Fi</td>\n",
              "      <td>anime</td>\n",
              "    </tr>\n",
              "    <tr>\n",
              "      <th>81532</th>\n",
              "      <td>184</td>\n",
              "      <td>193565</td>\n",
              "      <td>3.5</td>\n",
              "      <td>Gintama: The Movie (2010)</td>\n",
              "      <td>Action|Animation|Comedy|Sci-Fi</td>\n",
              "      <td>comedy</td>\n",
              "    </tr>\n",
              "    <tr>\n",
              "      <th>81533</th>\n",
              "      <td>184</td>\n",
              "      <td>193565</td>\n",
              "      <td>3.5</td>\n",
              "      <td>Gintama: The Movie (2010)</td>\n",
              "      <td>Action|Animation|Comedy|Sci-Fi</td>\n",
              "      <td>gintama</td>\n",
              "    </tr>\n",
              "  </tbody>\n",
              "</table>\n",
              "<p>233213 rows × 6 columns</p>\n",
              "</div>"
            ],
            "text/plain": [
              "        userId  movieId  ...                                       genres        tag\n",
              "0            1        1  ...  Adventure|Animation|Children|Comedy|Fantasy      pixar\n",
              "44427       98        1  ...  Adventure|Animation|Children|Comedy|Fantasy        fun\n",
              "44426       98        1  ...  Adventure|Animation|Children|Comedy|Fantasy      pixar\n",
              "44425       98        1  ...  Adventure|Animation|Children|Comedy|Fantasy      pixar\n",
              "209733     453        1  ...  Adventure|Animation|Children|Comedy|Fantasy        fun\n",
              "...        ...      ...  ...                                          ...        ...\n",
              "191470     414   187595  ...             Action|Adventure|Children|Sci-Fi  star wars\n",
              "81534      184   193565  ...               Action|Animation|Comedy|Sci-Fi   remaster\n",
              "81531      184   193565  ...               Action|Animation|Comedy|Sci-Fi      anime\n",
              "81532      184   193565  ...               Action|Animation|Comedy|Sci-Fi     comedy\n",
              "81533      184   193565  ...               Action|Animation|Comedy|Sci-Fi    gintama\n",
              "\n",
              "[233213 rows x 6 columns]"
            ]
          },
          "execution_count": 37,
          "metadata": {},
          "output_type": "execute_result"
        }
      ],
      "source": [
        "# Membuat variabel preparation yang berisi dataframe fix_film kemudian mengurutkan berdasarkan movieId\n",
        "preparation = fix_film\n",
        "preparation.sort_values('movieId')"
      ]
    },
    {
      "cell_type": "markdown",
      "metadata": {
        "id": "M-UIJ1Q7iNxu"
      },
      "source": [
        "selanjutnya adalah melakukan drop pada data yang berduplikat , karena seperti yang dilihat banyak sekali data yang berduplikat , untuk acuannya kita masih menggunakan movieId."
      ]
    },
    {
      "cell_type": "code",
      "execution_count": 38,
      "metadata": {
        "colab": {
          "base_uri": "https://localhost:8080/",
          "height": 419
        },
        "id": "rUiVmxoViih7",
        "outputId": "e6e2d56c-590d-431a-8a86-dac162182a30"
      },
      "outputs": [
        {
          "data": {
            "text/html": [
              "<div>\n",
              "<style scoped>\n",
              "    .dataframe tbody tr th:only-of-type {\n",
              "        vertical-align: middle;\n",
              "    }\n",
              "\n",
              "    .dataframe tbody tr th {\n",
              "        vertical-align: top;\n",
              "    }\n",
              "\n",
              "    .dataframe thead th {\n",
              "        text-align: right;\n",
              "    }\n",
              "</style>\n",
              "<table border=\"1\" class=\"dataframe\">\n",
              "  <thead>\n",
              "    <tr style=\"text-align: right;\">\n",
              "      <th></th>\n",
              "      <th>userId</th>\n",
              "      <th>movieId</th>\n",
              "      <th>rating</th>\n",
              "      <th>title</th>\n",
              "      <th>genres</th>\n",
              "      <th>tag</th>\n",
              "    </tr>\n",
              "  </thead>\n",
              "  <tbody>\n",
              "    <tr>\n",
              "      <th>0</th>\n",
              "      <td>1</td>\n",
              "      <td>1</td>\n",
              "      <td>4.0</td>\n",
              "      <td>Toy Story (1995)</td>\n",
              "      <td>Adventure|Animation|Children|Comedy|Fantasy</td>\n",
              "      <td>pixar</td>\n",
              "    </tr>\n",
              "    <tr>\n",
              "      <th>187260</th>\n",
              "      <td>414</td>\n",
              "      <td>2</td>\n",
              "      <td>3.0</td>\n",
              "      <td>Jumanji (1995)</td>\n",
              "      <td>Adventure|Children|Fantasy</td>\n",
              "      <td>fantasy</td>\n",
              "    </tr>\n",
              "    <tr>\n",
              "      <th>106951</th>\n",
              "      <td>240</td>\n",
              "      <td>3</td>\n",
              "      <td>4.0</td>\n",
              "      <td>Grumpier Old Men (1995)</td>\n",
              "      <td>Comedy|Romance</td>\n",
              "      <td>old</td>\n",
              "    </tr>\n",
              "    <tr>\n",
              "      <th>19921</th>\n",
              "      <td>45</td>\n",
              "      <td>5</td>\n",
              "      <td>3.0</td>\n",
              "      <td>Father of the Bride Part II (1995)</td>\n",
              "      <td>Comedy</td>\n",
              "      <td>pregnancy</td>\n",
              "    </tr>\n",
              "    <tr>\n",
              "      <th>115692</th>\n",
              "      <td>262</td>\n",
              "      <td>7</td>\n",
              "      <td>3.0</td>\n",
              "      <td>Sabrina (1995)</td>\n",
              "      <td>Comedy|Romance</td>\n",
              "      <td>remake</td>\n",
              "    </tr>\n",
              "    <tr>\n",
              "      <th>...</th>\n",
              "      <td>...</td>\n",
              "      <td>...</td>\n",
              "      <td>...</td>\n",
              "      <td>...</td>\n",
              "      <td>...</td>\n",
              "      <td>...</td>\n",
              "    </tr>\n",
              "    <tr>\n",
              "      <th>27632</th>\n",
              "      <td>62</td>\n",
              "      <td>183611</td>\n",
              "      <td>4.0</td>\n",
              "      <td>Game Night (2018)</td>\n",
              "      <td>Action|Comedy|Crime|Horror</td>\n",
              "      <td>Comedy</td>\n",
              "    </tr>\n",
              "    <tr>\n",
              "      <th>174264</th>\n",
              "      <td>380</td>\n",
              "      <td>184471</td>\n",
              "      <td>3.0</td>\n",
              "      <td>Tomb Raider (2018)</td>\n",
              "      <td>Action|Adventure|Fantasy</td>\n",
              "      <td>Alicia Vikander</td>\n",
              "    </tr>\n",
              "    <tr>\n",
              "      <th>44721</th>\n",
              "      <td>98</td>\n",
              "      <td>187593</td>\n",
              "      <td>5.0</td>\n",
              "      <td>Deadpool 2 (2018)</td>\n",
              "      <td>Action|Comedy|Sci-Fi</td>\n",
              "      <td>sarcasm</td>\n",
              "    </tr>\n",
              "    <tr>\n",
              "      <th>263643</th>\n",
              "      <td>586</td>\n",
              "      <td>187595</td>\n",
              "      <td>5.0</td>\n",
              "      <td>Solo: A Star Wars Story (2018)</td>\n",
              "      <td>Action|Adventure|Children|Sci-Fi</td>\n",
              "      <td>Emilia Clarke</td>\n",
              "    </tr>\n",
              "    <tr>\n",
              "      <th>81531</th>\n",
              "      <td>184</td>\n",
              "      <td>193565</td>\n",
              "      <td>3.5</td>\n",
              "      <td>Gintama: The Movie (2010)</td>\n",
              "      <td>Action|Animation|Comedy|Sci-Fi</td>\n",
              "      <td>anime</td>\n",
              "    </tr>\n",
              "  </tbody>\n",
              "</table>\n",
              "<p>1554 rows × 6 columns</p>\n",
              "</div>"
            ],
            "text/plain": [
              "        userId  ...              tag\n",
              "0            1  ...            pixar\n",
              "187260     414  ...          fantasy\n",
              "106951     240  ...              old\n",
              "19921       45  ...        pregnancy\n",
              "115692     262  ...           remake\n",
              "...        ...  ...              ...\n",
              "27632       62  ...           Comedy\n",
              "174264     380  ...  Alicia Vikander\n",
              "44721       98  ...          sarcasm\n",
              "263643     586  ...    Emilia Clarke\n",
              "81531      184  ...            anime\n",
              "\n",
              "[1554 rows x 6 columns]"
            ]
          },
          "execution_count": 38,
          "metadata": {},
          "output_type": "execute_result"
        }
      ],
      "source": [
        "# Membuang data duplikat pada variabel preparation\n",
        "preparation = preparation.drop_duplicates('movieId')\n",
        "preparation"
      ]
    },
    {
      "cell_type": "markdown",
      "metadata": {
        "id": "a2Y87_1gifpO"
      },
      "source": [
        "Selanjutnya adalah melakukan konversi data series menjadi list , dengan menggunkan fungsi tolist() dari library numpy"
      ]
    },
    {
      "cell_type": "code",
      "execution_count": 39,
      "metadata": {
        "colab": {
          "base_uri": "https://localhost:8080/"
        },
        "id": "g8yxh4F_iT3n",
        "outputId": "bd1ce853-3c90-4077-8908-f1688705a61d"
      },
      "outputs": [
        {
          "name": "stdout",
          "output_type": "stream",
          "text": [
            "1554\n",
            "1554\n",
            "1554\n",
            "1554\n"
          ]
        }
      ],
      "source": [
        "# Mengonversi data series ‘movieID’ menjadi dalam bentuk list\n",
        "film_id = preparation['movieId'].tolist()\n",
        " \n",
        "# Mengonversi data series ‘title’ menjadi dalam bentuk list\n",
        "film_title = preparation['title'].tolist()\n",
        " \n",
        "# Mengonversi data series ‘tag’ menjadi dalam bentuk list\n",
        "film_tag = preparation['tag'].tolist()\n",
        "\n",
        "# Mengonversi data series ‘genre’ menjadi dalam bentuk list\n",
        "film_genre = preparation['genres'].tolist()\n",
        " \n",
        "print(len(film_id))\n",
        "print(len(film_title))\n",
        "print(len(film_tag))\n",
        "print(len(film_genre))"
      ]
    },
    {
      "cell_type": "markdown",
      "metadata": {
        "id": "KCnn-BhmirwS"
      },
      "source": [
        "Tahap berikutnya, kita akan membuat dictionary untuk menentukan pasangan key-value pada data film_id, film_title,film_tag dan film_genre yang telah kita siapkan sebelumnya"
      ]
    },
    {
      "cell_type": "code",
      "execution_count": 40,
      "metadata": {
        "colab": {
          "base_uri": "https://localhost:8080/",
          "height": 419
        },
        "id": "B7PA6-JCjbxV",
        "outputId": "a556bbd3-900f-4280-fb5b-4c92168b9c42"
      },
      "outputs": [
        {
          "data": {
            "text/html": [
              "<div>\n",
              "<style scoped>\n",
              "    .dataframe tbody tr th:only-of-type {\n",
              "        vertical-align: middle;\n",
              "    }\n",
              "\n",
              "    .dataframe tbody tr th {\n",
              "        vertical-align: top;\n",
              "    }\n",
              "\n",
              "    .dataframe thead th {\n",
              "        text-align: right;\n",
              "    }\n",
              "</style>\n",
              "<table border=\"1\" class=\"dataframe\">\n",
              "  <thead>\n",
              "    <tr style=\"text-align: right;\">\n",
              "      <th></th>\n",
              "      <th>id</th>\n",
              "      <th>title</th>\n",
              "      <th>tags</th>\n",
              "      <th>genres</th>\n",
              "    </tr>\n",
              "  </thead>\n",
              "  <tbody>\n",
              "    <tr>\n",
              "      <th>0</th>\n",
              "      <td>1</td>\n",
              "      <td>Toy Story (1995)</td>\n",
              "      <td>pixar</td>\n",
              "      <td>Adventure|Animation|Children|Comedy|Fantasy</td>\n",
              "    </tr>\n",
              "    <tr>\n",
              "      <th>1</th>\n",
              "      <td>2</td>\n",
              "      <td>Jumanji (1995)</td>\n",
              "      <td>fantasy</td>\n",
              "      <td>Adventure|Children|Fantasy</td>\n",
              "    </tr>\n",
              "    <tr>\n",
              "      <th>2</th>\n",
              "      <td>3</td>\n",
              "      <td>Grumpier Old Men (1995)</td>\n",
              "      <td>old</td>\n",
              "      <td>Comedy|Romance</td>\n",
              "    </tr>\n",
              "    <tr>\n",
              "      <th>3</th>\n",
              "      <td>5</td>\n",
              "      <td>Father of the Bride Part II (1995)</td>\n",
              "      <td>pregnancy</td>\n",
              "      <td>Comedy</td>\n",
              "    </tr>\n",
              "    <tr>\n",
              "      <th>4</th>\n",
              "      <td>7</td>\n",
              "      <td>Sabrina (1995)</td>\n",
              "      <td>remake</td>\n",
              "      <td>Comedy|Romance</td>\n",
              "    </tr>\n",
              "    <tr>\n",
              "      <th>...</th>\n",
              "      <td>...</td>\n",
              "      <td>...</td>\n",
              "      <td>...</td>\n",
              "      <td>...</td>\n",
              "    </tr>\n",
              "    <tr>\n",
              "      <th>1549</th>\n",
              "      <td>183611</td>\n",
              "      <td>Game Night (2018)</td>\n",
              "      <td>Comedy</td>\n",
              "      <td>Action|Comedy|Crime|Horror</td>\n",
              "    </tr>\n",
              "    <tr>\n",
              "      <th>1550</th>\n",
              "      <td>184471</td>\n",
              "      <td>Tomb Raider (2018)</td>\n",
              "      <td>Alicia Vikander</td>\n",
              "      <td>Action|Adventure|Fantasy</td>\n",
              "    </tr>\n",
              "    <tr>\n",
              "      <th>1551</th>\n",
              "      <td>187593</td>\n",
              "      <td>Deadpool 2 (2018)</td>\n",
              "      <td>sarcasm</td>\n",
              "      <td>Action|Comedy|Sci-Fi</td>\n",
              "    </tr>\n",
              "    <tr>\n",
              "      <th>1552</th>\n",
              "      <td>187595</td>\n",
              "      <td>Solo: A Star Wars Story (2018)</td>\n",
              "      <td>Emilia Clarke</td>\n",
              "      <td>Action|Adventure|Children|Sci-Fi</td>\n",
              "    </tr>\n",
              "    <tr>\n",
              "      <th>1553</th>\n",
              "      <td>193565</td>\n",
              "      <td>Gintama: The Movie (2010)</td>\n",
              "      <td>anime</td>\n",
              "      <td>Action|Animation|Comedy|Sci-Fi</td>\n",
              "    </tr>\n",
              "  </tbody>\n",
              "</table>\n",
              "<p>1554 rows × 4 columns</p>\n",
              "</div>"
            ],
            "text/plain": [
              "          id  ...                                       genres\n",
              "0          1  ...  Adventure|Animation|Children|Comedy|Fantasy\n",
              "1          2  ...                   Adventure|Children|Fantasy\n",
              "2          3  ...                               Comedy|Romance\n",
              "3          5  ...                                       Comedy\n",
              "4          7  ...                               Comedy|Romance\n",
              "...      ...  ...                                          ...\n",
              "1549  183611  ...                   Action|Comedy|Crime|Horror\n",
              "1550  184471  ...                     Action|Adventure|Fantasy\n",
              "1551  187593  ...                         Action|Comedy|Sci-Fi\n",
              "1552  187595  ...             Action|Adventure|Children|Sci-Fi\n",
              "1553  193565  ...               Action|Animation|Comedy|Sci-Fi\n",
              "\n",
              "[1554 rows x 4 columns]"
            ]
          },
          "execution_count": 40,
          "metadata": {},
          "output_type": "execute_result"
        }
      ],
      "source": [
        "# Membuat dictionary untuk data ‘film_id’, ‘film_title’, dan ‘film_tag’,'film_genre\n",
        "film_new = pd.DataFrame({\n",
        "    'id': film_id,\n",
        "    'title': film_title,\n",
        "    'tags': film_tag,\n",
        "    'genres': film_genre\n",
        "})\n",
        "film_new"
      ]
    },
    {
      "cell_type": "markdown",
      "metadata": {
        "id": "hY4wDp1Zi_Qq"
      },
      "source": [
        "## <center> Model Development </center>\n",
        "- Menggunakan Content Based Filtering .\n",
        "\n",
        "Pada tahap ini, kita akan membangun sistem rekomendasi sederhana berdasarkan genre yang ada pada film. dengan menggunakan teknik TF-IDF Vectorizer yang berguna untuk menemukan representasi fitur penting pada setiap kategori.\n",
        "\n",
        "Menggunakan fungsi tfidvectorizer dari library sklearn ."
      ]
    },
    {
      "cell_type": "code",
      "execution_count": 41,
      "metadata": {
        "colab": {
          "base_uri": "https://localhost:8080/"
        },
        "id": "pCy6FFdjkaKk",
        "outputId": "1ce6d93d-387e-42b6-9977-f4e61644260e"
      },
      "outputs": [
        {
          "data": {
            "text/plain": [
              "['action',\n",
              " 'adventure',\n",
              " 'animation',\n",
              " 'children',\n",
              " 'comedy',\n",
              " 'crime',\n",
              " 'documentary',\n",
              " 'drama',\n",
              " 'fantasy',\n",
              " 'fi',\n",
              " 'film',\n",
              " 'genres',\n",
              " 'horror',\n",
              " 'imax',\n",
              " 'listed',\n",
              " 'musical',\n",
              " 'mystery',\n",
              " 'no',\n",
              " 'noir',\n",
              " 'romance',\n",
              " 'sci',\n",
              " 'thriller',\n",
              " 'war',\n",
              " 'western']"
            ]
          },
          "execution_count": 41,
          "metadata": {},
          "output_type": "execute_result"
        }
      ],
      "source": [
        "from sklearn.feature_extraction.text import TfidfVectorizer\n",
        " \n",
        "# Inisialisasi TfidfVectorizer\n",
        "tf = TfidfVectorizer()\n",
        " \n",
        "# Melakukan perhitungan idf pada data tag\n",
        "tf.fit(film_new['genres']) \n",
        " \n",
        "# Mapping array dari fitur index integer ke fitur nama\n",
        "tf.get_feature_names() "
      ]
    },
    {
      "cell_type": "markdown",
      "metadata": {
        "id": "ZqnLOWnXvbIy"
      },
      "source": [
        "Melakukan fit dan tranformasi dalam bentuk matriks"
      ]
    },
    {
      "cell_type": "code",
      "execution_count": 42,
      "metadata": {
        "colab": {
          "base_uri": "https://localhost:8080/"
        },
        "id": "QbLKeD_Fks7j",
        "outputId": "cb2882dc-28c6-477e-c583-6d61d116d76e"
      },
      "outputs": [
        {
          "data": {
            "text/plain": [
              "(1554, 24)"
            ]
          },
          "execution_count": 42,
          "metadata": {},
          "output_type": "execute_result"
        }
      ],
      "source": [
        "# Melakukan fit lalu ditransformasikan ke bentuk matrix\n",
        "tfidf_matrix = tf.fit_transform(film_new['genres']) \n",
        " \n",
        "# Melihat ukuran matrix tfidf\n",
        "tfidf_matrix.shape "
      ]
    },
    {
      "cell_type": "markdown",
      "metadata": {
        "id": "6O0WlFBCvhXy"
      },
      "source": [
        "Perhatikanlah, matriks yang ini miliki berukuran (1554, 24). Nilai 1554 merupakan ukuran data dan 24 merupakan matrik genre. \n",
        "\n",
        "selanjutnya untuk menghasilkan vektor tf-idf dalam bentuk matriks, saya menggunakan fungsi todense(). Jalankan kode berikut."
      ]
    },
    {
      "cell_type": "code",
      "execution_count": 43,
      "metadata": {
        "colab": {
          "base_uri": "https://localhost:8080/"
        },
        "id": "Fo9O-jWyk0KN",
        "outputId": "469da5fb-cd5a-46db-eb89-8a33d7e51cd9"
      },
      "outputs": [
        {
          "data": {
            "text/plain": [
              "matrix([[0.        , 0.3983147 , 0.52247057, ..., 0.        , 0.        ,\n",
              "         0.        ],\n",
              "        [0.        , 0.49497089, 0.        , ..., 0.        , 0.        ,\n",
              "         0.        ],\n",
              "        [0.        , 0.        , 0.        , ..., 0.        , 0.        ,\n",
              "         0.        ],\n",
              "        ...,\n",
              "        [0.49413097, 0.        , 0.        , ..., 0.        , 0.        ,\n",
              "         0.        ],\n",
              "        [0.39639614, 0.40792706, 0.        , ..., 0.        , 0.        ,\n",
              "         0.        ],\n",
              "        [0.41107716, 0.        , 0.55489644, ..., 0.        , 0.        ,\n",
              "         0.        ]])"
            ]
          },
          "execution_count": 43,
          "metadata": {},
          "output_type": "execute_result"
        }
      ],
      "source": [
        "# Mengubah vektor tf-idf dalam bentuk matriks dengan fungsi todense()\n",
        "tfidf_matrix.todense()"
      ]
    },
    {
      "cell_type": "markdown",
      "metadata": {
        "id": "tHnfJffzv9PZ"
      },
      "source": [
        "Selanjutnya adalah berupaya melihat matriks tf-idf untuk beberapa film dan genre ."
      ]
    },
    {
      "cell_type": "code",
      "execution_count": 44,
      "metadata": {
        "colab": {
          "base_uri": "https://localhost:8080/",
          "height": 424
        },
        "id": "0mIetftYk8aR",
        "outputId": "1203437d-1aa1-43d5-cc08-9952e90d0c22"
      },
      "outputs": [
        {
          "data": {
            "text/html": [
              "<div>\n",
              "<style scoped>\n",
              "    .dataframe tbody tr th:only-of-type {\n",
              "        vertical-align: middle;\n",
              "    }\n",
              "\n",
              "    .dataframe tbody tr th {\n",
              "        vertical-align: top;\n",
              "    }\n",
              "\n",
              "    .dataframe thead th {\n",
              "        text-align: right;\n",
              "    }\n",
              "</style>\n",
              "<table border=\"1\" class=\"dataframe\">\n",
              "  <thead>\n",
              "    <tr style=\"text-align: right;\">\n",
              "      <th></th>\n",
              "      <th>thriller</th>\n",
              "      <th>noir</th>\n",
              "      <th>war</th>\n",
              "      <th>mystery</th>\n",
              "      <th>listed</th>\n",
              "      <th>fantasy</th>\n",
              "      <th>fi</th>\n",
              "      <th>crime</th>\n",
              "      <th>film</th>\n",
              "      <th>sci</th>\n",
              "      <th>imax</th>\n",
              "      <th>comedy</th>\n",
              "      <th>western</th>\n",
              "      <th>musical</th>\n",
              "      <th>horror</th>\n",
              "      <th>children</th>\n",
              "      <th>genres</th>\n",
              "      <th>documentary</th>\n",
              "      <th>drama</th>\n",
              "      <th>animation</th>\n",
              "      <th>romance</th>\n",
              "      <th>action</th>\n",
              "    </tr>\n",
              "    <tr>\n",
              "      <th>title</th>\n",
              "      <th></th>\n",
              "      <th></th>\n",
              "      <th></th>\n",
              "      <th></th>\n",
              "      <th></th>\n",
              "      <th></th>\n",
              "      <th></th>\n",
              "      <th></th>\n",
              "      <th></th>\n",
              "      <th></th>\n",
              "      <th></th>\n",
              "      <th></th>\n",
              "      <th></th>\n",
              "      <th></th>\n",
              "      <th></th>\n",
              "      <th></th>\n",
              "      <th></th>\n",
              "      <th></th>\n",
              "      <th></th>\n",
              "      <th></th>\n",
              "      <th></th>\n",
              "      <th></th>\n",
              "    </tr>\n",
              "  </thead>\n",
              "  <tbody>\n",
              "    <tr>\n",
              "      <th>Upside Down: The Creation Records Story (2010)</th>\n",
              "      <td>0.000000</td>\n",
              "      <td>0.000000</td>\n",
              "      <td>0.0</td>\n",
              "      <td>0.000000</td>\n",
              "      <td>0.0</td>\n",
              "      <td>0.0</td>\n",
              "      <td>0.0</td>\n",
              "      <td>0.000000</td>\n",
              "      <td>0.000000</td>\n",
              "      <td>0.0</td>\n",
              "      <td>0.0</td>\n",
              "      <td>0.000000</td>\n",
              "      <td>0.0</td>\n",
              "      <td>0.000000</td>\n",
              "      <td>0.0</td>\n",
              "      <td>0.0</td>\n",
              "      <td>0.0</td>\n",
              "      <td>1.0</td>\n",
              "      <td>0.000000</td>\n",
              "      <td>0.0</td>\n",
              "      <td>0.000000</td>\n",
              "      <td>0.0</td>\n",
              "    </tr>\n",
              "    <tr>\n",
              "      <th>Black Orpheus (Orfeu Negro) (1959)</th>\n",
              "      <td>0.000000</td>\n",
              "      <td>0.000000</td>\n",
              "      <td>0.0</td>\n",
              "      <td>0.000000</td>\n",
              "      <td>0.0</td>\n",
              "      <td>0.0</td>\n",
              "      <td>0.0</td>\n",
              "      <td>0.000000</td>\n",
              "      <td>0.000000</td>\n",
              "      <td>0.0</td>\n",
              "      <td>0.0</td>\n",
              "      <td>0.000000</td>\n",
              "      <td>0.0</td>\n",
              "      <td>0.000000</td>\n",
              "      <td>0.0</td>\n",
              "      <td>0.0</td>\n",
              "      <td>0.0</td>\n",
              "      <td>0.0</td>\n",
              "      <td>0.531842</td>\n",
              "      <td>0.0</td>\n",
              "      <td>0.846843</td>\n",
              "      <td>0.0</td>\n",
              "    </tr>\n",
              "    <tr>\n",
              "      <th>Ikiru (1952)</th>\n",
              "      <td>0.000000</td>\n",
              "      <td>0.000000</td>\n",
              "      <td>0.0</td>\n",
              "      <td>0.000000</td>\n",
              "      <td>0.0</td>\n",
              "      <td>0.0</td>\n",
              "      <td>0.0</td>\n",
              "      <td>0.000000</td>\n",
              "      <td>0.000000</td>\n",
              "      <td>0.0</td>\n",
              "      <td>0.0</td>\n",
              "      <td>0.000000</td>\n",
              "      <td>0.0</td>\n",
              "      <td>0.000000</td>\n",
              "      <td>0.0</td>\n",
              "      <td>0.0</td>\n",
              "      <td>0.0</td>\n",
              "      <td>0.0</td>\n",
              "      <td>1.000000</td>\n",
              "      <td>0.0</td>\n",
              "      <td>0.000000</td>\n",
              "      <td>0.0</td>\n",
              "    </tr>\n",
              "    <tr>\n",
              "      <th>Gross Anatomy (a.k.a. A Cut Above) (1989)</th>\n",
              "      <td>0.000000</td>\n",
              "      <td>0.000000</td>\n",
              "      <td>0.0</td>\n",
              "      <td>0.000000</td>\n",
              "      <td>0.0</td>\n",
              "      <td>0.0</td>\n",
              "      <td>0.0</td>\n",
              "      <td>0.000000</td>\n",
              "      <td>0.000000</td>\n",
              "      <td>0.0</td>\n",
              "      <td>0.0</td>\n",
              "      <td>0.799743</td>\n",
              "      <td>0.0</td>\n",
              "      <td>0.000000</td>\n",
              "      <td>0.0</td>\n",
              "      <td>0.0</td>\n",
              "      <td>0.0</td>\n",
              "      <td>0.0</td>\n",
              "      <td>0.600342</td>\n",
              "      <td>0.0</td>\n",
              "      <td>0.000000</td>\n",
              "      <td>0.0</td>\n",
              "    </tr>\n",
              "    <tr>\n",
              "      <th>Chinatown (1974)</th>\n",
              "      <td>0.308571</td>\n",
              "      <td>0.557573</td>\n",
              "      <td>0.0</td>\n",
              "      <td>0.400755</td>\n",
              "      <td>0.0</td>\n",
              "      <td>0.0</td>\n",
              "      <td>0.0</td>\n",
              "      <td>0.349862</td>\n",
              "      <td>0.557573</td>\n",
              "      <td>0.0</td>\n",
              "      <td>0.0</td>\n",
              "      <td>0.000000</td>\n",
              "      <td>0.0</td>\n",
              "      <td>0.000000</td>\n",
              "      <td>0.0</td>\n",
              "      <td>0.0</td>\n",
              "      <td>0.0</td>\n",
              "      <td>0.0</td>\n",
              "      <td>0.000000</td>\n",
              "      <td>0.0</td>\n",
              "      <td>0.000000</td>\n",
              "      <td>0.0</td>\n",
              "    </tr>\n",
              "    <tr>\n",
              "      <th>Taxi Driver (1976)</th>\n",
              "      <td>0.616068</td>\n",
              "      <td>0.000000</td>\n",
              "      <td>0.0</td>\n",
              "      <td>0.000000</td>\n",
              "      <td>0.0</td>\n",
              "      <td>0.0</td>\n",
              "      <td>0.0</td>\n",
              "      <td>0.698508</td>\n",
              "      <td>0.000000</td>\n",
              "      <td>0.0</td>\n",
              "      <td>0.0</td>\n",
              "      <td>0.000000</td>\n",
              "      <td>0.0</td>\n",
              "      <td>0.000000</td>\n",
              "      <td>0.0</td>\n",
              "      <td>0.0</td>\n",
              "      <td>0.0</td>\n",
              "      <td>0.0</td>\n",
              "      <td>0.364069</td>\n",
              "      <td>0.0</td>\n",
              "      <td>0.000000</td>\n",
              "      <td>0.0</td>\n",
              "    </tr>\n",
              "    <tr>\n",
              "      <th>Cold Comfort Farm (1995)</th>\n",
              "      <td>0.000000</td>\n",
              "      <td>0.000000</td>\n",
              "      <td>0.0</td>\n",
              "      <td>0.000000</td>\n",
              "      <td>0.0</td>\n",
              "      <td>0.0</td>\n",
              "      <td>0.0</td>\n",
              "      <td>0.000000</td>\n",
              "      <td>0.000000</td>\n",
              "      <td>0.0</td>\n",
              "      <td>0.0</td>\n",
              "      <td>1.000000</td>\n",
              "      <td>0.0</td>\n",
              "      <td>0.000000</td>\n",
              "      <td>0.0</td>\n",
              "      <td>0.0</td>\n",
              "      <td>0.0</td>\n",
              "      <td>0.0</td>\n",
              "      <td>0.000000</td>\n",
              "      <td>0.0</td>\n",
              "      <td>0.000000</td>\n",
              "      <td>0.0</td>\n",
              "    </tr>\n",
              "    <tr>\n",
              "      <th>And the Band Played On (1993)</th>\n",
              "      <td>0.000000</td>\n",
              "      <td>0.000000</td>\n",
              "      <td>0.0</td>\n",
              "      <td>0.000000</td>\n",
              "      <td>0.0</td>\n",
              "      <td>0.0</td>\n",
              "      <td>0.0</td>\n",
              "      <td>0.000000</td>\n",
              "      <td>0.000000</td>\n",
              "      <td>0.0</td>\n",
              "      <td>0.0</td>\n",
              "      <td>0.000000</td>\n",
              "      <td>0.0</td>\n",
              "      <td>0.000000</td>\n",
              "      <td>0.0</td>\n",
              "      <td>0.0</td>\n",
              "      <td>0.0</td>\n",
              "      <td>0.0</td>\n",
              "      <td>1.000000</td>\n",
              "      <td>0.0</td>\n",
              "      <td>0.000000</td>\n",
              "      <td>0.0</td>\n",
              "    </tr>\n",
              "    <tr>\n",
              "      <th>Oliver! (1968)</th>\n",
              "      <td>0.000000</td>\n",
              "      <td>0.000000</td>\n",
              "      <td>0.0</td>\n",
              "      <td>0.000000</td>\n",
              "      <td>0.0</td>\n",
              "      <td>0.0</td>\n",
              "      <td>0.0</td>\n",
              "      <td>0.000000</td>\n",
              "      <td>0.000000</td>\n",
              "      <td>0.0</td>\n",
              "      <td>0.0</td>\n",
              "      <td>0.000000</td>\n",
              "      <td>0.0</td>\n",
              "      <td>0.927272</td>\n",
              "      <td>0.0</td>\n",
              "      <td>0.0</td>\n",
              "      <td>0.0</td>\n",
              "      <td>0.0</td>\n",
              "      <td>0.374389</td>\n",
              "      <td>0.0</td>\n",
              "      <td>0.000000</td>\n",
              "      <td>0.0</td>\n",
              "    </tr>\n",
              "    <tr>\n",
              "      <th>Bottle Rocket (1996)</th>\n",
              "      <td>0.000000</td>\n",
              "      <td>0.000000</td>\n",
              "      <td>0.0</td>\n",
              "      <td>0.000000</td>\n",
              "      <td>0.0</td>\n",
              "      <td>0.0</td>\n",
              "      <td>0.0</td>\n",
              "      <td>0.564908</td>\n",
              "      <td>0.000000</td>\n",
              "      <td>0.0</td>\n",
              "      <td>0.0</td>\n",
              "      <td>0.392231</td>\n",
              "      <td>0.0</td>\n",
              "      <td>0.000000</td>\n",
              "      <td>0.0</td>\n",
              "      <td>0.0</td>\n",
              "      <td>0.0</td>\n",
              "      <td>0.0</td>\n",
              "      <td>0.000000</td>\n",
              "      <td>0.0</td>\n",
              "      <td>0.468825</td>\n",
              "      <td>0.0</td>\n",
              "    </tr>\n",
              "  </tbody>\n",
              "</table>\n",
              "</div>"
            ],
            "text/plain": [
              "                                                thriller  ...  action\n",
              "title                                                     ...        \n",
              "Upside Down: The Creation Records Story (2010)  0.000000  ...     0.0\n",
              "Black Orpheus (Orfeu Negro) (1959)              0.000000  ...     0.0\n",
              "Ikiru (1952)                                    0.000000  ...     0.0\n",
              "Gross Anatomy (a.k.a. A Cut Above) (1989)       0.000000  ...     0.0\n",
              "Chinatown (1974)                                0.308571  ...     0.0\n",
              "Taxi Driver (1976)                              0.616068  ...     0.0\n",
              "Cold Comfort Farm (1995)                        0.000000  ...     0.0\n",
              "And the Band Played On (1993)                   0.000000  ...     0.0\n",
              "Oliver! (1968)                                  0.000000  ...     0.0\n",
              "Bottle Rocket (1996)                            0.000000  ...     0.0\n",
              "\n",
              "[10 rows x 22 columns]"
            ]
          },
          "execution_count": 44,
          "metadata": {},
          "output_type": "execute_result"
        }
      ],
      "source": [
        "# Membuat dataframe untuk melihat tf-idf matrix\n",
        "# Kolom diisi dengan jenis genres\n",
        "# Baris diisi dengan title film\n",
        " \n",
        "pd.DataFrame(\n",
        "    tfidf_matrix.todense(), \n",
        "    columns=tf.get_feature_names(),\n",
        "    index=film_new.title\n",
        ").sample(22, axis=1).sample(10, axis=0)"
      ]
    },
    {
      "cell_type": "markdown",
      "metadata": {
        "id": "a_vkCdyEwIkd"
      },
      "source": [
        "Output matriks tf-idf di atas menunjukkan bahwa film dengan judul \"Upside Down: The Creation Records Story (2010)\" memiliki genre Documentary . Hal ini dapat terlihat dari nilai matriks yang menunjukan nilai 1.0 ,selanjutnya ada film \"Ikiru (1952)\" yang bergenre drama ,film \"Cold Comfort Farm (1995)\" yang bergenre comedy , dan demikian seterusnya ."
      ]
    },
    {
      "cell_type": "markdown",
      "metadata": {
        "id": "oEulYOSLxO1g"
      },
      "source": [
        "Sampai di sini, kita telah berhasil mengidentifikasi representasi fitur penting dari setiap kategori dengan fungsi tfidfvectorizer. Kita juga telah menghasilkan matriks yang menunjukkan korelasi antara genre dengan film.\n",
        "\n",
        "Selanjutnya, kita akan menghitung derajat kesamaan antara satu judul film dengan film lainnya untuk menghasilkan kandidat film mana yang akan direkomendasikan."
      ]
    },
    {
      "cell_type": "markdown",
      "metadata": {
        "id": "QfGHMG06xpDD"
      },
      "source": [
        "### <center> Cosine Similarity</center>\n",
        "Sekarang, saya akan menghitung derajat kesamaan (similarity degree) antar film dengan teknik cosine similarity. Di sini, saya menggunakan fungsi cosine_similarity dari library sklearn. "
      ]
    },
    {
      "cell_type": "code",
      "execution_count": 45,
      "metadata": {
        "colab": {
          "base_uri": "https://localhost:8080/"
        },
        "id": "012cqp1TmS8X",
        "outputId": "fb72fa83-99d7-4daa-83d6-3f86b5951c65"
      },
      "outputs": [
        {
          "data": {
            "text/plain": [
              "array([[1.        , 0.80472348, 0.1808617 , ..., 0.10142228, 0.42942348,\n",
              "        0.37429223],\n",
              "       [0.80472348, 1.        , 0.        , ..., 0.        , 0.53362862,\n",
              "        0.        ],\n",
              "       [0.1808617 , 0.        , 1.        , ..., 0.23089549, 0.        ,\n",
              "        0.19208644],\n",
              "       ...,\n",
              "       [0.10142228, 0.        , 0.23089549, ..., 1.        , 0.6983388 ,\n",
              "        0.83191943],\n",
              "       [0.42942348, 0.53362862, 0.        , ..., 0.6983388 , 1.        ,\n",
              "        0.58096161],\n",
              "       [0.37429223, 0.        , 0.19208644, ..., 0.83191943, 0.58096161,\n",
              "        1.        ]])"
            ]
          },
          "execution_count": 45,
          "metadata": {},
          "output_type": "execute_result"
        }
      ],
      "source": [
        "from sklearn.metrics.pairwise import cosine_similarity\n",
        " \n",
        "# Menghitung cosine similarity pada matrix tf-idf\n",
        "cosine_sim = cosine_similarity(tfidf_matrix) \n",
        "cosine_sim"
      ]
    },
    {
      "cell_type": "markdown",
      "metadata": {
        "id": "S9NgD-rzx_bQ"
      },
      "source": [
        "Pada tahapan ini, proses menghitung cosine similarity dataframe tfidf_matrix yang di peroleh pada tahapan sebelumnya. Dengan satu baris kode untuk memanggil fungsi cosine similarity dari library sklearn, telah berhasil menghitung kesamaan (similarity) antar film. Kode di atas menghasilkan keluaran berupa matriks kesamaan dalam bentuk array. \n",
        "\n",
        "Selanjutnya,  melihat matriks kesamaan setiap film dengan menampilkan judul film dalam 5 sampel kolom (axis = 1) dan 10 sampel baris (axis=0). Jalankan kode berikut."
      ]
    },
    {
      "cell_type": "code",
      "execution_count": 46,
      "metadata": {
        "colab": {
          "base_uri": "https://localhost:8080/",
          "height": 407
        },
        "id": "QuiYoEjbmcbR",
        "outputId": "926bafb3-c852-46f3-a1fa-f03069583c8a"
      },
      "outputs": [
        {
          "name": "stdout",
          "output_type": "stream",
          "text": [
            "Shape: (1554, 1554)\n"
          ]
        },
        {
          "data": {
            "text/html": [
              "<div>\n",
              "<style scoped>\n",
              "    .dataframe tbody tr th:only-of-type {\n",
              "        vertical-align: middle;\n",
              "    }\n",
              "\n",
              "    .dataframe tbody tr th {\n",
              "        vertical-align: top;\n",
              "    }\n",
              "\n",
              "    .dataframe thead th {\n",
              "        text-align: right;\n",
              "    }\n",
              "</style>\n",
              "<table border=\"1\" class=\"dataframe\">\n",
              "  <thead>\n",
              "    <tr style=\"text-align: right;\">\n",
              "      <th>title</th>\n",
              "      <th>Tron: Legacy (2010)</th>\n",
              "      <th>They Shoot Horses, Don't They? (1969)</th>\n",
              "      <th>Mean Creek (2004)</th>\n",
              "      <th>Hero (Ying xiong) (2002)</th>\n",
              "      <th>All the President's Men (1976)</th>\n",
              "    </tr>\n",
              "    <tr>\n",
              "      <th>title</th>\n",
              "      <th></th>\n",
              "      <th></th>\n",
              "      <th></th>\n",
              "      <th></th>\n",
              "      <th></th>\n",
              "    </tr>\n",
              "  </thead>\n",
              "  <tbody>\n",
              "    <tr>\n",
              "      <th>Searching for Bobby Fischer (1993)</th>\n",
              "      <td>0.0</td>\n",
              "      <td>1.000000</td>\n",
              "      <td>0.508759</td>\n",
              "      <td>0.355999</td>\n",
              "      <td>0.508759</td>\n",
              "    </tr>\n",
              "    <tr>\n",
              "      <th>Friday the 13th Part V: A New Beginning (1985)</th>\n",
              "      <td>0.0</td>\n",
              "      <td>0.000000</td>\n",
              "      <td>0.000000</td>\n",
              "      <td>0.000000</td>\n",
              "      <td>0.000000</td>\n",
              "    </tr>\n",
              "    <tr>\n",
              "      <th>Blue Sky (1994)</th>\n",
              "      <td>0.0</td>\n",
              "      <td>0.531842</td>\n",
              "      <td>0.270580</td>\n",
              "      <td>0.189336</td>\n",
              "      <td>0.270580</td>\n",
              "    </tr>\n",
              "    <tr>\n",
              "      <th>Godfather: Part II, The (1974)</th>\n",
              "      <td>0.0</td>\n",
              "      <td>0.462197</td>\n",
              "      <td>0.235147</td>\n",
              "      <td>0.164542</td>\n",
              "      <td>0.235147</td>\n",
              "    </tr>\n",
              "    <tr>\n",
              "      <th>Ed Wood (1994)</th>\n",
              "      <td>0.0</td>\n",
              "      <td>0.600342</td>\n",
              "      <td>0.305429</td>\n",
              "      <td>0.213721</td>\n",
              "      <td>0.305429</td>\n",
              "    </tr>\n",
              "    <tr>\n",
              "      <th>Syriana (2005)</th>\n",
              "      <td>0.0</td>\n",
              "      <td>0.508759</td>\n",
              "      <td>1.000000</td>\n",
              "      <td>0.181118</td>\n",
              "      <td>1.000000</td>\n",
              "    </tr>\n",
              "    <tr>\n",
              "      <th>Alice Doesn't Live Here Anymore (1974)</th>\n",
              "      <td>0.0</td>\n",
              "      <td>0.531842</td>\n",
              "      <td>0.270580</td>\n",
              "      <td>0.189336</td>\n",
              "      <td>0.270580</td>\n",
              "    </tr>\n",
              "    <tr>\n",
              "      <th>A Million Ways to Die in the West (2014)</th>\n",
              "      <td>0.0</td>\n",
              "      <td>0.000000</td>\n",
              "      <td>0.000000</td>\n",
              "      <td>0.000000</td>\n",
              "      <td>0.000000</td>\n",
              "    </tr>\n",
              "    <tr>\n",
              "      <th>Dead Again (1991)</th>\n",
              "      <td>0.0</td>\n",
              "      <td>0.000000</td>\n",
              "      <td>0.455503</td>\n",
              "      <td>0.000000</td>\n",
              "      <td>0.455503</td>\n",
              "    </tr>\n",
              "    <tr>\n",
              "      <th>Annie Hall (1977)</th>\n",
              "      <td>0.0</td>\n",
              "      <td>0.000000</td>\n",
              "      <td>0.000000</td>\n",
              "      <td>0.000000</td>\n",
              "      <td>0.000000</td>\n",
              "    </tr>\n",
              "  </tbody>\n",
              "</table>\n",
              "</div>"
            ],
            "text/plain": [
              "title                                           Tron: Legacy (2010)  ...  All the President's Men (1976)\n",
              "title                                                                ...                                \n",
              "Searching for Bobby Fischer (1993)                              0.0  ...                        0.508759\n",
              "Friday the 13th Part V: A New Beginning (1985)                  0.0  ...                        0.000000\n",
              "Blue Sky (1994)                                                 0.0  ...                        0.270580\n",
              "Godfather: Part II, The (1974)                                  0.0  ...                        0.235147\n",
              "Ed Wood (1994)                                                  0.0  ...                        0.305429\n",
              "Syriana (2005)                                                  0.0  ...                        1.000000\n",
              "Alice Doesn't Live Here Anymore (1974)                          0.0  ...                        0.270580\n",
              "A Million Ways to Die in the West (2014)                        0.0  ...                        0.000000\n",
              "Dead Again (1991)                                               0.0  ...                        0.455503\n",
              "Annie Hall (1977)                                               0.0  ...                        0.000000\n",
              "\n",
              "[10 rows x 5 columns]"
            ]
          },
          "execution_count": 46,
          "metadata": {},
          "output_type": "execute_result"
        }
      ],
      "source": [
        "# Membuat dataframe dari variabel cosine_sim dengan baris dan kolom berupa nama resto\n",
        "cosine_sim_df = pd.DataFrame(cosine_sim, index=film_new['title'], columns=film_new['title'])\n",
        "print('Shape:', cosine_sim_df.shape)\n",
        " \n",
        "# Melihat similarity matrix pada setiap film\n",
        "cosine_sim_df.sample(5, axis=1).sample(10, axis=0)"
      ]
    },
    {
      "cell_type": "markdown",
      "metadata": {
        "id": "OWl1GxBJyOtY"
      },
      "source": [
        "Dengan cosine similarity, saya berhasil mengidentifikasi kesamaan antara satu judul film dengan judul film lainnya. Shape (1554, 1554) merupakan ukuran matriks similarity dari data yang di miliki. Berdasarkan data yang ada, matriks di atas sebenarnya berukuran 1554 judul film x 1554 judul film (masing-masing dalam sumbu X dan Y). Artinya, mengidentifikasi tingkat kesamaan pada 1554 judul film. Tapi tentu tidak bisa menampilkan semuanya. Oleh karena itu, saya hanya memilih 10 film pada baris vertikal dan 5 film pada sumbu horizontal seperti pada contoh di atas. \n",
        "\n",
        "Angka 1.0 yang berada di tabel mengindikasikan bahwa film pada kolom X (horizontal) memiliki kesamaan dengan film pada baris Y (vertikal). Sebagai contoh, film dengan judul \"Searching for Bobby Fischer (1993)\" teridentifikasi sama (similar) dengan film \"They Shoot Horses, Don't They? (1969)\". Contoh lain,judul film Syriana (2005) teridentifikasi mirip dengan judul film \" Mean Creek (2004)\" dan \"All the President's Men (1976)\" . "
      ]
    },
    {
      "cell_type": "markdown",
      "metadata": {
        "id": "B0l-Mur9zs2Q"
      },
      "source": [
        "Selanjutnya adalah mencoba mendapatkan rekomendasi .\n",
        "\n",
        "Di sini, saya membuat fungsi film_recommendations dengan beberapa parameter sebagai berikut:\n",
        "\n",
        "- title : judul film (index kemiripan dataframe).\n",
        "\n",
        "- Similarity_data : Dataframe mengenai similarity yang telah saya definisikan sebelumnya.\n",
        "\n",
        "- Items : Nama dan fitur yang digunakan untuk mendefinisikan kemiripan, dalam hal ini adalah ‘title’ dan ‘genre’.\n",
        "\n",
        "- k : Banyak rekomendasi yang ingin diberikan.\n",
        "\n",
        "Definisi sistem rekomendasi yang menyatakan bahwa keluaran sistem ini adalah berupa top-N recommendation. Oleh karena itu, saya akan memberikan sejumlah rekomendasi judul film pada pengguna yang diatur dalam parameter k. "
      ]
    },
    {
      "cell_type": "code",
      "execution_count": 47,
      "metadata": {
        "id": "JLyCaHqgoPtS"
      },
      "outputs": [],
      "source": [
        "def film_recommendations(title, similarity_data=cosine_sim_df, items=film_new[['title', 'genres']], k=5):\n",
        "    \"\"\"\n",
        "    Rekomendasi film berdasarkan kemiripan dataframe\n",
        " \n",
        "    Parameter:\n",
        "    ---\n",
        "    title : tipe data string (str)\n",
        "                judul film (index kemiripan dataframe)\n",
        "    similarity_data : tipe data pd.DataFrame (object)\n",
        "                      Kesamaan dataframe, simetrik, dengan film sebagai \n",
        "                      indeks dan kolom\n",
        "    items : tipe data pd.DataFrame (object)\n",
        "            Mengandung kedua nama dan fitur lainnya yang digunakan untuk mendefinisikan kemiripan\n",
        "    k : tipe data integer (int)\n",
        "        Banyaknya jumlah rekomendasi yang diberikan\n",
        "    ---\n",
        " \n",
        " \n",
        "    Pada index ini, kita mengambil k dengan nilai similarity terbesar \n",
        "    pada index matrix yang diberikan (i).\n",
        "    \"\"\"\n",
        " \n",
        " \n",
        "    # Mengambil data dengan menggunakan argpartition untuk melakukan partisi secara tidak langsung sepanjang sumbu yang diberikan    \n",
        "    # Dataframe diubah menjadi numpy\n",
        "    # Range(start, stop, step)\n",
        "    index = similarity_data.loc[:,title].to_numpy().argpartition(\n",
        "        range(-1, -k, -1))\n",
        "    \n",
        "    # Mengambil data dengan similarity terbesar dari index yang ada\n",
        "    closest = similarity_data.columns[index[-1:-(k+2):-1]]\n",
        "    \n",
        "    # Drop title agar judul film yang dicari tidak muncul dalam daftar rekomendasi\n",
        "    closest = closest.drop(title, errors='ignore')\n",
        " \n",
        "    return pd.DataFrame(closest).merge(items).head(k)"
      ]
    },
    {
      "cell_type": "markdown",
      "metadata": {
        "id": "Z1QKUGwNKr8B"
      },
      "source": [
        "Selanjutnya, mari kita terapkan kode di atas untuk menemukan rekomendasi judul film yang memiliki genre yang sama dengan film 'Far from Heaven (2002)'\n",
        "\n",
        "Pertama melakukan pengecekan dulu apakah film 'Far from Heaven (2002)' itu ada pada data atau tidak"
      ]
    },
    {
      "cell_type": "code",
      "execution_count": 48,
      "metadata": {
        "colab": {
          "base_uri": "https://localhost:8080/",
          "height": 80
        },
        "id": "r_QZ7vf5ojYh",
        "outputId": "d32d8bf1-8266-434a-e047-ba2527eaf563"
      },
      "outputs": [
        {
          "data": {
            "text/html": [
              "<div>\n",
              "<style scoped>\n",
              "    .dataframe tbody tr th:only-of-type {\n",
              "        vertical-align: middle;\n",
              "    }\n",
              "\n",
              "    .dataframe tbody tr th {\n",
              "        vertical-align: top;\n",
              "    }\n",
              "\n",
              "    .dataframe thead th {\n",
              "        text-align: right;\n",
              "    }\n",
              "</style>\n",
              "<table border=\"1\" class=\"dataframe\">\n",
              "  <thead>\n",
              "    <tr style=\"text-align: right;\">\n",
              "      <th></th>\n",
              "      <th>id</th>\n",
              "      <th>title</th>\n",
              "      <th>tags</th>\n",
              "      <th>genres</th>\n",
              "    </tr>\n",
              "  </thead>\n",
              "  <tbody>\n",
              "    <tr>\n",
              "      <th>932</th>\n",
              "      <td>5812</td>\n",
              "      <td>Far from Heaven (2002)</td>\n",
              "      <td>salute to Douglas Sirk</td>\n",
              "      <td>Drama|Romance</td>\n",
              "    </tr>\n",
              "  </tbody>\n",
              "</table>\n",
              "</div>"
            ],
            "text/plain": [
              "       id                   title                    tags         genres\n",
              "932  5812  Far from Heaven (2002)  salute to Douglas Sirk  Drama|Romance"
            ]
          },
          "execution_count": 48,
          "metadata": {},
          "output_type": "execute_result"
        }
      ],
      "source": [
        "film_new[film_new.title.eq('Far from Heaven (2002)')]"
      ]
    },
    {
      "cell_type": "markdown",
      "metadata": {
        "id": "La7gtM_SUgoT"
      },
      "source": [
        "Berikutnya karena data film sudah ada saatnya melakukan percobaan untuk mendapatkan rekomendasi film . "
      ]
    },
    {
      "cell_type": "code",
      "execution_count": 49,
      "metadata": {
        "colab": {
          "base_uri": "https://localhost:8080/",
          "height": 204
        },
        "id": "iM1s7wbXpLGT",
        "outputId": "56a743a1-2b0a-4d0b-a2b8-0cabfe090adc"
      },
      "outputs": [
        {
          "data": {
            "text/html": [
              "<div>\n",
              "<style scoped>\n",
              "    .dataframe tbody tr th:only-of-type {\n",
              "        vertical-align: middle;\n",
              "    }\n",
              "\n",
              "    .dataframe tbody tr th {\n",
              "        vertical-align: top;\n",
              "    }\n",
              "\n",
              "    .dataframe thead th {\n",
              "        text-align: right;\n",
              "    }\n",
              "</style>\n",
              "<table border=\"1\" class=\"dataframe\">\n",
              "  <thead>\n",
              "    <tr style=\"text-align: right;\">\n",
              "      <th></th>\n",
              "      <th>title</th>\n",
              "      <th>genres</th>\n",
              "    </tr>\n",
              "  </thead>\n",
              "  <tbody>\n",
              "    <tr>\n",
              "      <th>0</th>\n",
              "      <td>Widow of St. Pierre, The (Veuve de Saint-Pierr...</td>\n",
              "      <td>Drama|Romance</td>\n",
              "    </tr>\n",
              "    <tr>\n",
              "      <th>1</th>\n",
              "      <td>Nicholas Nickleby (2002)</td>\n",
              "      <td>Drama|Romance</td>\n",
              "    </tr>\n",
              "    <tr>\n",
              "      <th>2</th>\n",
              "      <td>Gia (1998)</td>\n",
              "      <td>Drama|Romance</td>\n",
              "    </tr>\n",
              "    <tr>\n",
              "      <th>3</th>\n",
              "      <td>Talk to Her (Hable con Ella) (2002)</td>\n",
              "      <td>Drama|Romance</td>\n",
              "    </tr>\n",
              "    <tr>\n",
              "      <th>4</th>\n",
              "      <td>Penny Serenade (1941)</td>\n",
              "      <td>Drama|Romance</td>\n",
              "    </tr>\n",
              "  </tbody>\n",
              "</table>\n",
              "</div>"
            ],
            "text/plain": [
              "                                               title         genres\n",
              "0  Widow of St. Pierre, The (Veuve de Saint-Pierr...  Drama|Romance\n",
              "1                           Nicholas Nickleby (2002)  Drama|Romance\n",
              "2                                         Gia (1998)  Drama|Romance\n",
              "3                Talk to Her (Hable con Ella) (2002)  Drama|Romance\n",
              "4                              Penny Serenade (1941)  Drama|Romance"
            ]
          },
          "execution_count": 49,
          "metadata": {},
          "output_type": "execute_result"
        }
      ],
      "source": [
        "# Mendapatkan rekomendasi film yang mirip dengan \n",
        "film_recommendations('Far from Heaven (2002)')"
      ]
    },
    {
      "cell_type": "markdown",
      "metadata": {
        "id": "0mIjofuYUsub"
      },
      "source": [
        "Dapat dilihat bahwa film 'Far from Heaven (2002)' memiliki genre Drama | Romance dan saat kita mencoba mencari rekomendasi pun yang ditampilkan adalah data film yang memiliki genre yang sama . ini berarti kita telah berhasil membuat sistem rekomendasi dengan model content based filtering ."
      ]
    },
    {
      "cell_type": "markdown",
      "metadata": {
        "id": "OJSHz6gAVE4X"
      },
      "source": [
        "- Menggunakan model Collaborative Filtering\n",
        "\n",
        "collaborative filtering membutuhkan data rating dan user . tujuan menggunakan model ini adalah untuk mendapatkan rekomendsi judul film yang sesuai refrensi pengguna berdasarkan rating yang pernah dibuat sebelumnya .\n",
        "\n",
        "## <center> Data Understanding</center>\n",
        "\n",
        "Pertama adalah melakukan import library - library yang dibutuhkan"
      ]
    },
    {
      "cell_type": "code",
      "execution_count": 50,
      "metadata": {
        "id": "Brprdu2j0Kxc"
      },
      "outputs": [],
      "source": [
        "# Import library\n",
        "import pandas as pd\n",
        "import numpy as np \n",
        "from zipfile import ZipFile\n",
        "import tensorflow as tf\n",
        "from tensorflow import keras\n",
        "from tensorflow.keras import layers\n",
        "from pathlib import Path\n",
        "import matplotlib.pyplot as plt"
      ]
    },
    {
      "cell_type": "markdown",
      "metadata": {
        "id": "8yfzxlcRWEEa"
      },
      "source": [
        "selanjutnya kita akan melihat data rating kita guna memhami terlebih dahulu data rating yang kita miliki . disini saya mendefinisikan ulang variabel pada data rating agar tidak tertukar dengan fitur rating sebelumnya . disini saya mendefinisikan dengan df ."
      ]
    },
    {
      "cell_type": "code",
      "execution_count": 51,
      "metadata": {
        "colab": {
          "base_uri": "https://localhost:8080/",
          "height": 419
        },
        "id": "CfNdeZbe0YIj",
        "outputId": "70eaab0b-141e-4105-ec4e-3b7cd3a742d9"
      },
      "outputs": [
        {
          "data": {
            "text/html": [
              "<div>\n",
              "<style scoped>\n",
              "    .dataframe tbody tr th:only-of-type {\n",
              "        vertical-align: middle;\n",
              "    }\n",
              "\n",
              "    .dataframe tbody tr th {\n",
              "        vertical-align: top;\n",
              "    }\n",
              "\n",
              "    .dataframe thead th {\n",
              "        text-align: right;\n",
              "    }\n",
              "</style>\n",
              "<table border=\"1\" class=\"dataframe\">\n",
              "  <thead>\n",
              "    <tr style=\"text-align: right;\">\n",
              "      <th></th>\n",
              "      <th>userId</th>\n",
              "      <th>movieId</th>\n",
              "      <th>rating</th>\n",
              "    </tr>\n",
              "  </thead>\n",
              "  <tbody>\n",
              "    <tr>\n",
              "      <th>0</th>\n",
              "      <td>1</td>\n",
              "      <td>1</td>\n",
              "      <td>4.0</td>\n",
              "    </tr>\n",
              "    <tr>\n",
              "      <th>1</th>\n",
              "      <td>1</td>\n",
              "      <td>3</td>\n",
              "      <td>4.0</td>\n",
              "    </tr>\n",
              "    <tr>\n",
              "      <th>2</th>\n",
              "      <td>1</td>\n",
              "      <td>6</td>\n",
              "      <td>4.0</td>\n",
              "    </tr>\n",
              "    <tr>\n",
              "      <th>3</th>\n",
              "      <td>1</td>\n",
              "      <td>47</td>\n",
              "      <td>5.0</td>\n",
              "    </tr>\n",
              "    <tr>\n",
              "      <th>4</th>\n",
              "      <td>1</td>\n",
              "      <td>50</td>\n",
              "      <td>5.0</td>\n",
              "    </tr>\n",
              "    <tr>\n",
              "      <th>...</th>\n",
              "      <td>...</td>\n",
              "      <td>...</td>\n",
              "      <td>...</td>\n",
              "    </tr>\n",
              "    <tr>\n",
              "      <th>100831</th>\n",
              "      <td>610</td>\n",
              "      <td>166534</td>\n",
              "      <td>4.0</td>\n",
              "    </tr>\n",
              "    <tr>\n",
              "      <th>100832</th>\n",
              "      <td>610</td>\n",
              "      <td>168248</td>\n",
              "      <td>5.0</td>\n",
              "    </tr>\n",
              "    <tr>\n",
              "      <th>100833</th>\n",
              "      <td>610</td>\n",
              "      <td>168250</td>\n",
              "      <td>5.0</td>\n",
              "    </tr>\n",
              "    <tr>\n",
              "      <th>100834</th>\n",
              "      <td>610</td>\n",
              "      <td>168252</td>\n",
              "      <td>5.0</td>\n",
              "    </tr>\n",
              "    <tr>\n",
              "      <th>100835</th>\n",
              "      <td>610</td>\n",
              "      <td>170875</td>\n",
              "      <td>3.0</td>\n",
              "    </tr>\n",
              "  </tbody>\n",
              "</table>\n",
              "<p>100836 rows × 3 columns</p>\n",
              "</div>"
            ],
            "text/plain": [
              "        userId  movieId  rating\n",
              "0            1        1     4.0\n",
              "1            1        3     4.0\n",
              "2            1        6     4.0\n",
              "3            1       47     5.0\n",
              "4            1       50     5.0\n",
              "...        ...      ...     ...\n",
              "100831     610   166534     4.0\n",
              "100832     610   168248     5.0\n",
              "100833     610   168250     5.0\n",
              "100834     610   168252     5.0\n",
              "100835     610   170875     3.0\n",
              "\n",
              "[100836 rows x 3 columns]"
            ]
          },
          "execution_count": 51,
          "metadata": {},
          "output_type": "execute_result"
        }
      ],
      "source": [
        "# Membaca dataset\n",
        " \n",
        "df = rating\n",
        "df"
      ]
    },
    {
      "cell_type": "markdown",
      "metadata": {
        "id": "ceXi_h_JWWxW"
      },
      "source": [
        "## <center> Data Preparation </center>\n",
        "\n",
        "selanjutnya adalah melakukan persiapan data untuk menyandikan (encoding) fitur userId dan movieId kedalam indeks integer dengan merubahnya menjadi bentuk list terlebih dahulu lalu di encoding\n",
        "\n",
        "Pertama akan kita lakukan pada data userId terlebih dahulu"
      ]
    },
    {
      "cell_type": "code",
      "execution_count": 52,
      "metadata": {
        "colab": {
          "base_uri": "https://localhost:8080/"
        },
        "id": "VEFdzivV0cyf",
        "outputId": "145df3ac-9844-4897-d3bc-b297be296919"
      },
      "outputs": [
        {
          "name": "stdout",
          "output_type": "stream",
          "text": [
            "list userId:  [1, 2, 3, 4, 5, 6, 7, 8, 9, 10, 11, 12, 13, 14, 15, 16, 17, 18, 19, 20, 21, 22, 23, 24, 25, 26, 27, 28, 29, 30, 31, 32, 33, 34, 35, 36, 37, 38, 39, 40, 41, 42, 43, 44, 45, 46, 47, 48, 49, 50, 51, 52, 53, 54, 55, 56, 57, 58, 59, 60, 61, 62, 63, 64, 65, 66, 67, 68, 69, 70, 71, 72, 73, 74, 75, 76, 77, 78, 79, 80, 81, 82, 83, 84, 85, 86, 87, 88, 89, 90, 91, 92, 93, 94, 95, 96, 97, 98, 99, 100, 101, 102, 103, 104, 105, 106, 107, 108, 109, 110, 111, 112, 113, 114, 115, 116, 117, 118, 119, 120, 121, 122, 123, 124, 125, 126, 127, 128, 129, 130, 131, 132, 133, 134, 135, 136, 137, 138, 139, 140, 141, 142, 143, 144, 145, 146, 147, 148, 149, 150, 151, 152, 153, 154, 155, 156, 157, 158, 159, 160, 161, 162, 163, 164, 165, 166, 167, 168, 169, 170, 171, 172, 173, 174, 175, 176, 177, 178, 179, 180, 181, 182, 183, 184, 185, 186, 187, 188, 189, 190, 191, 192, 193, 194, 195, 196, 197, 198, 199, 200, 201, 202, 203, 204, 205, 206, 207, 208, 209, 210, 211, 212, 213, 214, 215, 216, 217, 218, 219, 220, 221, 222, 223, 224, 225, 226, 227, 228, 229, 230, 231, 232, 233, 234, 235, 236, 237, 238, 239, 240, 241, 242, 243, 244, 245, 246, 247, 248, 249, 250, 251, 252, 253, 254, 255, 256, 257, 258, 259, 260, 261, 262, 263, 264, 265, 266, 267, 268, 269, 270, 271, 272, 273, 274, 275, 276, 277, 278, 279, 280, 281, 282, 283, 284, 285, 286, 287, 288, 289, 290, 291, 292, 293, 294, 295, 296, 297, 298, 299, 300, 301, 302, 303, 304, 305, 306, 307, 308, 309, 310, 311, 312, 313, 314, 315, 316, 317, 318, 319, 320, 321, 322, 323, 324, 325, 326, 327, 328, 329, 330, 331, 332, 333, 334, 335, 336, 337, 338, 339, 340, 341, 342, 343, 344, 345, 346, 347, 348, 349, 350, 351, 352, 353, 354, 355, 356, 357, 358, 359, 360, 361, 362, 363, 364, 365, 366, 367, 368, 369, 370, 371, 372, 373, 374, 375, 376, 377, 378, 379, 380, 381, 382, 383, 384, 385, 386, 387, 388, 389, 390, 391, 392, 393, 394, 395, 396, 397, 398, 399, 400, 401, 402, 403, 404, 405, 406, 407, 408, 409, 410, 411, 412, 413, 414, 415, 416, 417, 418, 419, 420, 421, 422, 423, 424, 425, 426, 427, 428, 429, 430, 431, 432, 433, 434, 435, 436, 437, 438, 439, 440, 441, 442, 443, 444, 445, 446, 447, 448, 449, 450, 451, 452, 453, 454, 455, 456, 457, 458, 459, 460, 461, 462, 463, 464, 465, 466, 467, 468, 469, 470, 471, 472, 473, 474, 475, 476, 477, 478, 479, 480, 481, 482, 483, 484, 485, 486, 487, 488, 489, 490, 491, 492, 493, 494, 495, 496, 497, 498, 499, 500, 501, 502, 503, 504, 505, 506, 507, 508, 509, 510, 511, 512, 513, 514, 515, 516, 517, 518, 519, 520, 521, 522, 523, 524, 525, 526, 527, 528, 529, 530, 531, 532, 533, 534, 535, 536, 537, 538, 539, 540, 541, 542, 543, 544, 545, 546, 547, 548, 549, 550, 551, 552, 553, 554, 555, 556, 557, 558, 559, 560, 561, 562, 563, 564, 565, 566, 567, 568, 569, 570, 571, 572, 573, 574, 575, 576, 577, 578, 579, 580, 581, 582, 583, 584, 585, 586, 587, 588, 589, 590, 591, 592, 593, 594, 595, 596, 597, 598, 599, 600, 601, 602, 603, 604, 605, 606, 607, 608, 609, 610]\n",
            "encoded userId :  {1: 0, 2: 1, 3: 2, 4: 3, 5: 4, 6: 5, 7: 6, 8: 7, 9: 8, 10: 9, 11: 10, 12: 11, 13: 12, 14: 13, 15: 14, 16: 15, 17: 16, 18: 17, 19: 18, 20: 19, 21: 20, 22: 21, 23: 22, 24: 23, 25: 24, 26: 25, 27: 26, 28: 27, 29: 28, 30: 29, 31: 30, 32: 31, 33: 32, 34: 33, 35: 34, 36: 35, 37: 36, 38: 37, 39: 38, 40: 39, 41: 40, 42: 41, 43: 42, 44: 43, 45: 44, 46: 45, 47: 46, 48: 47, 49: 48, 50: 49, 51: 50, 52: 51, 53: 52, 54: 53, 55: 54, 56: 55, 57: 56, 58: 57, 59: 58, 60: 59, 61: 60, 62: 61, 63: 62, 64: 63, 65: 64, 66: 65, 67: 66, 68: 67, 69: 68, 70: 69, 71: 70, 72: 71, 73: 72, 74: 73, 75: 74, 76: 75, 77: 76, 78: 77, 79: 78, 80: 79, 81: 80, 82: 81, 83: 82, 84: 83, 85: 84, 86: 85, 87: 86, 88: 87, 89: 88, 90: 89, 91: 90, 92: 91, 93: 92, 94: 93, 95: 94, 96: 95, 97: 96, 98: 97, 99: 98, 100: 99, 101: 100, 102: 101, 103: 102, 104: 103, 105: 104, 106: 105, 107: 106, 108: 107, 109: 108, 110: 109, 111: 110, 112: 111, 113: 112, 114: 113, 115: 114, 116: 115, 117: 116, 118: 117, 119: 118, 120: 119, 121: 120, 122: 121, 123: 122, 124: 123, 125: 124, 126: 125, 127: 126, 128: 127, 129: 128, 130: 129, 131: 130, 132: 131, 133: 132, 134: 133, 135: 134, 136: 135, 137: 136, 138: 137, 139: 138, 140: 139, 141: 140, 142: 141, 143: 142, 144: 143, 145: 144, 146: 145, 147: 146, 148: 147, 149: 148, 150: 149, 151: 150, 152: 151, 153: 152, 154: 153, 155: 154, 156: 155, 157: 156, 158: 157, 159: 158, 160: 159, 161: 160, 162: 161, 163: 162, 164: 163, 165: 164, 166: 165, 167: 166, 168: 167, 169: 168, 170: 169, 171: 170, 172: 171, 173: 172, 174: 173, 175: 174, 176: 175, 177: 176, 178: 177, 179: 178, 180: 179, 181: 180, 182: 181, 183: 182, 184: 183, 185: 184, 186: 185, 187: 186, 188: 187, 189: 188, 190: 189, 191: 190, 192: 191, 193: 192, 194: 193, 195: 194, 196: 195, 197: 196, 198: 197, 199: 198, 200: 199, 201: 200, 202: 201, 203: 202, 204: 203, 205: 204, 206: 205, 207: 206, 208: 207, 209: 208, 210: 209, 211: 210, 212: 211, 213: 212, 214: 213, 215: 214, 216: 215, 217: 216, 218: 217, 219: 218, 220: 219, 221: 220, 222: 221, 223: 222, 224: 223, 225: 224, 226: 225, 227: 226, 228: 227, 229: 228, 230: 229, 231: 230, 232: 231, 233: 232, 234: 233, 235: 234, 236: 235, 237: 236, 238: 237, 239: 238, 240: 239, 241: 240, 242: 241, 243: 242, 244: 243, 245: 244, 246: 245, 247: 246, 248: 247, 249: 248, 250: 249, 251: 250, 252: 251, 253: 252, 254: 253, 255: 254, 256: 255, 257: 256, 258: 257, 259: 258, 260: 259, 261: 260, 262: 261, 263: 262, 264: 263, 265: 264, 266: 265, 267: 266, 268: 267, 269: 268, 270: 269, 271: 270, 272: 271, 273: 272, 274: 273, 275: 274, 276: 275, 277: 276, 278: 277, 279: 278, 280: 279, 281: 280, 282: 281, 283: 282, 284: 283, 285: 284, 286: 285, 287: 286, 288: 287, 289: 288, 290: 289, 291: 290, 292: 291, 293: 292, 294: 293, 295: 294, 296: 295, 297: 296, 298: 297, 299: 298, 300: 299, 301: 300, 302: 301, 303: 302, 304: 303, 305: 304, 306: 305, 307: 306, 308: 307, 309: 308, 310: 309, 311: 310, 312: 311, 313: 312, 314: 313, 315: 314, 316: 315, 317: 316, 318: 317, 319: 318, 320: 319, 321: 320, 322: 321, 323: 322, 324: 323, 325: 324, 326: 325, 327: 326, 328: 327, 329: 328, 330: 329, 331: 330, 332: 331, 333: 332, 334: 333, 335: 334, 336: 335, 337: 336, 338: 337, 339: 338, 340: 339, 341: 340, 342: 341, 343: 342, 344: 343, 345: 344, 346: 345, 347: 346, 348: 347, 349: 348, 350: 349, 351: 350, 352: 351, 353: 352, 354: 353, 355: 354, 356: 355, 357: 356, 358: 357, 359: 358, 360: 359, 361: 360, 362: 361, 363: 362, 364: 363, 365: 364, 366: 365, 367: 366, 368: 367, 369: 368, 370: 369, 371: 370, 372: 371, 373: 372, 374: 373, 375: 374, 376: 375, 377: 376, 378: 377, 379: 378, 380: 379, 381: 380, 382: 381, 383: 382, 384: 383, 385: 384, 386: 385, 387: 386, 388: 387, 389: 388, 390: 389, 391: 390, 392: 391, 393: 392, 394: 393, 395: 394, 396: 395, 397: 396, 398: 397, 399: 398, 400: 399, 401: 400, 402: 401, 403: 402, 404: 403, 405: 404, 406: 405, 407: 406, 408: 407, 409: 408, 410: 409, 411: 410, 412: 411, 413: 412, 414: 413, 415: 414, 416: 415, 417: 416, 418: 417, 419: 418, 420: 419, 421: 420, 422: 421, 423: 422, 424: 423, 425: 424, 426: 425, 427: 426, 428: 427, 429: 428, 430: 429, 431: 430, 432: 431, 433: 432, 434: 433, 435: 434, 436: 435, 437: 436, 438: 437, 439: 438, 440: 439, 441: 440, 442: 441, 443: 442, 444: 443, 445: 444, 446: 445, 447: 446, 448: 447, 449: 448, 450: 449, 451: 450, 452: 451, 453: 452, 454: 453, 455: 454, 456: 455, 457: 456, 458: 457, 459: 458, 460: 459, 461: 460, 462: 461, 463: 462, 464: 463, 465: 464, 466: 465, 467: 466, 468: 467, 469: 468, 470: 469, 471: 470, 472: 471, 473: 472, 474: 473, 475: 474, 476: 475, 477: 476, 478: 477, 479: 478, 480: 479, 481: 480, 482: 481, 483: 482, 484: 483, 485: 484, 486: 485, 487: 486, 488: 487, 489: 488, 490: 489, 491: 490, 492: 491, 493: 492, 494: 493, 495: 494, 496: 495, 497: 496, 498: 497, 499: 498, 500: 499, 501: 500, 502: 501, 503: 502, 504: 503, 505: 504, 506: 505, 507: 506, 508: 507, 509: 508, 510: 509, 511: 510, 512: 511, 513: 512, 514: 513, 515: 514, 516: 515, 517: 516, 518: 517, 519: 518, 520: 519, 521: 520, 522: 521, 523: 522, 524: 523, 525: 524, 526: 525, 527: 526, 528: 527, 529: 528, 530: 529, 531: 530, 532: 531, 533: 532, 534: 533, 535: 534, 536: 535, 537: 536, 538: 537, 539: 538, 540: 539, 541: 540, 542: 541, 543: 542, 544: 543, 545: 544, 546: 545, 547: 546, 548: 547, 549: 548, 550: 549, 551: 550, 552: 551, 553: 552, 554: 553, 555: 554, 556: 555, 557: 556, 558: 557, 559: 558, 560: 559, 561: 560, 562: 561, 563: 562, 564: 563, 565: 564, 566: 565, 567: 566, 568: 567, 569: 568, 570: 569, 571: 570, 572: 571, 573: 572, 574: 573, 575: 574, 576: 575, 577: 576, 578: 577, 579: 578, 580: 579, 581: 580, 582: 581, 583: 582, 584: 583, 585: 584, 586: 585, 587: 586, 588: 587, 589: 588, 590: 589, 591: 590, 592: 591, 593: 592, 594: 593, 595: 594, 596: 595, 597: 596, 598: 597, 599: 598, 600: 599, 601: 600, 602: 601, 603: 602, 604: 603, 605: 604, 606: 605, 607: 606, 608: 607, 609: 608, 610: 609}\n",
            "encoded angka ke userId:  {0: 1, 1: 2, 2: 3, 3: 4, 4: 5, 5: 6, 6: 7, 7: 8, 8: 9, 9: 10, 10: 11, 11: 12, 12: 13, 13: 14, 14: 15, 15: 16, 16: 17, 17: 18, 18: 19, 19: 20, 20: 21, 21: 22, 22: 23, 23: 24, 24: 25, 25: 26, 26: 27, 27: 28, 28: 29, 29: 30, 30: 31, 31: 32, 32: 33, 33: 34, 34: 35, 35: 36, 36: 37, 37: 38, 38: 39, 39: 40, 40: 41, 41: 42, 42: 43, 43: 44, 44: 45, 45: 46, 46: 47, 47: 48, 48: 49, 49: 50, 50: 51, 51: 52, 52: 53, 53: 54, 54: 55, 55: 56, 56: 57, 57: 58, 58: 59, 59: 60, 60: 61, 61: 62, 62: 63, 63: 64, 64: 65, 65: 66, 66: 67, 67: 68, 68: 69, 69: 70, 70: 71, 71: 72, 72: 73, 73: 74, 74: 75, 75: 76, 76: 77, 77: 78, 78: 79, 79: 80, 80: 81, 81: 82, 82: 83, 83: 84, 84: 85, 85: 86, 86: 87, 87: 88, 88: 89, 89: 90, 90: 91, 91: 92, 92: 93, 93: 94, 94: 95, 95: 96, 96: 97, 97: 98, 98: 99, 99: 100, 100: 101, 101: 102, 102: 103, 103: 104, 104: 105, 105: 106, 106: 107, 107: 108, 108: 109, 109: 110, 110: 111, 111: 112, 112: 113, 113: 114, 114: 115, 115: 116, 116: 117, 117: 118, 118: 119, 119: 120, 120: 121, 121: 122, 122: 123, 123: 124, 124: 125, 125: 126, 126: 127, 127: 128, 128: 129, 129: 130, 130: 131, 131: 132, 132: 133, 133: 134, 134: 135, 135: 136, 136: 137, 137: 138, 138: 139, 139: 140, 140: 141, 141: 142, 142: 143, 143: 144, 144: 145, 145: 146, 146: 147, 147: 148, 148: 149, 149: 150, 150: 151, 151: 152, 152: 153, 153: 154, 154: 155, 155: 156, 156: 157, 157: 158, 158: 159, 159: 160, 160: 161, 161: 162, 162: 163, 163: 164, 164: 165, 165: 166, 166: 167, 167: 168, 168: 169, 169: 170, 170: 171, 171: 172, 172: 173, 173: 174, 174: 175, 175: 176, 176: 177, 177: 178, 178: 179, 179: 180, 180: 181, 181: 182, 182: 183, 183: 184, 184: 185, 185: 186, 186: 187, 187: 188, 188: 189, 189: 190, 190: 191, 191: 192, 192: 193, 193: 194, 194: 195, 195: 196, 196: 197, 197: 198, 198: 199, 199: 200, 200: 201, 201: 202, 202: 203, 203: 204, 204: 205, 205: 206, 206: 207, 207: 208, 208: 209, 209: 210, 210: 211, 211: 212, 212: 213, 213: 214, 214: 215, 215: 216, 216: 217, 217: 218, 218: 219, 219: 220, 220: 221, 221: 222, 222: 223, 223: 224, 224: 225, 225: 226, 226: 227, 227: 228, 228: 229, 229: 230, 230: 231, 231: 232, 232: 233, 233: 234, 234: 235, 235: 236, 236: 237, 237: 238, 238: 239, 239: 240, 240: 241, 241: 242, 242: 243, 243: 244, 244: 245, 245: 246, 246: 247, 247: 248, 248: 249, 249: 250, 250: 251, 251: 252, 252: 253, 253: 254, 254: 255, 255: 256, 256: 257, 257: 258, 258: 259, 259: 260, 260: 261, 261: 262, 262: 263, 263: 264, 264: 265, 265: 266, 266: 267, 267: 268, 268: 269, 269: 270, 270: 271, 271: 272, 272: 273, 273: 274, 274: 275, 275: 276, 276: 277, 277: 278, 278: 279, 279: 280, 280: 281, 281: 282, 282: 283, 283: 284, 284: 285, 285: 286, 286: 287, 287: 288, 288: 289, 289: 290, 290: 291, 291: 292, 292: 293, 293: 294, 294: 295, 295: 296, 296: 297, 297: 298, 298: 299, 299: 300, 300: 301, 301: 302, 302: 303, 303: 304, 304: 305, 305: 306, 306: 307, 307: 308, 308: 309, 309: 310, 310: 311, 311: 312, 312: 313, 313: 314, 314: 315, 315: 316, 316: 317, 317: 318, 318: 319, 319: 320, 320: 321, 321: 322, 322: 323, 323: 324, 324: 325, 325: 326, 326: 327, 327: 328, 328: 329, 329: 330, 330: 331, 331: 332, 332: 333, 333: 334, 334: 335, 335: 336, 336: 337, 337: 338, 338: 339, 339: 340, 340: 341, 341: 342, 342: 343, 343: 344, 344: 345, 345: 346, 346: 347, 347: 348, 348: 349, 349: 350, 350: 351, 351: 352, 352: 353, 353: 354, 354: 355, 355: 356, 356: 357, 357: 358, 358: 359, 359: 360, 360: 361, 361: 362, 362: 363, 363: 364, 364: 365, 365: 366, 366: 367, 367: 368, 368: 369, 369: 370, 370: 371, 371: 372, 372: 373, 373: 374, 374: 375, 375: 376, 376: 377, 377: 378, 378: 379, 379: 380, 380: 381, 381: 382, 382: 383, 383: 384, 384: 385, 385: 386, 386: 387, 387: 388, 388: 389, 389: 390, 390: 391, 391: 392, 392: 393, 393: 394, 394: 395, 395: 396, 396: 397, 397: 398, 398: 399, 399: 400, 400: 401, 401: 402, 402: 403, 403: 404, 404: 405, 405: 406, 406: 407, 407: 408, 408: 409, 409: 410, 410: 411, 411: 412, 412: 413, 413: 414, 414: 415, 415: 416, 416: 417, 417: 418, 418: 419, 419: 420, 420: 421, 421: 422, 422: 423, 423: 424, 424: 425, 425: 426, 426: 427, 427: 428, 428: 429, 429: 430, 430: 431, 431: 432, 432: 433, 433: 434, 434: 435, 435: 436, 436: 437, 437: 438, 438: 439, 439: 440, 440: 441, 441: 442, 442: 443, 443: 444, 444: 445, 445: 446, 446: 447, 447: 448, 448: 449, 449: 450, 450: 451, 451: 452, 452: 453, 453: 454, 454: 455, 455: 456, 456: 457, 457: 458, 458: 459, 459: 460, 460: 461, 461: 462, 462: 463, 463: 464, 464: 465, 465: 466, 466: 467, 467: 468, 468: 469, 469: 470, 470: 471, 471: 472, 472: 473, 473: 474, 474: 475, 475: 476, 476: 477, 477: 478, 478: 479, 479: 480, 480: 481, 481: 482, 482: 483, 483: 484, 484: 485, 485: 486, 486: 487, 487: 488, 488: 489, 489: 490, 490: 491, 491: 492, 492: 493, 493: 494, 494: 495, 495: 496, 496: 497, 497: 498, 498: 499, 499: 500, 500: 501, 501: 502, 502: 503, 503: 504, 504: 505, 505: 506, 506: 507, 507: 508, 508: 509, 509: 510, 510: 511, 511: 512, 512: 513, 513: 514, 514: 515, 515: 516, 516: 517, 517: 518, 518: 519, 519: 520, 520: 521, 521: 522, 522: 523, 523: 524, 524: 525, 525: 526, 526: 527, 527: 528, 528: 529, 529: 530, 530: 531, 531: 532, 532: 533, 533: 534, 534: 535, 535: 536, 536: 537, 537: 538, 538: 539, 539: 540, 540: 541, 541: 542, 542: 543, 543: 544, 544: 545, 545: 546, 546: 547, 547: 548, 548: 549, 549: 550, 550: 551, 551: 552, 552: 553, 553: 554, 554: 555, 555: 556, 556: 557, 557: 558, 558: 559, 559: 560, 560: 561, 561: 562, 562: 563, 563: 564, 564: 565, 565: 566, 566: 567, 567: 568, 568: 569, 569: 570, 570: 571, 571: 572, 572: 573, 573: 574, 574: 575, 575: 576, 576: 577, 577: 578, 578: 579, 579: 580, 580: 581, 581: 582, 582: 583, 583: 584, 584: 585, 585: 586, 586: 587, 587: 588, 588: 589, 589: 590, 590: 591, 591: 592, 592: 593, 593: 594, 594: 595, 595: 596, 596: 597, 597: 598, 598: 599, 599: 600, 600: 601, 601: 602, 602: 603, 603: 604, 604: 605, 605: 606, 606: 607, 607: 608, 608: 609, 609: 610}\n"
          ]
        }
      ],
      "source": [
        "# Mengubah userId menjadi list tanpa nilai yang sama\n",
        "user_ids = df['userId'].unique().tolist()\n",
        "print('list userId: ', user_ids)\n",
        " \n",
        "# Melakukan encoding userId\n",
        "user_to_user_encoded = {x: i for i, x in enumerate(user_ids)}\n",
        "print('encoded userId : ', user_to_user_encoded)\n",
        " \n",
        "# Melakukan proses encoding angka ke ke userID\n",
        "user_encoded_to_user = {i: x for i, x in enumerate(user_ids)}\n",
        "print('encoded angka ke userId: ', user_encoded_to_user)"
      ]
    },
    {
      "cell_type": "markdown",
      "metadata": {
        "id": "Q9bCGZ7hW01-"
      },
      "source": [
        "Selanjutnya lakyukan hal yang sama pada fitur movieId"
      ]
    },
    {
      "cell_type": "code",
      "execution_count": 53,
      "metadata": {
        "id": "FHCkdTSV0uy2"
      },
      "outputs": [],
      "source": [
        "# Mengubah movieId menjadi list tanpa nilai yang sama\n",
        "film_ids = df['movieId'].unique().tolist()\n",
        " \n",
        "# Melakukan proses encoding movieId\n",
        "film_to_film_encoded = {x: i for i, x in enumerate(film_ids)}\n",
        " \n",
        "# Melakukan proses encoding angka ke movieId\n",
        "film_encoded_to_film = {i: x for i, x in enumerate(film_ids)}\n",
        " \n",
        "#Selanjutnya, petakan userId dan movieId ke dataframe yang berkaitan.\n",
        " \n",
        "# Mapping userId ke dataframe user\n",
        "df['user'] = df['userId'].map(user_to_user_encoded)\n",
        " \n",
        "# Mapping placeID ke dataframe resto\n",
        "df['movieId'] = df['movieId'].map(film_to_film_encoded)"
      ]
    },
    {
      "cell_type": "markdown",
      "metadata": {
        "id": "rexrV4wwXC7x"
      },
      "source": [
        "selanjutnya adalah mencoba menghitung beberapa data , seperti jumlah user , jumlah judul film ,nilai maksimal dan minimal ."
      ]
    },
    {
      "cell_type": "code",
      "execution_count": 54,
      "metadata": {
        "colab": {
          "base_uri": "https://localhost:8080/"
        },
        "id": "TnKktote1f_K",
        "outputId": "653ad932-5caf-4763-c8d3-fbb647642d0f"
      },
      "outputs": [
        {
          "name": "stdout",
          "output_type": "stream",
          "text": [
            "Jumlah keseluruhan user adalah :  610\n",
            "Jumlah keseluruhan film adalah : 9724\n",
            "Number of User: 610, Number of Film: 9724, Min Rating: 0.5, Max Rating: 5.0\n"
          ]
        }
      ],
      "source": [
        "# Mendapatkan jumlah user\n",
        "num_users = len(user_to_user_encoded)\n",
        "print('Jumlah keseluruhan user adalah : ',(num_users))\n",
        " \n",
        "# Mendapatkan jumlah film\n",
        "num_film = len(film_encoded_to_film)\n",
        "print('Jumlah keseluruhan film adalah :',(num_film))\n",
        " \n",
        "# Mengubah rating menjadi nilai float\n",
        "df['rating'] = df['rating'].values.astype(np.float32)\n",
        " \n",
        "# Nilai minimum rating\n",
        "min_rating = min(df['rating'])\n",
        " \n",
        "# Nilai maksimal rating\n",
        "max_rating = max(df['rating'])\n",
        " \n",
        "print('Number of User: {}, Number of Film: {}, Min Rating: {}, Max Rating: {}'.format(\n",
        "    num_users, num_film, min_rating, max_rating\n",
        "))"
      ]
    },
    {
      "cell_type": "markdown",
      "metadata": {
        "id": "zL_99PziXShu"
      },
      "source": [
        "Selanjutnya adalah melakukan pembagian data untuk training dan validasi.\n",
        "sebelum itu lakukan proses untuk mengacak data terlebih dahulu agar distribusinya menjadi random .\n",
        "\n"
      ]
    },
    {
      "cell_type": "code",
      "execution_count": 55,
      "metadata": {
        "colab": {
          "base_uri": "https://localhost:8080/",
          "height": 419
        },
        "id": "WG0ovIQw2B33",
        "outputId": "a0b951df-f030-4225-fab8-a97c43924166"
      },
      "outputs": [
        {
          "data": {
            "text/html": [
              "<div>\n",
              "<style scoped>\n",
              "    .dataframe tbody tr th:only-of-type {\n",
              "        vertical-align: middle;\n",
              "    }\n",
              "\n",
              "    .dataframe tbody tr th {\n",
              "        vertical-align: top;\n",
              "    }\n",
              "\n",
              "    .dataframe thead th {\n",
              "        text-align: right;\n",
              "    }\n",
              "</style>\n",
              "<table border=\"1\" class=\"dataframe\">\n",
              "  <thead>\n",
              "    <tr style=\"text-align: right;\">\n",
              "      <th></th>\n",
              "      <th>userId</th>\n",
              "      <th>movieId</th>\n",
              "      <th>rating</th>\n",
              "      <th>user</th>\n",
              "    </tr>\n",
              "  </thead>\n",
              "  <tbody>\n",
              "    <tr>\n",
              "      <th>67037</th>\n",
              "      <td>432</td>\n",
              "      <td>4730</td>\n",
              "      <td>4.5</td>\n",
              "      <td>431</td>\n",
              "    </tr>\n",
              "    <tr>\n",
              "      <th>42175</th>\n",
              "      <td>288</td>\n",
              "      <td>474</td>\n",
              "      <td>3.0</td>\n",
              "      <td>287</td>\n",
              "    </tr>\n",
              "    <tr>\n",
              "      <th>93850</th>\n",
              "      <td>599</td>\n",
              "      <td>2631</td>\n",
              "      <td>3.0</td>\n",
              "      <td>598</td>\n",
              "    </tr>\n",
              "    <tr>\n",
              "      <th>6187</th>\n",
              "      <td>42</td>\n",
              "      <td>194</td>\n",
              "      <td>4.0</td>\n",
              "      <td>41</td>\n",
              "    </tr>\n",
              "    <tr>\n",
              "      <th>12229</th>\n",
              "      <td>75</td>\n",
              "      <td>727</td>\n",
              "      <td>4.0</td>\n",
              "      <td>74</td>\n",
              "    </tr>\n",
              "    <tr>\n",
              "      <th>...</th>\n",
              "      <td>...</td>\n",
              "      <td>...</td>\n",
              "      <td>...</td>\n",
              "      <td>...</td>\n",
              "    </tr>\n",
              "    <tr>\n",
              "      <th>6265</th>\n",
              "      <td>42</td>\n",
              "      <td>1873</td>\n",
              "      <td>4.0</td>\n",
              "      <td>41</td>\n",
              "    </tr>\n",
              "    <tr>\n",
              "      <th>54886</th>\n",
              "      <td>364</td>\n",
              "      <td>524</td>\n",
              "      <td>4.0</td>\n",
              "      <td>363</td>\n",
              "    </tr>\n",
              "    <tr>\n",
              "      <th>76820</th>\n",
              "      <td>480</td>\n",
              "      <td>2240</td>\n",
              "      <td>4.0</td>\n",
              "      <td>479</td>\n",
              "    </tr>\n",
              "    <tr>\n",
              "      <th>860</th>\n",
              "      <td>6</td>\n",
              "      <td>712</td>\n",
              "      <td>3.0</td>\n",
              "      <td>5</td>\n",
              "    </tr>\n",
              "    <tr>\n",
              "      <th>15795</th>\n",
              "      <td>103</td>\n",
              "      <td>2046</td>\n",
              "      <td>5.0</td>\n",
              "      <td>102</td>\n",
              "    </tr>\n",
              "  </tbody>\n",
              "</table>\n",
              "<p>100836 rows × 4 columns</p>\n",
              "</div>"
            ],
            "text/plain": [
              "       userId  movieId  rating  user\n",
              "67037     432     4730     4.5   431\n",
              "42175     288      474     3.0   287\n",
              "93850     599     2631     3.0   598\n",
              "6187       42      194     4.0    41\n",
              "12229      75      727     4.0    74\n",
              "...       ...      ...     ...   ...\n",
              "6265       42     1873     4.0    41\n",
              "54886     364      524     4.0   363\n",
              "76820     480     2240     4.0   479\n",
              "860         6      712     3.0     5\n",
              "15795     103     2046     5.0   102\n",
              "\n",
              "[100836 rows x 4 columns]"
            ]
          },
          "execution_count": 55,
          "metadata": {},
          "output_type": "execute_result"
        }
      ],
      "source": [
        "# Mengacak dataset\n",
        "df = df.sample(frac=1, random_state=42)\n",
        "df"
      ]
    },
    {
      "cell_type": "markdown",
      "metadata": {
        "id": "ATl7K_2QX6WY"
      },
      "source": [
        "Selanjutnya, saya akan membagi data train dan validasi dengan komposisi 80:20. sebelumnya itu saya akan memetakan (mapping) data user dan movieId menjadi satu value terlebih dahulu. Lalu, membuat rating dalam skala 0 sampai 1 agar mudah dalam melakukan proses training. "
      ]
    },
    {
      "cell_type": "code",
      "execution_count": 56,
      "metadata": {
        "colab": {
          "base_uri": "https://localhost:8080/"
        },
        "id": "aDQbT4qp99VR",
        "outputId": "7a973a79-8707-4170-ca64-f0c1a121deed"
      },
      "outputs": [
        {
          "name": "stdout",
          "output_type": "stream",
          "text": [
            "[[ 431 4730]\n",
            " [ 287  474]\n",
            " [ 598 2631]\n",
            " ...\n",
            " [ 479 2240]\n",
            " [   5  712]\n",
            " [ 102 2046]] [0.88888889 0.55555556 0.55555556 ... 0.77777778 0.55555556 1.        ]\n"
          ]
        }
      ],
      "source": [
        "# Membuat variabel x untuk mencocokkan data user dan film menjadi satu value\n",
        "x = df[['user', 'movieId']].values\n",
        " \n",
        "# Membuat variabel y untuk membuat rating dari hasil \n",
        "y = df['rating'].apply(lambda x: (x - min_rating) / (max_rating - min_rating)).values\n",
        " \n",
        "# Membagi menjadi 80% data train dan 20% data validasi\n",
        "train_indices = int(0.8 * df.shape[0])\n",
        "x_train, x_val, y_train, y_val = (\n",
        "    x[:train_indices],\n",
        "    x[train_indices:],\n",
        "    y[:train_indices],\n",
        "    y[train_indices:]\n",
        ")\n",
        " \n",
        "print(x, y)"
      ]
    },
    {
      "cell_type": "markdown",
      "metadata": {
        "id": "zqIKkPECYNT-"
      },
      "source": [
        "Selanjutnya adalah memasuki proses training dimana pada tahap ini model menghitung skor kecocokan antara pengguna dan film dengan teknik embedding.\n",
        "\n",
        "Pertama, saya akan  melakukan proses embedding terhadap data user dan film. lalu melakukan operasi perkalian dot product antara embedding user dan film. setelah itu menambahkan bias untuk setiap user dan film. Skor kecocokan ditetapkan dalam skala [0,1] dengan fungsi aktivasi sigmoid.\n",
        "\n",
        "Di sini juga saya  membuat class RecommenderNet dengan keras Model class. "
      ]
    },
    {
      "cell_type": "code",
      "execution_count": 57,
      "metadata": {
        "id": "ARk0IssQ-Ywr"
      },
      "outputs": [],
      "source": [
        "class RecommenderNet(tf.keras.Model):\n",
        " \n",
        "  # Insialisasi fungsi\n",
        "  def __init__(self, num_users, num_film, embedding_size, **kwargs):\n",
        "    super(RecommenderNet, self).__init__(**kwargs)\n",
        "    self.num_users = num_users\n",
        "    self.num_film = num_film\n",
        "    self.embedding_size = embedding_size\n",
        "    self.user_embedding = layers.Embedding( # layer embedding user\n",
        "        num_users,\n",
        "        embedding_size,\n",
        "        embeddings_initializer = 'he_normal',\n",
        "        embeddings_regularizer = keras.regularizers.l2(1e-6)\n",
        "    )\n",
        "    self.user_bias = layers.Embedding(num_users, 1) # layer embedding user bias\n",
        "    self.film_embedding = layers.Embedding( # layer embeddings film\n",
        "        num_film,\n",
        "        embedding_size,\n",
        "        embeddings_initializer = 'he_normal',\n",
        "        embeddings_regularizer = keras.regularizers.l2(1e-6)\n",
        "    )\n",
        "    self.film_bias = layers.Embedding(num_film, 1) # layer embedding resto bias\n",
        " \n",
        "  def call(self, inputs):\n",
        "    user_vector = self.user_embedding(inputs[:,0]) # memanggil layer embedding 1\n",
        "    user_bias = self.user_bias(inputs[:, 0]) # memanggil layer embedding 2\n",
        "    film_vector = self.film_embedding(inputs[:, 1]) # memanggil layer embedding 3\n",
        "    film_bias = self.film_bias(inputs[:, 1]) # memanggil layer embedding 4\n",
        " \n",
        "    dot_user_film = tf.tensordot(user_vector, film_vector, 2) \n",
        " \n",
        "    x = dot_user_film + user_bias + film_bias\n",
        "    \n",
        "    return tf.nn.sigmoid(x) # activation sigmoid"
      ]
    },
    {
      "cell_type": "markdown",
      "metadata": {
        "id": "WXvbdRjnaFvE"
      },
      "source": [
        "selanjutnya melakukan proses compfile terhadap model dengan menggunakan Binary Crossentropy untuk menghitung loss function, Adam (Adaptive Moment Estimation) sebagai optimizer, dan root mean squared error (RMSE) sebagai metrics evaluation. "
      ]
    },
    {
      "cell_type": "code",
      "execution_count": 58,
      "metadata": {
        "id": "mhd_gxq---xA"
      },
      "outputs": [],
      "source": [
        "model = RecommenderNet(num_users, num_film, 50) # inisialisasi model\n",
        " \n",
        "# model compile\n",
        "model.compile(\n",
        "    loss = tf.keras.losses.BinaryCrossentropy(),\n",
        "    optimizer = keras.optimizers.Adam(learning_rate=0.001),\n",
        "    metrics=[tf.keras.metrics.RootMeanSquaredError()]\n",
        ")"
      ]
    },
    {
      "cell_type": "markdown",
      "metadata": {
        "id": "Y-zGsdLiaWbe"
      },
      "source": [
        "Memulai proses training , dengan menggunakan batch_size sebesar 32 dan pemanggilan epoch sebanyak 100 kali ."
      ]
    },
    {
      "cell_type": "code",
      "execution_count": 59,
      "metadata": {
        "colab": {
          "base_uri": "https://localhost:8080/"
        },
        "id": "JX5brpjX_DKe",
        "outputId": "edafeb33-630b-466a-c96b-95061d0a6525"
      },
      "outputs": [
        {
          "name": "stdout",
          "output_type": "stream",
          "text": [
            "Epoch 1/100\n",
            "2521/2521 [==============================] - 18s 6ms/step - loss: 0.6336 - root_mean_squared_error: 0.2296 - val_loss: 0.6177 - val_root_mean_squared_error: 0.2119\n",
            "Epoch 2/100\n",
            "2521/2521 [==============================] - 14s 5ms/step - loss: 0.6109 - root_mean_squared_error: 0.2055 - val_loss: 0.6140 - val_root_mean_squared_error: 0.2076\n",
            "Epoch 3/100\n",
            "2521/2521 [==============================] - 14s 5ms/step - loss: 0.6060 - root_mean_squared_error: 0.2000 - val_loss: 0.6106 - val_root_mean_squared_error: 0.2039\n",
            "Epoch 4/100\n",
            "2521/2521 [==============================] - 14s 6ms/step - loss: 0.6044 - root_mean_squared_error: 0.1980 - val_loss: 0.6099 - val_root_mean_squared_error: 0.2030\n",
            "Epoch 5/100\n",
            "2521/2521 [==============================] - 14s 5ms/step - loss: 0.6027 - root_mean_squared_error: 0.1959 - val_loss: 0.6086 - val_root_mean_squared_error: 0.2014\n",
            "Epoch 6/100\n",
            "2521/2521 [==============================] - 14s 5ms/step - loss: 0.6014 - root_mean_squared_error: 0.1943 - val_loss: 0.6096 - val_root_mean_squared_error: 0.2023\n",
            "Epoch 7/100\n",
            "2521/2521 [==============================] - 14s 5ms/step - loss: 0.6007 - root_mean_squared_error: 0.1933 - val_loss: 0.6082 - val_root_mean_squared_error: 0.2007\n",
            "Epoch 8/100\n",
            "2521/2521 [==============================] - 14s 5ms/step - loss: 0.5993 - root_mean_squared_error: 0.1916 - val_loss: 0.6081 - val_root_mean_squared_error: 0.2006\n",
            "Epoch 9/100\n",
            "2521/2521 [==============================] - 14s 5ms/step - loss: 0.5992 - root_mean_squared_error: 0.1911 - val_loss: 0.6084 - val_root_mean_squared_error: 0.2008\n",
            "Epoch 10/100\n",
            "2521/2521 [==============================] - 14s 5ms/step - loss: 0.5984 - root_mean_squared_error: 0.1903 - val_loss: 0.6087 - val_root_mean_squared_error: 0.2007\n",
            "Epoch 11/100\n",
            "2521/2521 [==============================] - 14s 5ms/step - loss: 0.5984 - root_mean_squared_error: 0.1901 - val_loss: 0.6094 - val_root_mean_squared_error: 0.2014\n",
            "Epoch 12/100\n",
            "2521/2521 [==============================] - 14s 5ms/step - loss: 0.5986 - root_mean_squared_error: 0.1901 - val_loss: 0.6087 - val_root_mean_squared_error: 0.2007\n",
            "Epoch 13/100\n",
            "2521/2521 [==============================] - 14s 5ms/step - loss: 0.5977 - root_mean_squared_error: 0.1891 - val_loss: 0.6092 - val_root_mean_squared_error: 0.2011\n",
            "Epoch 14/100\n",
            "2521/2521 [==============================] - 14s 5ms/step - loss: 0.5976 - root_mean_squared_error: 0.1888 - val_loss: 0.6106 - val_root_mean_squared_error: 0.2026\n",
            "Epoch 15/100\n",
            "2521/2521 [==============================] - 14s 5ms/step - loss: 0.5976 - root_mean_squared_error: 0.1888 - val_loss: 0.6102 - val_root_mean_squared_error: 0.2019\n",
            "Epoch 16/100\n",
            "2521/2521 [==============================] - 14s 5ms/step - loss: 0.5973 - root_mean_squared_error: 0.1883 - val_loss: 0.6104 - val_root_mean_squared_error: 0.2022\n",
            "Epoch 17/100\n",
            "2521/2521 [==============================] - 14s 5ms/step - loss: 0.5971 - root_mean_squared_error: 0.1882 - val_loss: 0.6093 - val_root_mean_squared_error: 0.2009\n",
            "Epoch 18/100\n",
            "2521/2521 [==============================] - 14s 5ms/step - loss: 0.5970 - root_mean_squared_error: 0.1879 - val_loss: 0.6093 - val_root_mean_squared_error: 0.2010\n",
            "Epoch 19/100\n",
            "2521/2521 [==============================] - 14s 5ms/step - loss: 0.5968 - root_mean_squared_error: 0.1876 - val_loss: 0.6088 - val_root_mean_squared_error: 0.2002\n",
            "Epoch 20/100\n",
            "2521/2521 [==============================] - 14s 5ms/step - loss: 0.5965 - root_mean_squared_error: 0.1872 - val_loss: 0.6094 - val_root_mean_squared_error: 0.2007\n",
            "Epoch 21/100\n",
            "2521/2521 [==============================] - 13s 5ms/step - loss: 0.5972 - root_mean_squared_error: 0.1880 - val_loss: 0.6099 - val_root_mean_squared_error: 0.2011\n",
            "Epoch 22/100\n",
            "2521/2521 [==============================] - 13s 5ms/step - loss: 0.5966 - root_mean_squared_error: 0.1872 - val_loss: 0.6101 - val_root_mean_squared_error: 0.2014\n",
            "Epoch 23/100\n",
            "2521/2521 [==============================] - 14s 5ms/step - loss: 0.5968 - root_mean_squared_error: 0.1875 - val_loss: 0.6109 - val_root_mean_squared_error: 0.2021\n",
            "Epoch 24/100\n",
            "2521/2521 [==============================] - 13s 5ms/step - loss: 0.5958 - root_mean_squared_error: 0.1862 - val_loss: 0.6107 - val_root_mean_squared_error: 0.2019\n",
            "Epoch 25/100\n",
            "2521/2521 [==============================] - 13s 5ms/step - loss: 0.5960 - root_mean_squared_error: 0.1865 - val_loss: 0.6106 - val_root_mean_squared_error: 0.2016\n",
            "Epoch 26/100\n",
            "2521/2521 [==============================] - 13s 5ms/step - loss: 0.5961 - root_mean_squared_error: 0.1866 - val_loss: 0.6106 - val_root_mean_squared_error: 0.2017\n",
            "Epoch 27/100\n",
            "2521/2521 [==============================] - 13s 5ms/step - loss: 0.5957 - root_mean_squared_error: 0.1861 - val_loss: 0.6102 - val_root_mean_squared_error: 0.2014\n",
            "Epoch 28/100\n",
            "2521/2521 [==============================] - 13s 5ms/step - loss: 0.5965 - root_mean_squared_error: 0.1869 - val_loss: 0.6101 - val_root_mean_squared_error: 0.2011\n",
            "Epoch 29/100\n",
            "2521/2521 [==============================] - 14s 5ms/step - loss: 0.5955 - root_mean_squared_error: 0.1858 - val_loss: 0.6101 - val_root_mean_squared_error: 0.2013\n",
            "Epoch 30/100\n",
            "2521/2521 [==============================] - 14s 5ms/step - loss: 0.5962 - root_mean_squared_error: 0.1866 - val_loss: 0.6108 - val_root_mean_squared_error: 0.2019\n",
            "Epoch 31/100\n",
            "2521/2521 [==============================] - 13s 5ms/step - loss: 0.5956 - root_mean_squared_error: 0.1859 - val_loss: 0.6102 - val_root_mean_squared_error: 0.2012\n",
            "Epoch 32/100\n",
            "2521/2521 [==============================] - 14s 5ms/step - loss: 0.5951 - root_mean_squared_error: 0.1854 - val_loss: 0.6104 - val_root_mean_squared_error: 0.2014\n",
            "Epoch 33/100\n",
            "2521/2521 [==============================] - 13s 5ms/step - loss: 0.5956 - root_mean_squared_error: 0.1858 - val_loss: 0.6106 - val_root_mean_squared_error: 0.2015\n",
            "Epoch 34/100\n",
            "2521/2521 [==============================] - 14s 5ms/step - loss: 0.5953 - root_mean_squared_error: 0.1855 - val_loss: 0.6101 - val_root_mean_squared_error: 0.2011\n",
            "Epoch 35/100\n",
            "2521/2521 [==============================] - 14s 5ms/step - loss: 0.5954 - root_mean_squared_error: 0.1856 - val_loss: 0.6109 - val_root_mean_squared_error: 0.2018\n",
            "Epoch 36/100\n",
            "2521/2521 [==============================] - 14s 5ms/step - loss: 0.5952 - root_mean_squared_error: 0.1855 - val_loss: 0.6117 - val_root_mean_squared_error: 0.2027\n",
            "Epoch 37/100\n",
            "2521/2521 [==============================] - 13s 5ms/step - loss: 0.5948 - root_mean_squared_error: 0.1850 - val_loss: 0.6116 - val_root_mean_squared_error: 0.2025\n",
            "Epoch 38/100\n",
            "2521/2521 [==============================] - 13s 5ms/step - loss: 0.5954 - root_mean_squared_error: 0.1857 - val_loss: 0.6114 - val_root_mean_squared_error: 0.2021\n",
            "Epoch 39/100\n",
            "2521/2521 [==============================] - 14s 5ms/step - loss: 0.5953 - root_mean_squared_error: 0.1856 - val_loss: 0.6118 - val_root_mean_squared_error: 0.2024\n",
            "Epoch 40/100\n",
            "2521/2521 [==============================] - 14s 5ms/step - loss: 0.5949 - root_mean_squared_error: 0.1851 - val_loss: 0.6114 - val_root_mean_squared_error: 0.2019\n",
            "Epoch 41/100\n",
            "2521/2521 [==============================] - 14s 5ms/step - loss: 0.5947 - root_mean_squared_error: 0.1849 - val_loss: 0.6111 - val_root_mean_squared_error: 0.2018\n",
            "Epoch 42/100\n",
            "2521/2521 [==============================] - 14s 5ms/step - loss: 0.5944 - root_mean_squared_error: 0.1846 - val_loss: 0.6116 - val_root_mean_squared_error: 0.2021\n",
            "Epoch 43/100\n",
            "2521/2521 [==============================] - 14s 5ms/step - loss: 0.5950 - root_mean_squared_error: 0.1851 - val_loss: 0.6120 - val_root_mean_squared_error: 0.2026\n",
            "Epoch 44/100\n",
            "2521/2521 [==============================] - 13s 5ms/step - loss: 0.5949 - root_mean_squared_error: 0.1850 - val_loss: 0.6119 - val_root_mean_squared_error: 0.2024\n",
            "Epoch 45/100\n",
            "2521/2521 [==============================] - 13s 5ms/step - loss: 0.5947 - root_mean_squared_error: 0.1849 - val_loss: 0.6110 - val_root_mean_squared_error: 0.2015\n",
            "Epoch 46/100\n",
            "2521/2521 [==============================] - 13s 5ms/step - loss: 0.5949 - root_mean_squared_error: 0.1850 - val_loss: 0.6113 - val_root_mean_squared_error: 0.2018\n",
            "Epoch 47/100\n",
            "2521/2521 [==============================] - 14s 5ms/step - loss: 0.5945 - root_mean_squared_error: 0.1846 - val_loss: 0.6111 - val_root_mean_squared_error: 0.2015\n",
            "Epoch 48/100\n",
            "2521/2521 [==============================] - 14s 5ms/step - loss: 0.5943 - root_mean_squared_error: 0.1845 - val_loss: 0.6115 - val_root_mean_squared_error: 0.2019\n",
            "Epoch 49/100\n",
            "2521/2521 [==============================] - 14s 5ms/step - loss: 0.5941 - root_mean_squared_error: 0.1842 - val_loss: 0.6112 - val_root_mean_squared_error: 0.2016\n",
            "Epoch 50/100\n",
            "2521/2521 [==============================] - 14s 5ms/step - loss: 0.5946 - root_mean_squared_error: 0.1847 - val_loss: 0.6121 - val_root_mean_squared_error: 0.2024\n",
            "Epoch 51/100\n",
            "2521/2521 [==============================] - 14s 5ms/step - loss: 0.5944 - root_mean_squared_error: 0.1846 - val_loss: 0.6126 - val_root_mean_squared_error: 0.2029\n",
            "Epoch 52/100\n",
            "2521/2521 [==============================] - 14s 5ms/step - loss: 0.5944 - root_mean_squared_error: 0.1845 - val_loss: 0.6118 - val_root_mean_squared_error: 0.2021\n",
            "Epoch 53/100\n",
            "2521/2521 [==============================] - 14s 5ms/step - loss: 0.5945 - root_mean_squared_error: 0.1846 - val_loss: 0.6119 - val_root_mean_squared_error: 0.2023\n",
            "Epoch 54/100\n",
            "2521/2521 [==============================] - 14s 5ms/step - loss: 0.5947 - root_mean_squared_error: 0.1849 - val_loss: 0.6122 - val_root_mean_squared_error: 0.2024\n",
            "Epoch 55/100\n",
            "2521/2521 [==============================] - 14s 5ms/step - loss: 0.5944 - root_mean_squared_error: 0.1845 - val_loss: 0.6127 - val_root_mean_squared_error: 0.2028\n",
            "Epoch 56/100\n",
            "2521/2521 [==============================] - 14s 5ms/step - loss: 0.5943 - root_mean_squared_error: 0.1845 - val_loss: 0.6115 - val_root_mean_squared_error: 0.2015\n",
            "Epoch 57/100\n",
            "2521/2521 [==============================] - 13s 5ms/step - loss: 0.5937 - root_mean_squared_error: 0.1838 - val_loss: 0.6122 - val_root_mean_squared_error: 0.2023\n",
            "Epoch 58/100\n",
            "2521/2521 [==============================] - 13s 5ms/step - loss: 0.5945 - root_mean_squared_error: 0.1846 - val_loss: 0.6115 - val_root_mean_squared_error: 0.2017\n",
            "Epoch 59/100\n",
            "2521/2521 [==============================] - 13s 5ms/step - loss: 0.5939 - root_mean_squared_error: 0.1842 - val_loss: 0.6114 - val_root_mean_squared_error: 0.2015\n",
            "Epoch 60/100\n",
            "2521/2521 [==============================] - 13s 5ms/step - loss: 0.5943 - root_mean_squared_error: 0.1843 - val_loss: 0.6121 - val_root_mean_squared_error: 0.2024\n",
            "Epoch 61/100\n",
            "2521/2521 [==============================] - 13s 5ms/step - loss: 0.5943 - root_mean_squared_error: 0.1846 - val_loss: 0.6127 - val_root_mean_squared_error: 0.2026\n",
            "Epoch 62/100\n",
            "2521/2521 [==============================] - 13s 5ms/step - loss: 0.5941 - root_mean_squared_error: 0.1841 - val_loss: 0.6128 - val_root_mean_squared_error: 0.2029\n",
            "Epoch 63/100\n",
            "2521/2521 [==============================] - 13s 5ms/step - loss: 0.5936 - root_mean_squared_error: 0.1839 - val_loss: 0.6130 - val_root_mean_squared_error: 0.2028\n",
            "Epoch 64/100\n",
            "2521/2521 [==============================] - 13s 5ms/step - loss: 0.5940 - root_mean_squared_error: 0.1839 - val_loss: 0.6126 - val_root_mean_squared_error: 0.2027\n",
            "Epoch 65/100\n",
            "2521/2521 [==============================] - 13s 5ms/step - loss: 0.5944 - root_mean_squared_error: 0.1849 - val_loss: 0.6140 - val_root_mean_squared_error: 0.2036\n",
            "Epoch 66/100\n",
            "2521/2521 [==============================] - 13s 5ms/step - loss: 0.5944 - root_mean_squared_error: 0.1842 - val_loss: 0.6136 - val_root_mean_squared_error: 0.2041\n",
            "Epoch 67/100\n",
            "2521/2521 [==============================] - 13s 5ms/step - loss: 0.5949 - root_mean_squared_error: 0.1857 - val_loss: 0.6134 - val_root_mean_squared_error: 0.2030\n",
            "Epoch 68/100\n",
            "2521/2521 [==============================] - 13s 5ms/step - loss: 0.5943 - root_mean_squared_error: 0.1841 - val_loss: 0.6124 - val_root_mean_squared_error: 0.2030\n",
            "Epoch 69/100\n",
            "2521/2521 [==============================] - 13s 5ms/step - loss: 0.5937 - root_mean_squared_error: 0.1843 - val_loss: 0.6131 - val_root_mean_squared_error: 0.2027\n",
            "Epoch 70/100\n",
            "2521/2521 [==============================] - 13s 5ms/step - loss: 0.5935 - root_mean_squared_error: 0.1834 - val_loss: 0.6128 - val_root_mean_squared_error: 0.2030\n",
            "Epoch 71/100\n",
            "2521/2521 [==============================] - 13s 5ms/step - loss: 0.5942 - root_mean_squared_error: 0.1847 - val_loss: 0.6140 - val_root_mean_squared_error: 0.2034\n",
            "Epoch 72/100\n",
            "2521/2521 [==============================] - 13s 5ms/step - loss: 0.5931 - root_mean_squared_error: 0.1831 - val_loss: 0.6128 - val_root_mean_squared_error: 0.2027\n",
            "Epoch 73/100\n",
            "2521/2521 [==============================] - 13s 5ms/step - loss: 0.5931 - root_mean_squared_error: 0.1835 - val_loss: 0.6129 - val_root_mean_squared_error: 0.2026\n",
            "Epoch 74/100\n",
            "2521/2521 [==============================] - 14s 5ms/step - loss: 0.5938 - root_mean_squared_error: 0.1838 - val_loss: 0.6137 - val_root_mean_squared_error: 0.2036\n",
            "Epoch 75/100\n",
            "2521/2521 [==============================] - 14s 5ms/step - loss: 0.5934 - root_mean_squared_error: 0.1837 - val_loss: 0.6138 - val_root_mean_squared_error: 0.2034\n",
            "Epoch 76/100\n",
            "2521/2521 [==============================] - 14s 5ms/step - loss: 0.5939 - root_mean_squared_error: 0.1838 - val_loss: 0.6140 - val_root_mean_squared_error: 0.2038\n",
            "Epoch 77/100\n",
            "2521/2521 [==============================] - 14s 5ms/step - loss: 0.5938 - root_mean_squared_error: 0.1842 - val_loss: 0.6143 - val_root_mean_squared_error: 0.2039\n",
            "Epoch 78/100\n",
            "2521/2521 [==============================] - 14s 6ms/step - loss: 0.5938 - root_mean_squared_error: 0.1839 - val_loss: 0.6141 - val_root_mean_squared_error: 0.2040\n",
            "Epoch 79/100\n",
            "2521/2521 [==============================] - 14s 6ms/step - loss: 0.5940 - root_mean_squared_error: 0.1844 - val_loss: 0.6147 - val_root_mean_squared_error: 0.2042\n",
            "Epoch 80/100\n",
            "2521/2521 [==============================] - 14s 6ms/step - loss: 0.5939 - root_mean_squared_error: 0.1839 - val_loss: 0.6134 - val_root_mean_squared_error: 0.2033\n",
            "Epoch 81/100\n",
            "2521/2521 [==============================] - 14s 6ms/step - loss: 0.5937 - root_mean_squared_error: 0.1840 - val_loss: 0.6140 - val_root_mean_squared_error: 0.2033\n",
            "Epoch 82/100\n",
            "2521/2521 [==============================] - 14s 6ms/step - loss: 0.5940 - root_mean_squared_error: 0.1841 - val_loss: 0.6135 - val_root_mean_squared_error: 0.2032\n",
            "Epoch 83/100\n",
            "2521/2521 [==============================] - 14s 6ms/step - loss: 0.5940 - root_mean_squared_error: 0.1845 - val_loss: 0.6142 - val_root_mean_squared_error: 0.2035\n",
            "Epoch 84/100\n",
            "2521/2521 [==============================] - 14s 6ms/step - loss: 0.5934 - root_mean_squared_error: 0.1836 - val_loss: 0.6136 - val_root_mean_squared_error: 0.2032\n",
            "Epoch 85/100\n",
            "2521/2521 [==============================] - 14s 6ms/step - loss: 0.5928 - root_mean_squared_error: 0.1832 - val_loss: 0.6143 - val_root_mean_squared_error: 0.2035\n",
            "Epoch 86/100\n",
            "2521/2521 [==============================] - 14s 6ms/step - loss: 0.5939 - root_mean_squared_error: 0.1840 - val_loss: 0.6139 - val_root_mean_squared_error: 0.2036\n",
            "Epoch 87/100\n",
            "2521/2521 [==============================] - 14s 6ms/step - loss: 0.5931 - root_mean_squared_error: 0.1835 - val_loss: 0.6140 - val_root_mean_squared_error: 0.2033\n",
            "Epoch 88/100\n",
            "2521/2521 [==============================] - 14s 6ms/step - loss: 0.5940 - root_mean_squared_error: 0.1840 - val_loss: 0.6138 - val_root_mean_squared_error: 0.2034\n",
            "Epoch 89/100\n",
            "2521/2521 [==============================] - 14s 6ms/step - loss: 0.5938 - root_mean_squared_error: 0.1844 - val_loss: 0.6139 - val_root_mean_squared_error: 0.2031\n",
            "Epoch 90/100\n",
            "2521/2521 [==============================] - 14s 6ms/step - loss: 0.5937 - root_mean_squared_error: 0.1837 - val_loss: 0.6136 - val_root_mean_squared_error: 0.2032\n",
            "Epoch 91/100\n",
            "2521/2521 [==============================] - 14s 6ms/step - loss: 0.5932 - root_mean_squared_error: 0.1837 - val_loss: 0.6143 - val_root_mean_squared_error: 0.2035\n",
            "Epoch 92/100\n",
            "2521/2521 [==============================] - 14s 6ms/step - loss: 0.5943 - root_mean_squared_error: 0.1843 - val_loss: 0.6147 - val_root_mean_squared_error: 0.2042\n",
            "Epoch 93/100\n",
            "2521/2521 [==============================] - 14s 6ms/step - loss: 0.5938 - root_mean_squared_error: 0.1844 - val_loss: 0.6148 - val_root_mean_squared_error: 0.2039\n",
            "Epoch 94/100\n",
            "2521/2521 [==============================] - 14s 6ms/step - loss: 0.5936 - root_mean_squared_error: 0.1836 - val_loss: 0.6146 - val_root_mean_squared_error: 0.2041\n",
            "Epoch 95/100\n",
            "2521/2521 [==============================] - 14s 6ms/step - loss: 0.5940 - root_mean_squared_error: 0.1848 - val_loss: 0.6154 - val_root_mean_squared_error: 0.2042\n",
            "Epoch 96/100\n",
            "2521/2521 [==============================] - 14s 6ms/step - loss: 0.5936 - root_mean_squared_error: 0.1837 - val_loss: 0.6146 - val_root_mean_squared_error: 0.2040\n",
            "Epoch 97/100\n",
            "2521/2521 [==============================] - 14s 6ms/step - loss: 0.5936 - root_mean_squared_error: 0.1844 - val_loss: 0.6159 - val_root_mean_squared_error: 0.2046\n",
            "Epoch 98/100\n",
            "2521/2521 [==============================] - 14s 6ms/step - loss: 0.5934 - root_mean_squared_error: 0.1835 - val_loss: 0.6145 - val_root_mean_squared_error: 0.2037\n",
            "Epoch 99/100\n",
            "2521/2521 [==============================] - 14s 6ms/step - loss: 0.5936 - root_mean_squared_error: 0.1842 - val_loss: 0.6159 - val_root_mean_squared_error: 0.2047\n",
            "Epoch 100/100\n",
            "2521/2521 [==============================] - 14s 6ms/step - loss: 0.5933 - root_mean_squared_error: 0.1834 - val_loss: 0.6150 - val_root_mean_squared_error: 0.2041\n"
          ]
        }
      ],
      "source": [
        "# Memulai training\n",
        " \n",
        "history = model.fit(\n",
        "    x = x_train,\n",
        "    y = y_train,\n",
        "    batch_size = 32,\n",
        "    epochs = 100,\n",
        "    validation_data = (x_val, y_val)\n",
        ")"
      ]
    },
    {
      "cell_type": "markdown",
      "metadata": {
        "id": "FCi68xYAains"
      },
      "source": [
        "Untuk melihat visualisasi proses training, saya menggunakan metrik evaluasi dengan matplotlib ."
      ]
    },
    {
      "cell_type": "code",
      "execution_count": 60,
      "metadata": {
        "colab": {
          "base_uri": "https://localhost:8080/",
          "height": 295
        },
        "id": "ttY1O4C9_EJr",
        "outputId": "511b65d7-ba6a-4256-fe44-368290e0d022"
      },
      "outputs": [
        {
          "data": {
            "image/png": "[encoded data removed]",
            "text/plain": [
              "<Figure size 432x288 with 1 Axes>"
            ]
          },
          "metadata": {
            "needs_background": "light"
          },
          "output_type": "display_data"
        }
      ],
      "source": [
        "plt.plot(history.history['root_mean_squared_error'])\n",
        "plt.plot(history.history['val_root_mean_squared_error'])\n",
        "plt.title('model_metrics')\n",
        "plt.ylabel('root_mean_squared_error')\n",
        "plt.xlabel('epoch')\n",
        "plt.legend(['train', 'test'], loc='upper left')\n",
        "plt.show()"
      ]
    },
    {
      "cell_type": "markdown",
      "metadata": {
        "id": "kzTpi89laxBo"
      },
      "source": [
        "Dari proses ini, kita memperoleh informasi bahwa nilai error akhir sebesar sekitar 0.18 dan error pada data validasi sebesar 0.20.\n",
        "\n",
        "\n",
        "selanjutnya adalah kita akan mencoba mendapatkan rekomendasi film dengan cara mengambil sampel user secara acak dan definisikan variabel film_not_choices yang merupakan daftar film yang belum pernah dilihat oleh pengguna. karena nantinya film - film yang tidak pernah dilihat ini akan direkomendasikan kepada user .\n",
        "\n",
        "seperti yang terlihat sebelumnya ,pengguna telah memberi rating pada beberapa film yang telah mereka lihat. Kita menggunakan rating ini untuk membuat rekomendasi film yang mungkin cocok untuk pengguna. Nah, film yang akan direkomendasikan tentulah film yang belum pernah dilihat oleh pengguna. Oleh karena itu, kita perlu membuat variabel film_not_choices sebagai daftar film untuk direkomendasikan pada pengguna. \n",
        "\n"
      ]
    },
    {
      "cell_type": "code",
      "execution_count": 62,
      "metadata": {
        "id": "7W4bdpI-gbLl"
      },
      "outputs": [],
      "source": [
        "film_df = film_new\n",
        "df = pd.read_csv('/content/movie_recommendation/ml-latest-small/ratings.csv')\n",
        " \n",
        "# Mengambil sample user\n",
        "user_id = df.userId.sample(1).iloc[0]\n",
        "film_choices_by_user = df[df.userId == user_id]\n",
        " \n",
        "# Operator bitwise (~), bisa diketahui di sini https://docs.python.org/3/reference/expressions.html \n",
        "film_not_choices = film_df[~film_df['id'].isin(film_choices_by_user.movieId.values)]['id'] \n",
        "film_not_choises = list(\n",
        "    set(film_not_choices)\n",
        "    .intersection(set(film_to_film_encoded.keys()))\n",
        ")\n",
        " \n",
        "film_not_choices = [[film_to_film_encoded.get(x)] for x in film_not_choices]\n",
        "user_encoder = user_to_user_encoded.get(user_id)\n",
        "user_film_array = np.hstack(\n",
        "    ([[user_encoder]] * len(film_not_choices), film_not_choices)\n",
        ")"
      ]
    },
    {
      "cell_type": "markdown",
      "metadata": {
        "id": "9qme9-uhcYb2"
      },
      "source": [
        "Selanjutnya, adalah mencoba memperoleh rekomendasi film , dengan menggunakan fungsi model.predict() dari library Keras ."
      ]
    },
    {
      "cell_type": "code",
      "execution_count": 64,
      "metadata": {
        "colab": {
          "base_uri": "https://localhost:8080/"
        },
        "id": "4i8jt7pthpzK",
        "outputId": "4e8b318c-5119-4c14-87c6-6c1545ce8df5"
      },
      "outputs": [
        {
          "name": "stdout",
          "output_type": "stream",
          "text": [
            "Showing recommendations for users: 288\n",
            "===========================\n",
            "Film with high ratings from user\n",
            "--------------------------------\n",
            "2001: A Space Odyssey (1968) : Adventure|Drama|Sci-Fi\n",
            "One Flew Over the Cuckoo's Nest (1975) : Drama\n",
            "Raiders of the Lost Ark (Indiana Jones and the Raiders of the Lost Ark) (1981) : Action|Adventure\n",
            "Lawrence of Arabia (1962) : Adventure|Drama|War\n",
            "Planet of the Apes (1968) : Action|Drama|Sci-Fi\n",
            "--------------------------------\n",
            "Top 10 film recommendation\n",
            "--------------------------------\n",
            "Paths of Glory (1957) : Drama|War\n",
            "Two Family House (2000) : Drama\n",
            "Hope and Glory (1987) : Drama\n",
            "More (1998) : Animation|Drama|Sci-Fi|IMAX\n",
            "Crossing Delancey (1988) : Comedy|Romance\n",
            "Midnight Clear, A (1992) : Drama|War\n",
            "Woman Under the Influence, A (1974) : Drama\n",
            "Adam's Rib (1949) : Comedy|Romance\n",
            "Safety Last! (1923) : Action|Comedy|Romance\n",
            "Into the Woods (1991) : Adventure|Comedy|Fantasy|Musical\n"
          ]
        }
      ],
      "source": [
        "ratings = model.predict(user_film_array).flatten()\n",
        " \n",
        "top_ratings_indices = ratings.argsort()[-10:][::-1]\n",
        "recommended_film_ids = [\n",
        "    film_encoded_to_film.get(film_not_choices[x][0]) for x in top_ratings_indices\n",
        "]\n",
        " \n",
        "print('Showing recommendations for users: {}'.format(user_id))\n",
        "print('===' * 9)\n",
        "print('Film with high ratings from user')\n",
        "print('----' * 8)\n",
        " \n",
        "top_film_user = (\n",
        "    film_choices_by_user.sort_values(\n",
        "        by = 'rating',\n",
        "        ascending=False\n",
        "    )\n",
        "    .head(5)\n",
        "    .movieId.values\n",
        ")\n",
        " \n",
        "film_df_rows = film_df[film_df['id'].isin(top_film_user)]\n",
        "for row in film_df_rows.itertuples():\n",
        "    print(row.title, ':', row.genres)\n",
        " \n",
        "print('----' * 8)\n",
        "print('Top 10 film recommendation')\n",
        "print('----' * 8)\n",
        " \n",
        "recommended_film = film_df[film_df['id'].isin(recommended_film_ids)]\n",
        "for row in recommended_film.itertuples():\n",
        "    print(row.title, ':', row.genres)"
      ]
    }
  ],
  "metadata": {
    "accelerator": "GPU",
    "colab": {
      "collapsed_sections": [],
      "name": "AYOSARAHJANGANMALES.ipynb",
      "provenance": []
    },
    "kernelspec": {
      "display_name": "Python 3",
      "name": "python3"
    },
    "language_info": {
      "name": "python"
    }
  },
  "nbformat": 4,
  "nbformat_minor": 0
}
